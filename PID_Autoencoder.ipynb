{
  "nbformat": 4,
  "nbformat_minor": 0,
  "metadata": {
    "colab": {
      "provenance": [],
      "authorship_tag": "ABX9TyOLplgNG/UIH0cXomqmiq92",
      "include_colab_link": true
    },
    "kernelspec": {
      "name": "python3",
      "display_name": "Python 3"
    },
    "language_info": {
      "name": "python"
    }
  },
  "cells": [
    {
      "cell_type": "markdown",
      "metadata": {
        "id": "view-in-github",
        "colab_type": "text"
      },
      "source": [
        "<a href=\"https://colab.research.google.com/github/sipocz/pid_time_series/blob/main/PID_Autoencoder.ipynb\" target=\"_parent\"><img src=\"https://colab.research.google.com/assets/colab-badge.svg\" alt=\"Open In Colab\"/></a>"
      ]
    },
    {
      "cell_type": "code",
      "execution_count": 1,
      "metadata": {
        "id": "083kWd9v8vB1"
      },
      "outputs": [],
      "source": [
        "import pandas as pd\n",
        "import os"
      ]
    },
    {
      "cell_type": "code",
      "source": [
        "from google.colab import drive"
      ],
      "metadata": {
        "id": "IPhZINwH83i_"
      },
      "execution_count": 2,
      "outputs": []
    },
    {
      "cell_type": "code",
      "source": [
        "drive.mount('/content/drive')"
      ],
      "metadata": {
        "colab": {
          "base_uri": "https://localhost:8080/"
        },
        "id": "AxDq3hAn85wF",
        "outputId": "6f6ae0fe-5989-40a8-c9ae-3537d20dd6ce"
      },
      "execution_count": 3,
      "outputs": [
        {
          "output_type": "stream",
          "name": "stdout",
          "text": [
            "Mounted at /content/drive\n"
          ]
        }
      ]
    },
    {
      "cell_type": "code",
      "source": [
        "user = \"SL\"\n",
        "uzem = \"Szint1\"\n",
        "data_source=\"5\"\n",
        "fname=\"DW_AX4_PIC03_toNN.csv\""
      ],
      "metadata": {
        "id": "PTZryimZ9FCp"
      },
      "execution_count": 5,
      "outputs": []
    },
    {
      "cell_type": "code",
      "source": [
        "if user==\"Anna\":\n",
        "    path = \"/content/drive/MyDrive/Egyetem_MSc/Diplomamunka/2022Anna/Data/Abb/Szint1/\"\n",
        "else:\n",
        "    #path = \"/content/drive/MyDrive/2022Anna/Data/Abb/Szteroid2/április/\"\n",
        "\n",
        "    #Üzemenkénti futtatáshoz:\n",
        "\n",
        "    #path = \"/content/drive/MyDrive/2022Anna/Data/Abb/Nor/\"\n",
        "    #path = \"/content/drive/MyDrive/2022Anna/Data/Abb/Sp/\"            #Külön kód van rá, legalul\n",
        "    path = \"/content/drive/MyDrive/2022Anna/Datapipeline/\"+data_source+\"/\"+fname\n",
        "    #path = \"/content/drive/MyDrive/2022Anna/Data/Abb/Szint3/\"\n",
        "    #path = \"/content/drive/MyDrive/2022Anna/Data/Abb/Szteroid2/\"      #KÉSZ"
      ],
      "metadata": {
        "id": "0E42xIPk9Nal"
      },
      "execution_count": 9,
      "outputs": []
    },
    {
      "cell_type": "code",
      "source": [
        "path"
      ],
      "metadata": {
        "colab": {
          "base_uri": "https://localhost:8080/",
          "height": 36
        },
        "id": "7w5acF899nZp",
        "outputId": "70fb16bc-f505-4907-871f-68fc6fab0cd9"
      },
      "execution_count": 10,
      "outputs": [
        {
          "output_type": "execute_result",
          "data": {
            "text/plain": [
              "'/content/drive/MyDrive/2022Anna/Datapipeline/5/DW_AX4_PIC03_toNN.csv'"
            ],
            "application/vnd.google.colaboratory.intrinsic+json": {
              "type": "string"
            }
          },
          "metadata": {},
          "execution_count": 10
        }
      ]
    },
    {
      "cell_type": "code",
      "source": [
        "df=pd.read_csv(path)"
      ],
      "metadata": {
        "id": "cWfi29er9zka"
      },
      "execution_count": 11,
      "outputs": []
    },
    {
      "cell_type": "code",
      "source": [
        "df.head()"
      ],
      "metadata": {
        "colab": {
          "base_uri": "https://localhost:8080/",
          "height": 270
        },
        "id": "L75Eb-f7-FTo",
        "outputId": "c81b2a90-6931-4a90-9eb0-1f701f7fe182"
      },
      "execution_count": 12,
      "outputs": [
        {
          "output_type": "execute_result",
          "data": {
            "text/plain": [
              "   2.202487230300904  2.202487230300904.1  2.202487230300904.2  \\\n",
              "0           2.202487             2.202487             2.201610   \n",
              "1           2.202487             2.201610             2.200732   \n",
              "2           2.201610             2.200732             2.199855   \n",
              "3           2.200732             2.199855             2.198978   \n",
              "4           2.199855             2.198978             2.202487   \n",
              "\n",
              "   2.2016098499298096  2.200732469558716  2.199855089187622  \\\n",
              "0            2.200732           2.199855           2.198978   \n",
              "1            2.199855           2.198978           2.202487   \n",
              "2            2.198978           2.202487           2.195468   \n",
              "3            2.202487           2.195468           2.198978   \n",
              "4            2.195468           2.198978           2.198978   \n",
              "\n",
              "   2.1989777088165283  2.202487230300904.3  2.1954681873321533  \\\n",
              "0            2.202487             2.195468            2.198978   \n",
              "1            2.195468             2.198978            2.198978   \n",
              "2            2.198978             2.198978            2.198978   \n",
              "3            2.198978             2.198978            2.202487   \n",
              "4            2.198978             2.202487            2.198978   \n",
              "\n",
              "   2.1989777088165283.1  2.1989777088165283.2  2.1989777088165283.3  \\\n",
              "0              2.198978              2.198978              2.202487   \n",
              "1              2.198978              2.202487              2.198978   \n",
              "2              2.202487              2.198978              2.202487   \n",
              "3              2.198978              2.202487              2.200732   \n",
              "4              2.202487              2.200732              2.198978   \n",
              "\n",
              "   2.202487230300904.4  2.1989777088165283.4  2.202487230300904.5  \\\n",
              "0             2.198978              2.202487             2.200732   \n",
              "1             2.202487              2.200732             2.198978   \n",
              "2             2.200732              2.198978             2.202487   \n",
              "3             2.198978              2.202487             2.200732   \n",
              "4             2.202487              2.200732             2.198978   \n",
              "\n",
              "   2.200732469558716.1  2.1989777088165283.5  2.202487230300904.6  \\\n",
              "0             2.198978              2.202487             2.200732   \n",
              "1             2.202487              2.200732             2.198978   \n",
              "2             2.200732              2.198978             2.198978   \n",
              "3             2.198978              2.198978             2.198978   \n",
              "4             2.198978              2.198978             2.200732   \n",
              "\n",
              "   2.200732469558716.2  2.1989777088165283.6  \n",
              "0             2.198978              2.198978  \n",
              "1             2.198978              2.198978  \n",
              "2             2.198978              2.200732  \n",
              "3             2.200732              2.202487  \n",
              "4             2.202487              2.205997  "
            ],
            "text/html": [
              "\n",
              "  <div id=\"df-9975daf7-bd7c-4e24-83df-76ff8c9e1f6b\">\n",
              "    <div class=\"colab-df-container\">\n",
              "      <div>\n",
              "<style scoped>\n",
              "    .dataframe tbody tr th:only-of-type {\n",
              "        vertical-align: middle;\n",
              "    }\n",
              "\n",
              "    .dataframe tbody tr th {\n",
              "        vertical-align: top;\n",
              "    }\n",
              "\n",
              "    .dataframe thead th {\n",
              "        text-align: right;\n",
              "    }\n",
              "</style>\n",
              "<table border=\"1\" class=\"dataframe\">\n",
              "  <thead>\n",
              "    <tr style=\"text-align: right;\">\n",
              "      <th></th>\n",
              "      <th>2.202487230300904</th>\n",
              "      <th>2.202487230300904.1</th>\n",
              "      <th>2.202487230300904.2</th>\n",
              "      <th>2.2016098499298096</th>\n",
              "      <th>2.200732469558716</th>\n",
              "      <th>2.199855089187622</th>\n",
              "      <th>2.1989777088165283</th>\n",
              "      <th>2.202487230300904.3</th>\n",
              "      <th>2.1954681873321533</th>\n",
              "      <th>2.1989777088165283.1</th>\n",
              "      <th>2.1989777088165283.2</th>\n",
              "      <th>2.1989777088165283.3</th>\n",
              "      <th>2.202487230300904.4</th>\n",
              "      <th>2.1989777088165283.4</th>\n",
              "      <th>2.202487230300904.5</th>\n",
              "      <th>2.200732469558716.1</th>\n",
              "      <th>2.1989777088165283.5</th>\n",
              "      <th>2.202487230300904.6</th>\n",
              "      <th>2.200732469558716.2</th>\n",
              "      <th>2.1989777088165283.6</th>\n",
              "    </tr>\n",
              "  </thead>\n",
              "  <tbody>\n",
              "    <tr>\n",
              "      <th>0</th>\n",
              "      <td>2.202487</td>\n",
              "      <td>2.202487</td>\n",
              "      <td>2.201610</td>\n",
              "      <td>2.200732</td>\n",
              "      <td>2.199855</td>\n",
              "      <td>2.198978</td>\n",
              "      <td>2.202487</td>\n",
              "      <td>2.195468</td>\n",
              "      <td>2.198978</td>\n",
              "      <td>2.198978</td>\n",
              "      <td>2.198978</td>\n",
              "      <td>2.202487</td>\n",
              "      <td>2.198978</td>\n",
              "      <td>2.202487</td>\n",
              "      <td>2.200732</td>\n",
              "      <td>2.198978</td>\n",
              "      <td>2.202487</td>\n",
              "      <td>2.200732</td>\n",
              "      <td>2.198978</td>\n",
              "      <td>2.198978</td>\n",
              "    </tr>\n",
              "    <tr>\n",
              "      <th>1</th>\n",
              "      <td>2.202487</td>\n",
              "      <td>2.201610</td>\n",
              "      <td>2.200732</td>\n",
              "      <td>2.199855</td>\n",
              "      <td>2.198978</td>\n",
              "      <td>2.202487</td>\n",
              "      <td>2.195468</td>\n",
              "      <td>2.198978</td>\n",
              "      <td>2.198978</td>\n",
              "      <td>2.198978</td>\n",
              "      <td>2.202487</td>\n",
              "      <td>2.198978</td>\n",
              "      <td>2.202487</td>\n",
              "      <td>2.200732</td>\n",
              "      <td>2.198978</td>\n",
              "      <td>2.202487</td>\n",
              "      <td>2.200732</td>\n",
              "      <td>2.198978</td>\n",
              "      <td>2.198978</td>\n",
              "      <td>2.198978</td>\n",
              "    </tr>\n",
              "    <tr>\n",
              "      <th>2</th>\n",
              "      <td>2.201610</td>\n",
              "      <td>2.200732</td>\n",
              "      <td>2.199855</td>\n",
              "      <td>2.198978</td>\n",
              "      <td>2.202487</td>\n",
              "      <td>2.195468</td>\n",
              "      <td>2.198978</td>\n",
              "      <td>2.198978</td>\n",
              "      <td>2.198978</td>\n",
              "      <td>2.202487</td>\n",
              "      <td>2.198978</td>\n",
              "      <td>2.202487</td>\n",
              "      <td>2.200732</td>\n",
              "      <td>2.198978</td>\n",
              "      <td>2.202487</td>\n",
              "      <td>2.200732</td>\n",
              "      <td>2.198978</td>\n",
              "      <td>2.198978</td>\n",
              "      <td>2.198978</td>\n",
              "      <td>2.200732</td>\n",
              "    </tr>\n",
              "    <tr>\n",
              "      <th>3</th>\n",
              "      <td>2.200732</td>\n",
              "      <td>2.199855</td>\n",
              "      <td>2.198978</td>\n",
              "      <td>2.202487</td>\n",
              "      <td>2.195468</td>\n",
              "      <td>2.198978</td>\n",
              "      <td>2.198978</td>\n",
              "      <td>2.198978</td>\n",
              "      <td>2.202487</td>\n",
              "      <td>2.198978</td>\n",
              "      <td>2.202487</td>\n",
              "      <td>2.200732</td>\n",
              "      <td>2.198978</td>\n",
              "      <td>2.202487</td>\n",
              "      <td>2.200732</td>\n",
              "      <td>2.198978</td>\n",
              "      <td>2.198978</td>\n",
              "      <td>2.198978</td>\n",
              "      <td>2.200732</td>\n",
              "      <td>2.202487</td>\n",
              "    </tr>\n",
              "    <tr>\n",
              "      <th>4</th>\n",
              "      <td>2.199855</td>\n",
              "      <td>2.198978</td>\n",
              "      <td>2.202487</td>\n",
              "      <td>2.195468</td>\n",
              "      <td>2.198978</td>\n",
              "      <td>2.198978</td>\n",
              "      <td>2.198978</td>\n",
              "      <td>2.202487</td>\n",
              "      <td>2.198978</td>\n",
              "      <td>2.202487</td>\n",
              "      <td>2.200732</td>\n",
              "      <td>2.198978</td>\n",
              "      <td>2.202487</td>\n",
              "      <td>2.200732</td>\n",
              "      <td>2.198978</td>\n",
              "      <td>2.198978</td>\n",
              "      <td>2.198978</td>\n",
              "      <td>2.200732</td>\n",
              "      <td>2.202487</td>\n",
              "      <td>2.205997</td>\n",
              "    </tr>\n",
              "  </tbody>\n",
              "</table>\n",
              "</div>\n",
              "      <button class=\"colab-df-convert\" onclick=\"convertToInteractive('df-9975daf7-bd7c-4e24-83df-76ff8c9e1f6b')\"\n",
              "              title=\"Convert this dataframe to an interactive table.\"\n",
              "              style=\"display:none;\">\n",
              "        \n",
              "  <svg xmlns=\"http://www.w3.org/2000/svg\" height=\"24px\"viewBox=\"0 0 24 24\"\n",
              "       width=\"24px\">\n",
              "    <path d=\"M0 0h24v24H0V0z\" fill=\"none\"/>\n",
              "    <path d=\"M18.56 5.44l.94 2.06.94-2.06 2.06-.94-2.06-.94-.94-2.06-.94 2.06-2.06.94zm-11 1L8.5 8.5l.94-2.06 2.06-.94-2.06-.94L8.5 2.5l-.94 2.06-2.06.94zm10 10l.94 2.06.94-2.06 2.06-.94-2.06-.94-.94-2.06-.94 2.06-2.06.94z\"/><path d=\"M17.41 7.96l-1.37-1.37c-.4-.4-.92-.59-1.43-.59-.52 0-1.04.2-1.43.59L10.3 9.45l-7.72 7.72c-.78.78-.78 2.05 0 2.83L4 21.41c.39.39.9.59 1.41.59.51 0 1.02-.2 1.41-.59l7.78-7.78 2.81-2.81c.8-.78.8-2.07 0-2.86zM5.41 20L4 18.59l7.72-7.72 1.47 1.35L5.41 20z\"/>\n",
              "  </svg>\n",
              "      </button>\n",
              "      \n",
              "  <style>\n",
              "    .colab-df-container {\n",
              "      display:flex;\n",
              "      flex-wrap:wrap;\n",
              "      gap: 12px;\n",
              "    }\n",
              "\n",
              "    .colab-df-convert {\n",
              "      background-color: #E8F0FE;\n",
              "      border: none;\n",
              "      border-radius: 50%;\n",
              "      cursor: pointer;\n",
              "      display: none;\n",
              "      fill: #1967D2;\n",
              "      height: 32px;\n",
              "      padding: 0 0 0 0;\n",
              "      width: 32px;\n",
              "    }\n",
              "\n",
              "    .colab-df-convert:hover {\n",
              "      background-color: #E2EBFA;\n",
              "      box-shadow: 0px 1px 2px rgba(60, 64, 67, 0.3), 0px 1px 3px 1px rgba(60, 64, 67, 0.15);\n",
              "      fill: #174EA6;\n",
              "    }\n",
              "\n",
              "    [theme=dark] .colab-df-convert {\n",
              "      background-color: #3B4455;\n",
              "      fill: #D2E3FC;\n",
              "    }\n",
              "\n",
              "    [theme=dark] .colab-df-convert:hover {\n",
              "      background-color: #434B5C;\n",
              "      box-shadow: 0px 1px 3px 1px rgba(0, 0, 0, 0.15);\n",
              "      filter: drop-shadow(0px 1px 2px rgba(0, 0, 0, 0.3));\n",
              "      fill: #FFFFFF;\n",
              "    }\n",
              "  </style>\n",
              "\n",
              "      <script>\n",
              "        const buttonEl =\n",
              "          document.querySelector('#df-9975daf7-bd7c-4e24-83df-76ff8c9e1f6b button.colab-df-convert');\n",
              "        buttonEl.style.display =\n",
              "          google.colab.kernel.accessAllowed ? 'block' : 'none';\n",
              "\n",
              "        async function convertToInteractive(key) {\n",
              "          const element = document.querySelector('#df-9975daf7-bd7c-4e24-83df-76ff8c9e1f6b');\n",
              "          const dataTable =\n",
              "            await google.colab.kernel.invokeFunction('convertToInteractive',\n",
              "                                                     [key], {});\n",
              "          if (!dataTable) return;\n",
              "\n",
              "          const docLinkHtml = 'Like what you see? Visit the ' +\n",
              "            '<a target=\"_blank\" href=https://colab.research.google.com/notebooks/data_table.ipynb>data table notebook</a>'\n",
              "            + ' to learn more about interactive tables.';\n",
              "          element.innerHTML = '';\n",
              "          dataTable['output_type'] = 'display_data';\n",
              "          await google.colab.output.renderOutput(dataTable, element);\n",
              "          const docLink = document.createElement('div');\n",
              "          docLink.innerHTML = docLinkHtml;\n",
              "          element.appendChild(docLink);\n",
              "        }\n",
              "      </script>\n",
              "    </div>\n",
              "  </div>\n",
              "  "
            ]
          },
          "metadata": {},
          "execution_count": 12
        }
      ]
    }
  ]
}