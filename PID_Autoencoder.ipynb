{
  "nbformat": 4,
  "nbformat_minor": 0,
  "metadata": {
    "colab": {
      "provenance": [],
      "authorship_tag": "ABX9TyMyZrrQwI3fY2G3IHJ7EpRR",
      "include_colab_link": true
    },
    "kernelspec": {
      "name": "python3",
      "display_name": "Python 3"
    },
    "language_info": {
      "name": "python"
    }
  },
  "cells": [
    {
      "cell_type": "markdown",
      "metadata": {
        "id": "view-in-github",
        "colab_type": "text"
      },
      "source": [
        "<a href=\"https://colab.research.google.com/github/sipocz/pid_time_series/blob/main/PID_Autoencoder.ipynb\" target=\"_parent\"><img src=\"https://colab.research.google.com/assets/colab-badge.svg\" alt=\"Open In Colab\"/></a>"
      ]
    },
    {
      "cell_type": "code",
      "execution_count": 1,
      "metadata": {
        "id": "083kWd9v8vB1"
      },
      "outputs": [],
      "source": [
        "import pandas as pd\n",
        "import os"
      ]
    },
    {
      "cell_type": "code",
      "source": [
        "from google.colab import drive"
      ],
      "metadata": {
        "id": "IPhZINwH83i_"
      },
      "execution_count": 2,
      "outputs": []
    },
    {
      "cell_type": "code",
      "source": [
        "drive.mount('/content/drive')"
      ],
      "metadata": {
        "colab": {
          "base_uri": "https://localhost:8080/"
        },
        "id": "AxDq3hAn85wF",
        "outputId": "fd593309-ef6e-4239-a305-d91cc4f790df"
      },
      "execution_count": 3,
      "outputs": [
        {
          "output_type": "stream",
          "name": "stdout",
          "text": [
            "Mounted at /content/drive\n"
          ]
        }
      ]
    },
    {
      "cell_type": "code",
      "source": [
        "user = \"SL\"\n",
        "uzem = \"Szint1\"\n",
        "data_source=\"5\"\n",
        "fname=\"DW_AX4_PIC03_toNN.csv\""
      ],
      "metadata": {
        "id": "PTZryimZ9FCp"
      },
      "execution_count": 4,
      "outputs": []
    },
    {
      "cell_type": "code",
      "source": [
        "if user==\"Anna\":\n",
        "    path = \"/content/drive/MyDrive/Egyetem_MSc/Diplomamunka/2022Anna/Data/Abb/Szint1/\"\n",
        "else:\n",
        "    #path = \"/content/drive/MyDrive/2022Anna/Data/Abb/Szteroid2/április/\"\n",
        "\n",
        "    #Üzemenkénti futtatáshoz:\n",
        "\n",
        "    #path = \"/content/drive/MyDrive/2022Anna/Data/Abb/Nor/\"\n",
        "    #path = \"/content/drive/MyDrive/2022Anna/Data/Abb/Sp/\"            #Külön kód van rá, legalul\n",
        "    path = \"/content/drive/MyDrive/2022Anna/Datapipeline/\"+data_source+\"/\"+fname\n",
        "    #path = \"/content/drive/MyDrive/2022Anna/Data/Abb/Szint3/\"\n",
        "    #path = \"/content/drive/MyDrive/2022Anna/Data/Abb/Szteroid2/\"      #KÉSZ"
      ],
      "metadata": {
        "id": "0E42xIPk9Nal"
      },
      "execution_count": 5,
      "outputs": []
    },
    {
      "cell_type": "code",
      "source": [
        "path"
      ],
      "metadata": {
        "colab": {
          "base_uri": "https://localhost:8080/",
          "height": 36
        },
        "id": "7w5acF899nZp",
        "outputId": "912cfdff-fc89-4f1a-9722-84b938d77374"
      },
      "execution_count": 6,
      "outputs": [
        {
          "output_type": "execute_result",
          "data": {
            "text/plain": [
              "'/content/drive/MyDrive/2022Anna/Datapipeline/5/DW_AX4_PIC03_toNN.csv'"
            ],
            "application/vnd.google.colaboratory.intrinsic+json": {
              "type": "string"
            }
          },
          "metadata": {},
          "execution_count": 6
        }
      ]
    },
    {
      "cell_type": "code",
      "source": [
        "df=pd.read_csv(path,usecols=None)"
      ],
      "metadata": {
        "id": "cWfi29er9zka"
      },
      "execution_count": 7,
      "outputs": []
    },
    {
      "cell_type": "code",
      "source": [
        "df.isnull().values.any()"
      ],
      "metadata": {
        "id": "64is9M4EDWSM",
        "outputId": "f916d2d1-a24e-4304-b9a4-1c50ee2e0f94",
        "colab": {
          "base_uri": "https://localhost:8080/"
        }
      },
      "execution_count": 8,
      "outputs": [
        {
          "output_type": "execute_result",
          "data": {
            "text/plain": [
              "False"
            ]
          },
          "metadata": {},
          "execution_count": 8
        }
      ]
    },
    {
      "cell_type": "code",
      "source": [
        "df.tail()"
      ],
      "metadata": {
        "colab": {
          "base_uri": "https://localhost:8080/",
          "height": 270
        },
        "id": "L75Eb-f7-FTo",
        "outputId": "f7e4fce5-bd5a-4452-bf12-3d53240a19ca"
      },
      "execution_count": 9,
      "outputs": [
        {
          "output_type": "execute_result",
          "data": {
            "text/plain": [
              "        2.2024872303009038  2.2024872303009038.1  2.2024872303009038.2  \\\n",
              "267710            0.112612              0.112612              0.112612   \n",
              "267711            0.112612              0.112612              0.112612   \n",
              "267712            0.112612              0.112612              0.112612   \n",
              "267713            0.112612              0.112612              0.112612   \n",
              "267714            0.112612              0.112612              0.112612   \n",
              "\n",
              "        2.2016098499298096  2.200732469558716  2.199855089187622  \\\n",
              "267710            0.112612           0.112612           0.112612   \n",
              "267711            0.112612           0.112612           0.112612   \n",
              "267712            0.112612           0.112612           0.112612   \n",
              "267713            0.112612           0.112612           0.112612   \n",
              "267714            0.112612           0.112612           0.112612   \n",
              "\n",
              "        2.1989777088165283  2.2024872303009038.3  2.1954681873321533  \\\n",
              "267710            0.112612              0.112612            0.112612   \n",
              "267711            0.112612              0.112612            0.112612   \n",
              "267712            0.112612              0.112612            0.112612   \n",
              "267713            0.112612              0.112612            0.112612   \n",
              "267714            0.112612              0.112612            0.112612   \n",
              "\n",
              "        2.1989777088165283.1  2.1989777088165283.2  2.1989777088165283.3  \\\n",
              "267710              0.112612              0.112612              0.112612   \n",
              "267711              0.112612              0.112612              0.112612   \n",
              "267712              0.112612              0.112612              0.112612   \n",
              "267713              0.112612              0.112612              0.112612   \n",
              "267714              0.112612              0.112612              0.112612   \n",
              "\n",
              "        2.2024872303009038.4  2.1989777088165283.4  2.2024872303009038.5  \\\n",
              "267710              0.112612              0.112612              0.112612   \n",
              "267711              0.112612              0.112612              0.112612   \n",
              "267712              0.112612              0.112612              0.112612   \n",
              "267713              0.112612              0.112612              0.112612   \n",
              "267714              0.112612              0.112612              0.112612   \n",
              "\n",
              "        2.200732469558716.1  2.1989777088165283.5  2.2024872303009038.6  \\\n",
              "267710             0.112612              0.112612              0.112612   \n",
              "267711             0.112612              0.112612              0.112612   \n",
              "267712             0.112612              0.112612              0.112612   \n",
              "267713             0.112612              0.112612              0.112612   \n",
              "267714             0.112612              0.112612              0.112612   \n",
              "\n",
              "        2.200732469558716.2  2.1989777088165283.6  \n",
              "267710             0.112612              0.112612  \n",
              "267711             0.112612              0.112612  \n",
              "267712             0.112612              0.112612  \n",
              "267713             0.112612              0.112612  \n",
              "267714             0.112612              0.112612  "
            ],
            "text/html": [
              "\n",
              "  <div id=\"df-fae48c89-9393-4436-b93a-38cf523f4e84\">\n",
              "    <div class=\"colab-df-container\">\n",
              "      <div>\n",
              "<style scoped>\n",
              "    .dataframe tbody tr th:only-of-type {\n",
              "        vertical-align: middle;\n",
              "    }\n",
              "\n",
              "    .dataframe tbody tr th {\n",
              "        vertical-align: top;\n",
              "    }\n",
              "\n",
              "    .dataframe thead th {\n",
              "        text-align: right;\n",
              "    }\n",
              "</style>\n",
              "<table border=\"1\" class=\"dataframe\">\n",
              "  <thead>\n",
              "    <tr style=\"text-align: right;\">\n",
              "      <th></th>\n",
              "      <th>2.2024872303009038</th>\n",
              "      <th>2.2024872303009038.1</th>\n",
              "      <th>2.2024872303009038.2</th>\n",
              "      <th>2.2016098499298096</th>\n",
              "      <th>2.200732469558716</th>\n",
              "      <th>2.199855089187622</th>\n",
              "      <th>2.1989777088165283</th>\n",
              "      <th>2.2024872303009038.3</th>\n",
              "      <th>2.1954681873321533</th>\n",
              "      <th>2.1989777088165283.1</th>\n",
              "      <th>2.1989777088165283.2</th>\n",
              "      <th>2.1989777088165283.3</th>\n",
              "      <th>2.2024872303009038.4</th>\n",
              "      <th>2.1989777088165283.4</th>\n",
              "      <th>2.2024872303009038.5</th>\n",
              "      <th>2.200732469558716.1</th>\n",
              "      <th>2.1989777088165283.5</th>\n",
              "      <th>2.2024872303009038.6</th>\n",
              "      <th>2.200732469558716.2</th>\n",
              "      <th>2.1989777088165283.6</th>\n",
              "    </tr>\n",
              "  </thead>\n",
              "  <tbody>\n",
              "    <tr>\n",
              "      <th>267710</th>\n",
              "      <td>0.112612</td>\n",
              "      <td>0.112612</td>\n",
              "      <td>0.112612</td>\n",
              "      <td>0.112612</td>\n",
              "      <td>0.112612</td>\n",
              "      <td>0.112612</td>\n",
              "      <td>0.112612</td>\n",
              "      <td>0.112612</td>\n",
              "      <td>0.112612</td>\n",
              "      <td>0.112612</td>\n",
              "      <td>0.112612</td>\n",
              "      <td>0.112612</td>\n",
              "      <td>0.112612</td>\n",
              "      <td>0.112612</td>\n",
              "      <td>0.112612</td>\n",
              "      <td>0.112612</td>\n",
              "      <td>0.112612</td>\n",
              "      <td>0.112612</td>\n",
              "      <td>0.112612</td>\n",
              "      <td>0.112612</td>\n",
              "    </tr>\n",
              "    <tr>\n",
              "      <th>267711</th>\n",
              "      <td>0.112612</td>\n",
              "      <td>0.112612</td>\n",
              "      <td>0.112612</td>\n",
              "      <td>0.112612</td>\n",
              "      <td>0.112612</td>\n",
              "      <td>0.112612</td>\n",
              "      <td>0.112612</td>\n",
              "      <td>0.112612</td>\n",
              "      <td>0.112612</td>\n",
              "      <td>0.112612</td>\n",
              "      <td>0.112612</td>\n",
              "      <td>0.112612</td>\n",
              "      <td>0.112612</td>\n",
              "      <td>0.112612</td>\n",
              "      <td>0.112612</td>\n",
              "      <td>0.112612</td>\n",
              "      <td>0.112612</td>\n",
              "      <td>0.112612</td>\n",
              "      <td>0.112612</td>\n",
              "      <td>0.112612</td>\n",
              "    </tr>\n",
              "    <tr>\n",
              "      <th>267712</th>\n",
              "      <td>0.112612</td>\n",
              "      <td>0.112612</td>\n",
              "      <td>0.112612</td>\n",
              "      <td>0.112612</td>\n",
              "      <td>0.112612</td>\n",
              "      <td>0.112612</td>\n",
              "      <td>0.112612</td>\n",
              "      <td>0.112612</td>\n",
              "      <td>0.112612</td>\n",
              "      <td>0.112612</td>\n",
              "      <td>0.112612</td>\n",
              "      <td>0.112612</td>\n",
              "      <td>0.112612</td>\n",
              "      <td>0.112612</td>\n",
              "      <td>0.112612</td>\n",
              "      <td>0.112612</td>\n",
              "      <td>0.112612</td>\n",
              "      <td>0.112612</td>\n",
              "      <td>0.112612</td>\n",
              "      <td>0.112612</td>\n",
              "    </tr>\n",
              "    <tr>\n",
              "      <th>267713</th>\n",
              "      <td>0.112612</td>\n",
              "      <td>0.112612</td>\n",
              "      <td>0.112612</td>\n",
              "      <td>0.112612</td>\n",
              "      <td>0.112612</td>\n",
              "      <td>0.112612</td>\n",
              "      <td>0.112612</td>\n",
              "      <td>0.112612</td>\n",
              "      <td>0.112612</td>\n",
              "      <td>0.112612</td>\n",
              "      <td>0.112612</td>\n",
              "      <td>0.112612</td>\n",
              "      <td>0.112612</td>\n",
              "      <td>0.112612</td>\n",
              "      <td>0.112612</td>\n",
              "      <td>0.112612</td>\n",
              "      <td>0.112612</td>\n",
              "      <td>0.112612</td>\n",
              "      <td>0.112612</td>\n",
              "      <td>0.112612</td>\n",
              "    </tr>\n",
              "    <tr>\n",
              "      <th>267714</th>\n",
              "      <td>0.112612</td>\n",
              "      <td>0.112612</td>\n",
              "      <td>0.112612</td>\n",
              "      <td>0.112612</td>\n",
              "      <td>0.112612</td>\n",
              "      <td>0.112612</td>\n",
              "      <td>0.112612</td>\n",
              "      <td>0.112612</td>\n",
              "      <td>0.112612</td>\n",
              "      <td>0.112612</td>\n",
              "      <td>0.112612</td>\n",
              "      <td>0.112612</td>\n",
              "      <td>0.112612</td>\n",
              "      <td>0.112612</td>\n",
              "      <td>0.112612</td>\n",
              "      <td>0.112612</td>\n",
              "      <td>0.112612</td>\n",
              "      <td>0.112612</td>\n",
              "      <td>0.112612</td>\n",
              "      <td>0.112612</td>\n",
              "    </tr>\n",
              "  </tbody>\n",
              "</table>\n",
              "</div>\n",
              "      <button class=\"colab-df-convert\" onclick=\"convertToInteractive('df-fae48c89-9393-4436-b93a-38cf523f4e84')\"\n",
              "              title=\"Convert this dataframe to an interactive table.\"\n",
              "              style=\"display:none;\">\n",
              "        \n",
              "  <svg xmlns=\"http://www.w3.org/2000/svg\" height=\"24px\"viewBox=\"0 0 24 24\"\n",
              "       width=\"24px\">\n",
              "    <path d=\"M0 0h24v24H0V0z\" fill=\"none\"/>\n",
              "    <path d=\"M18.56 5.44l.94 2.06.94-2.06 2.06-.94-2.06-.94-.94-2.06-.94 2.06-2.06.94zm-11 1L8.5 8.5l.94-2.06 2.06-.94-2.06-.94L8.5 2.5l-.94 2.06-2.06.94zm10 10l.94 2.06.94-2.06 2.06-.94-2.06-.94-.94-2.06-.94 2.06-2.06.94z\"/><path d=\"M17.41 7.96l-1.37-1.37c-.4-.4-.92-.59-1.43-.59-.52 0-1.04.2-1.43.59L10.3 9.45l-7.72 7.72c-.78.78-.78 2.05 0 2.83L4 21.41c.39.39.9.59 1.41.59.51 0 1.02-.2 1.41-.59l7.78-7.78 2.81-2.81c.8-.78.8-2.07 0-2.86zM5.41 20L4 18.59l7.72-7.72 1.47 1.35L5.41 20z\"/>\n",
              "  </svg>\n",
              "      </button>\n",
              "      \n",
              "  <style>\n",
              "    .colab-df-container {\n",
              "      display:flex;\n",
              "      flex-wrap:wrap;\n",
              "      gap: 12px;\n",
              "    }\n",
              "\n",
              "    .colab-df-convert {\n",
              "      background-color: #E8F0FE;\n",
              "      border: none;\n",
              "      border-radius: 50%;\n",
              "      cursor: pointer;\n",
              "      display: none;\n",
              "      fill: #1967D2;\n",
              "      height: 32px;\n",
              "      padding: 0 0 0 0;\n",
              "      width: 32px;\n",
              "    }\n",
              "\n",
              "    .colab-df-convert:hover {\n",
              "      background-color: #E2EBFA;\n",
              "      box-shadow: 0px 1px 2px rgba(60, 64, 67, 0.3), 0px 1px 3px 1px rgba(60, 64, 67, 0.15);\n",
              "      fill: #174EA6;\n",
              "    }\n",
              "\n",
              "    [theme=dark] .colab-df-convert {\n",
              "      background-color: #3B4455;\n",
              "      fill: #D2E3FC;\n",
              "    }\n",
              "\n",
              "    [theme=dark] .colab-df-convert:hover {\n",
              "      background-color: #434B5C;\n",
              "      box-shadow: 0px 1px 3px 1px rgba(0, 0, 0, 0.15);\n",
              "      filter: drop-shadow(0px 1px 2px rgba(0, 0, 0, 0.3));\n",
              "      fill: #FFFFFF;\n",
              "    }\n",
              "  </style>\n",
              "\n",
              "      <script>\n",
              "        const buttonEl =\n",
              "          document.querySelector('#df-fae48c89-9393-4436-b93a-38cf523f4e84 button.colab-df-convert');\n",
              "        buttonEl.style.display =\n",
              "          google.colab.kernel.accessAllowed ? 'block' : 'none';\n",
              "\n",
              "        async function convertToInteractive(key) {\n",
              "          const element = document.querySelector('#df-fae48c89-9393-4436-b93a-38cf523f4e84');\n",
              "          const dataTable =\n",
              "            await google.colab.kernel.invokeFunction('convertToInteractive',\n",
              "                                                     [key], {});\n",
              "          if (!dataTable) return;\n",
              "\n",
              "          const docLinkHtml = 'Like what you see? Visit the ' +\n",
              "            '<a target=\"_blank\" href=https://colab.research.google.com/notebooks/data_table.ipynb>data table notebook</a>'\n",
              "            + ' to learn more about interactive tables.';\n",
              "          element.innerHTML = '';\n",
              "          dataTable['output_type'] = 'display_data';\n",
              "          await google.colab.output.renderOutput(dataTable, element);\n",
              "          const docLink = document.createElement('div');\n",
              "          docLink.innerHTML = docLinkHtml;\n",
              "          element.appendChild(docLink);\n",
              "        }\n",
              "      </script>\n",
              "    </div>\n",
              "  </div>\n",
              "  "
            ]
          },
          "metadata": {},
          "execution_count": 9
        }
      ]
    },
    {
      "cell_type": "code",
      "source": [
        "df.mean()"
      ],
      "metadata": {
        "colab": {
          "base_uri": "https://localhost:8080/"
        },
        "id": "j1VwLEKFBz6z",
        "outputId": "c81bc895-9d78-4fa5-f831-7410c38d2041"
      },
      "execution_count": 10,
      "outputs": [
        {
          "output_type": "execute_result",
          "data": {
            "text/plain": [
              "2.2024872303009038      2.070781\n",
              "2.2024872303009038.1    2.070773\n",
              "2.2024872303009038.2    2.070765\n",
              "2.2016098499298096      2.070758\n",
              "2.200732469558716       2.070750\n",
              "2.199855089187622       2.070742\n",
              "2.1989777088165283      2.070734\n",
              "2.2024872303009038.3    2.070726\n",
              "2.1954681873321533      2.070719\n",
              "2.1989777088165283.1    2.070711\n",
              "2.1989777088165283.2    2.070703\n",
              "2.1989777088165283.3    2.070695\n",
              "2.2024872303009038.4    2.070687\n",
              "2.1989777088165283.4    2.070680\n",
              "2.2024872303009038.5    2.070672\n",
              "2.200732469558716.1     2.070664\n",
              "2.1989777088165283.5    2.070656\n",
              "2.2024872303009038.6    2.070648\n",
              "2.200732469558716.2     2.070641\n",
              "2.1989777088165283.6    2.070633\n",
              "dtype: float64"
            ]
          },
          "metadata": {},
          "execution_count": 10
        }
      ]
    },
    {
      "cell_type": "code",
      "source": [
        "from sklearn.decomposition import PCA\n",
        "\n",
        "import matplotlib.pyplot as plot\n",
        "\n",
        "df_ = df\n",
        "\n",
        "# You must normalize the data before applying the fit method\n",
        "df_normalized=(df_ - df_.mean()) / df_.std()"
      ],
      "metadata": {
        "id": "PUjriR-sCBDE"
      },
      "execution_count": 11,
      "outputs": []
    },
    {
      "cell_type": "code",
      "source": [
        "df_normalized.describe()"
      ],
      "metadata": {
        "colab": {
          "base_uri": "https://localhost:8080/",
          "height": 364
        },
        "id": "_GrdWNfzCDvg",
        "outputId": "caca28dd-6aed-42c1-df8a-8d5d594a8421"
      },
      "execution_count": 12,
      "outputs": [
        {
          "output_type": "execute_result",
          "data": {
            "text/plain": [
              "       2.2024872303009038  2.2024872303009038.1  2.2024872303009038.2  \\\n",
              "count        2.677150e+05          2.677150e+05          2.677150e+05   \n",
              "mean         1.087120e-16          7.745729e-16          6.115049e-16   \n",
              "std          1.000000e+00          1.000000e+00          1.000000e+00   \n",
              "min         -4.160477e+00         -4.160341e+00         -4.160206e+00   \n",
              "25%          2.575644e-01          2.575727e-01          2.575809e-01   \n",
              "50%          2.575644e-01          2.575727e-01          2.575809e-01   \n",
              "75%          2.646155e-01          2.646236e-01          2.646316e-01   \n",
              "max          4.954657e-01          4.954671e-01          4.954686e-01   \n",
              "\n",
              "       2.2016098499298096  2.200732469558716  2.199855089187622  \\\n",
              "count        2.677150e+05       2.677150e+05       2.677150e+05   \n",
              "mean         4.076700e-17       1.494790e-16       9.512299e-17   \n",
              "std          1.000000e+00       1.000000e+00       1.000000e+00   \n",
              "min         -4.160071e+00      -4.159935e+00      -4.159800e+00   \n",
              "25%          2.575892e-01       2.575975e-01       2.576057e-01   \n",
              "50%          2.575892e-01       2.575975e-01       2.576057e-01   \n",
              "75%          2.646397e-01       2.646477e-01       2.646558e-01   \n",
              "max          4.954700e-01       4.954714e-01       4.954728e-01   \n",
              "\n",
              "       2.1989777088165283  2.2024872303009038.3  2.1954681873321533  \\\n",
              "count        2.677150e+05          2.677150e+05        2.677150e+05   \n",
              "mean         6.115049e-16          2.717800e-16        7.338059e-16   \n",
              "std          1.000000e+00          1.000000e+00        1.000000e+00   \n",
              "min         -4.159665e+00         -4.159529e+00       -4.159394e+00   \n",
              "25%          2.576139e-01          2.576222e-01        2.576304e-01   \n",
              "50%          2.576139e-01          2.576222e-01        2.576304e-01   \n",
              "75%          2.646638e-01          2.646719e-01        2.646799e-01   \n",
              "max          4.954742e-01          4.954756e-01        4.954770e-01   \n",
              "\n",
              "       2.1989777088165283.1  2.1989777088165283.2  2.1989777088165283.3  \\\n",
              "count          2.677150e+05          2.677150e+05          2.677150e+05   \n",
              "mean           4.212590e-16          2.717800e-17          5.027930e-16   \n",
              "std            1.000000e+00          1.000000e+00          1.000000e+00   \n",
              "min           -4.159259e+00         -4.159123e+00         -4.158988e+00   \n",
              "25%            2.576387e-01          2.576469e-01          2.576552e-01   \n",
              "50%            2.576387e-01          2.576469e-01          2.576552e-01   \n",
              "75%            2.646880e-01          2.646960e-01          2.647040e-01   \n",
              "max            4.954784e-01          4.954798e-01          4.954812e-01   \n",
              "\n",
              "       2.2024872303009038.4  2.1989777088165283.4  2.2024872303009038.5  \\\n",
              "count          2.677150e+05          2.677150e+05          2.677150e+05   \n",
              "mean           3.804920e-16          8.832849e-16         -3.125470e-16   \n",
              "std            1.000000e+00          1.000000e+00          1.000000e+00   \n",
              "min           -4.158853e+00         -4.158718e+00         -4.158582e+00   \n",
              "25%            2.576634e-01          2.576717e-01          2.576799e-01   \n",
              "50%            2.576634e-01          2.576717e-01          2.576799e-01   \n",
              "75%            2.647121e-01          2.647201e-01          2.647282e-01   \n",
              "max            4.954826e-01          4.954840e-01          4.954855e-01   \n",
              "\n",
              "       2.200732469558716.1  2.1989777088165283.5  2.2024872303009038.6  \\\n",
              "count         2.677150e+05          2.677150e+05          2.677150e+05   \n",
              "mean          6.658609e-16         -5.707379e-16         -7.881619e-16   \n",
              "std           1.000000e+00          1.000000e+00          1.000000e+00   \n",
              "min          -4.158447e+00         -4.158312e+00         -4.158177e+00   \n",
              "25%           2.576882e-01          2.576964e-01          2.577047e-01   \n",
              "50%           2.576882e-01          2.576964e-01          2.577047e-01   \n",
              "75%           2.647363e-01          2.647443e-01          2.647524e-01   \n",
              "max           4.954869e-01          4.954883e-01          4.954897e-01   \n",
              "\n",
              "       2.200732469558716.2  2.1989777088165283.6  \n",
              "count         2.677150e+05          2.677150e+05  \n",
              "mean         -6.794499e-16         -1.494790e-16  \n",
              "std           1.000000e+00          1.000000e+00  \n",
              "min          -4.158041e+00         -4.157906e+00  \n",
              "25%           2.577130e-01          2.577212e-01  \n",
              "50%           2.577130e-01          2.577212e-01  \n",
              "75%           2.647604e-01          2.647684e-01  \n",
              "max           4.954911e-01          4.954925e-01  "
            ],
            "text/html": [
              "\n",
              "  <div id=\"df-188ccd5a-0dd4-4d65-9816-1cbda3673770\">\n",
              "    <div class=\"colab-df-container\">\n",
              "      <div>\n",
              "<style scoped>\n",
              "    .dataframe tbody tr th:only-of-type {\n",
              "        vertical-align: middle;\n",
              "    }\n",
              "\n",
              "    .dataframe tbody tr th {\n",
              "        vertical-align: top;\n",
              "    }\n",
              "\n",
              "    .dataframe thead th {\n",
              "        text-align: right;\n",
              "    }\n",
              "</style>\n",
              "<table border=\"1\" class=\"dataframe\">\n",
              "  <thead>\n",
              "    <tr style=\"text-align: right;\">\n",
              "      <th></th>\n",
              "      <th>2.2024872303009038</th>\n",
              "      <th>2.2024872303009038.1</th>\n",
              "      <th>2.2024872303009038.2</th>\n",
              "      <th>2.2016098499298096</th>\n",
              "      <th>2.200732469558716</th>\n",
              "      <th>2.199855089187622</th>\n",
              "      <th>2.1989777088165283</th>\n",
              "      <th>2.2024872303009038.3</th>\n",
              "      <th>2.1954681873321533</th>\n",
              "      <th>2.1989777088165283.1</th>\n",
              "      <th>2.1989777088165283.2</th>\n",
              "      <th>2.1989777088165283.3</th>\n",
              "      <th>2.2024872303009038.4</th>\n",
              "      <th>2.1989777088165283.4</th>\n",
              "      <th>2.2024872303009038.5</th>\n",
              "      <th>2.200732469558716.1</th>\n",
              "      <th>2.1989777088165283.5</th>\n",
              "      <th>2.2024872303009038.6</th>\n",
              "      <th>2.200732469558716.2</th>\n",
              "      <th>2.1989777088165283.6</th>\n",
              "    </tr>\n",
              "  </thead>\n",
              "  <tbody>\n",
              "    <tr>\n",
              "      <th>count</th>\n",
              "      <td>2.677150e+05</td>\n",
              "      <td>2.677150e+05</td>\n",
              "      <td>2.677150e+05</td>\n",
              "      <td>2.677150e+05</td>\n",
              "      <td>2.677150e+05</td>\n",
              "      <td>2.677150e+05</td>\n",
              "      <td>2.677150e+05</td>\n",
              "      <td>2.677150e+05</td>\n",
              "      <td>2.677150e+05</td>\n",
              "      <td>2.677150e+05</td>\n",
              "      <td>2.677150e+05</td>\n",
              "      <td>2.677150e+05</td>\n",
              "      <td>2.677150e+05</td>\n",
              "      <td>2.677150e+05</td>\n",
              "      <td>2.677150e+05</td>\n",
              "      <td>2.677150e+05</td>\n",
              "      <td>2.677150e+05</td>\n",
              "      <td>2.677150e+05</td>\n",
              "      <td>2.677150e+05</td>\n",
              "      <td>2.677150e+05</td>\n",
              "    </tr>\n",
              "    <tr>\n",
              "      <th>mean</th>\n",
              "      <td>1.087120e-16</td>\n",
              "      <td>7.745729e-16</td>\n",
              "      <td>6.115049e-16</td>\n",
              "      <td>4.076700e-17</td>\n",
              "      <td>1.494790e-16</td>\n",
              "      <td>9.512299e-17</td>\n",
              "      <td>6.115049e-16</td>\n",
              "      <td>2.717800e-16</td>\n",
              "      <td>7.338059e-16</td>\n",
              "      <td>4.212590e-16</td>\n",
              "      <td>2.717800e-17</td>\n",
              "      <td>5.027930e-16</td>\n",
              "      <td>3.804920e-16</td>\n",
              "      <td>8.832849e-16</td>\n",
              "      <td>-3.125470e-16</td>\n",
              "      <td>6.658609e-16</td>\n",
              "      <td>-5.707379e-16</td>\n",
              "      <td>-7.881619e-16</td>\n",
              "      <td>-6.794499e-16</td>\n",
              "      <td>-1.494790e-16</td>\n",
              "    </tr>\n",
              "    <tr>\n",
              "      <th>std</th>\n",
              "      <td>1.000000e+00</td>\n",
              "      <td>1.000000e+00</td>\n",
              "      <td>1.000000e+00</td>\n",
              "      <td>1.000000e+00</td>\n",
              "      <td>1.000000e+00</td>\n",
              "      <td>1.000000e+00</td>\n",
              "      <td>1.000000e+00</td>\n",
              "      <td>1.000000e+00</td>\n",
              "      <td>1.000000e+00</td>\n",
              "      <td>1.000000e+00</td>\n",
              "      <td>1.000000e+00</td>\n",
              "      <td>1.000000e+00</td>\n",
              "      <td>1.000000e+00</td>\n",
              "      <td>1.000000e+00</td>\n",
              "      <td>1.000000e+00</td>\n",
              "      <td>1.000000e+00</td>\n",
              "      <td>1.000000e+00</td>\n",
              "      <td>1.000000e+00</td>\n",
              "      <td>1.000000e+00</td>\n",
              "      <td>1.000000e+00</td>\n",
              "    </tr>\n",
              "    <tr>\n",
              "      <th>min</th>\n",
              "      <td>-4.160477e+00</td>\n",
              "      <td>-4.160341e+00</td>\n",
              "      <td>-4.160206e+00</td>\n",
              "      <td>-4.160071e+00</td>\n",
              "      <td>-4.159935e+00</td>\n",
              "      <td>-4.159800e+00</td>\n",
              "      <td>-4.159665e+00</td>\n",
              "      <td>-4.159529e+00</td>\n",
              "      <td>-4.159394e+00</td>\n",
              "      <td>-4.159259e+00</td>\n",
              "      <td>-4.159123e+00</td>\n",
              "      <td>-4.158988e+00</td>\n",
              "      <td>-4.158853e+00</td>\n",
              "      <td>-4.158718e+00</td>\n",
              "      <td>-4.158582e+00</td>\n",
              "      <td>-4.158447e+00</td>\n",
              "      <td>-4.158312e+00</td>\n",
              "      <td>-4.158177e+00</td>\n",
              "      <td>-4.158041e+00</td>\n",
              "      <td>-4.157906e+00</td>\n",
              "    </tr>\n",
              "    <tr>\n",
              "      <th>25%</th>\n",
              "      <td>2.575644e-01</td>\n",
              "      <td>2.575727e-01</td>\n",
              "      <td>2.575809e-01</td>\n",
              "      <td>2.575892e-01</td>\n",
              "      <td>2.575975e-01</td>\n",
              "      <td>2.576057e-01</td>\n",
              "      <td>2.576139e-01</td>\n",
              "      <td>2.576222e-01</td>\n",
              "      <td>2.576304e-01</td>\n",
              "      <td>2.576387e-01</td>\n",
              "      <td>2.576469e-01</td>\n",
              "      <td>2.576552e-01</td>\n",
              "      <td>2.576634e-01</td>\n",
              "      <td>2.576717e-01</td>\n",
              "      <td>2.576799e-01</td>\n",
              "      <td>2.576882e-01</td>\n",
              "      <td>2.576964e-01</td>\n",
              "      <td>2.577047e-01</td>\n",
              "      <td>2.577130e-01</td>\n",
              "      <td>2.577212e-01</td>\n",
              "    </tr>\n",
              "    <tr>\n",
              "      <th>50%</th>\n",
              "      <td>2.575644e-01</td>\n",
              "      <td>2.575727e-01</td>\n",
              "      <td>2.575809e-01</td>\n",
              "      <td>2.575892e-01</td>\n",
              "      <td>2.575975e-01</td>\n",
              "      <td>2.576057e-01</td>\n",
              "      <td>2.576139e-01</td>\n",
              "      <td>2.576222e-01</td>\n",
              "      <td>2.576304e-01</td>\n",
              "      <td>2.576387e-01</td>\n",
              "      <td>2.576469e-01</td>\n",
              "      <td>2.576552e-01</td>\n",
              "      <td>2.576634e-01</td>\n",
              "      <td>2.576717e-01</td>\n",
              "      <td>2.576799e-01</td>\n",
              "      <td>2.576882e-01</td>\n",
              "      <td>2.576964e-01</td>\n",
              "      <td>2.577047e-01</td>\n",
              "      <td>2.577130e-01</td>\n",
              "      <td>2.577212e-01</td>\n",
              "    </tr>\n",
              "    <tr>\n",
              "      <th>75%</th>\n",
              "      <td>2.646155e-01</td>\n",
              "      <td>2.646236e-01</td>\n",
              "      <td>2.646316e-01</td>\n",
              "      <td>2.646397e-01</td>\n",
              "      <td>2.646477e-01</td>\n",
              "      <td>2.646558e-01</td>\n",
              "      <td>2.646638e-01</td>\n",
              "      <td>2.646719e-01</td>\n",
              "      <td>2.646799e-01</td>\n",
              "      <td>2.646880e-01</td>\n",
              "      <td>2.646960e-01</td>\n",
              "      <td>2.647040e-01</td>\n",
              "      <td>2.647121e-01</td>\n",
              "      <td>2.647201e-01</td>\n",
              "      <td>2.647282e-01</td>\n",
              "      <td>2.647363e-01</td>\n",
              "      <td>2.647443e-01</td>\n",
              "      <td>2.647524e-01</td>\n",
              "      <td>2.647604e-01</td>\n",
              "      <td>2.647684e-01</td>\n",
              "    </tr>\n",
              "    <tr>\n",
              "      <th>max</th>\n",
              "      <td>4.954657e-01</td>\n",
              "      <td>4.954671e-01</td>\n",
              "      <td>4.954686e-01</td>\n",
              "      <td>4.954700e-01</td>\n",
              "      <td>4.954714e-01</td>\n",
              "      <td>4.954728e-01</td>\n",
              "      <td>4.954742e-01</td>\n",
              "      <td>4.954756e-01</td>\n",
              "      <td>4.954770e-01</td>\n",
              "      <td>4.954784e-01</td>\n",
              "      <td>4.954798e-01</td>\n",
              "      <td>4.954812e-01</td>\n",
              "      <td>4.954826e-01</td>\n",
              "      <td>4.954840e-01</td>\n",
              "      <td>4.954855e-01</td>\n",
              "      <td>4.954869e-01</td>\n",
              "      <td>4.954883e-01</td>\n",
              "      <td>4.954897e-01</td>\n",
              "      <td>4.954911e-01</td>\n",
              "      <td>4.954925e-01</td>\n",
              "    </tr>\n",
              "  </tbody>\n",
              "</table>\n",
              "</div>\n",
              "      <button class=\"colab-df-convert\" onclick=\"convertToInteractive('df-188ccd5a-0dd4-4d65-9816-1cbda3673770')\"\n",
              "              title=\"Convert this dataframe to an interactive table.\"\n",
              "              style=\"display:none;\">\n",
              "        \n",
              "  <svg xmlns=\"http://www.w3.org/2000/svg\" height=\"24px\"viewBox=\"0 0 24 24\"\n",
              "       width=\"24px\">\n",
              "    <path d=\"M0 0h24v24H0V0z\" fill=\"none\"/>\n",
              "    <path d=\"M18.56 5.44l.94 2.06.94-2.06 2.06-.94-2.06-.94-.94-2.06-.94 2.06-2.06.94zm-11 1L8.5 8.5l.94-2.06 2.06-.94-2.06-.94L8.5 2.5l-.94 2.06-2.06.94zm10 10l.94 2.06.94-2.06 2.06-.94-2.06-.94-.94-2.06-.94 2.06-2.06.94z\"/><path d=\"M17.41 7.96l-1.37-1.37c-.4-.4-.92-.59-1.43-.59-.52 0-1.04.2-1.43.59L10.3 9.45l-7.72 7.72c-.78.78-.78 2.05 0 2.83L4 21.41c.39.39.9.59 1.41.59.51 0 1.02-.2 1.41-.59l7.78-7.78 2.81-2.81c.8-.78.8-2.07 0-2.86zM5.41 20L4 18.59l7.72-7.72 1.47 1.35L5.41 20z\"/>\n",
              "  </svg>\n",
              "      </button>\n",
              "      \n",
              "  <style>\n",
              "    .colab-df-container {\n",
              "      display:flex;\n",
              "      flex-wrap:wrap;\n",
              "      gap: 12px;\n",
              "    }\n",
              "\n",
              "    .colab-df-convert {\n",
              "      background-color: #E8F0FE;\n",
              "      border: none;\n",
              "      border-radius: 50%;\n",
              "      cursor: pointer;\n",
              "      display: none;\n",
              "      fill: #1967D2;\n",
              "      height: 32px;\n",
              "      padding: 0 0 0 0;\n",
              "      width: 32px;\n",
              "    }\n",
              "\n",
              "    .colab-df-convert:hover {\n",
              "      background-color: #E2EBFA;\n",
              "      box-shadow: 0px 1px 2px rgba(60, 64, 67, 0.3), 0px 1px 3px 1px rgba(60, 64, 67, 0.15);\n",
              "      fill: #174EA6;\n",
              "    }\n",
              "\n",
              "    [theme=dark] .colab-df-convert {\n",
              "      background-color: #3B4455;\n",
              "      fill: #D2E3FC;\n",
              "    }\n",
              "\n",
              "    [theme=dark] .colab-df-convert:hover {\n",
              "      background-color: #434B5C;\n",
              "      box-shadow: 0px 1px 3px 1px rgba(0, 0, 0, 0.15);\n",
              "      filter: drop-shadow(0px 1px 2px rgba(0, 0, 0, 0.3));\n",
              "      fill: #FFFFFF;\n",
              "    }\n",
              "  </style>\n",
              "\n",
              "      <script>\n",
              "        const buttonEl =\n",
              "          document.querySelector('#df-188ccd5a-0dd4-4d65-9816-1cbda3673770 button.colab-df-convert');\n",
              "        buttonEl.style.display =\n",
              "          google.colab.kernel.accessAllowed ? 'block' : 'none';\n",
              "\n",
              "        async function convertToInteractive(key) {\n",
              "          const element = document.querySelector('#df-188ccd5a-0dd4-4d65-9816-1cbda3673770');\n",
              "          const dataTable =\n",
              "            await google.colab.kernel.invokeFunction('convertToInteractive',\n",
              "                                                     [key], {});\n",
              "          if (!dataTable) return;\n",
              "\n",
              "          const docLinkHtml = 'Like what you see? Visit the ' +\n",
              "            '<a target=\"_blank\" href=https://colab.research.google.com/notebooks/data_table.ipynb>data table notebook</a>'\n",
              "            + ' to learn more about interactive tables.';\n",
              "          element.innerHTML = '';\n",
              "          dataTable['output_type'] = 'display_data';\n",
              "          await google.colab.output.renderOutput(dataTable, element);\n",
              "          const docLink = document.createElement('div');\n",
              "          docLink.innerHTML = docLinkHtml;\n",
              "          element.appendChild(docLink);\n",
              "        }\n",
              "      </script>\n",
              "    </div>\n",
              "  </div>\n",
              "  "
            ]
          },
          "metadata": {},
          "execution_count": 12
        }
      ]
    },
    {
      "cell_type": "code",
      "source": [
        "\n",
        "\n",
        "pca = PCA(n_components=3)\n",
        "data=pca.fit_transform(df_normalized)\n",
        "\n",
        "pca.components_\n",
        "\n",
        "plot.plot(pca.explained_variance_ratio_)\n",
        "plot.ylabel('Explained Variance')\n",
        "plot.xlabel('Components')\n",
        "plot.show()"
      ],
      "metadata": {
        "colab": {
          "base_uri": "https://localhost:8080/",
          "height": 279
        },
        "id": "i4Y5N4c8BSPr",
        "outputId": "0ac8b39c-e14d-46a9-f5a5-3ec44f7ca3b3"
      },
      "execution_count": 47,
      "outputs": [
        {
          "output_type": "display_data",
          "data": {
            "text/plain": [
              "<Figure size 432x288 with 1 Axes>"
            ],
            "image/png": "[encoded data removed]"
          },
          "metadata": {
            "needs_background": "light"
          }
        }
      ]
    },
    {
      "cell_type": "code",
      "source": [
        "plot.scatter(data[:,0],data[:,1],c=\"r\",marker=\".\")\n",
        "plot.ylabel('feature A')\n",
        "plot.xlabel('feature B')\n",
        "plot.show()"
      ],
      "metadata": {
        "colab": {
          "base_uri": "https://localhost:8080/",
          "height": 279
        },
        "id": "uzjP_YHiGRnW",
        "outputId": "9f7c0e04-e992-48d2-be13-8799dc830a32"
      },
      "execution_count": 21,
      "outputs": [
        {
          "output_type": "display_data",
          "data": {
            "text/plain": [
              "<Figure size 432x288 with 1 Axes>"
            ],
            "image/png": "[encoded data removed]"
          },
          "metadata": {
            "needs_background": "light"
          }
        }
      ]
    },
    {
      "cell_type": "code",
      "source": [
        "pca = PCA(n_components=3)\n",
        "\n",
        "data2=pca.fit_transform(df_normalized[:-133000])\n",
        "\n",
        "\n",
        "pca.components_\n",
        "\n",
        "plot.plot(pca.explained_variance_ratio_)\n",
        "plot.ylabel('Explained Variance')\n",
        "plot.xlabel('Components')\n",
        "plot.show()"
      ],
      "metadata": {
        "colab": {
          "base_uri": "https://localhost:8080/",
          "height": 279
        },
        "id": "QqO-08fLM_Gu",
        "outputId": "43961fb4-c9a0-4192-ce87-65dd0290cf77"
      },
      "execution_count": 35,
      "outputs": [
        {
          "output_type": "display_data",
          "data": {
            "text/plain": [
              "<Figure size 432x288 with 1 Axes>"
            ],
            "image/png": "[encoded data removed]"
          },
          "metadata": {
            "needs_background": "light"
          }
        }
      ]
    },
    {
      "cell_type": "code",
      "source": [
        "plot.scatter(data2[:,0],data2[:,1],c=\"r\",marker=\".\")\n",
        "plot.ylabel('feature A')\n",
        "plot.xlabel('feature B')\n",
        "plot.show()"
      ],
      "metadata": {
        "colab": {
          "base_uri": "https://localhost:8080/",
          "height": 279
        },
        "id": "Tl3cwbo4NOkl",
        "outputId": "0225c87d-4bf9-40c0-c6db-0f760c2f7b5b"
      },
      "execution_count": 36,
      "outputs": [
        {
          "output_type": "display_data",
          "data": {
            "text/plain": [
              "<Figure size 432x288 with 1 Axes>"
            ],
            "image/png": "[encoded data removed]"
          },
          "metadata": {
            "needs_background": "light"
          }
        }
      ]
    },
    {
      "cell_type": "code",
      "source": [
        "pca = PCA(n_components=3)\n",
        "data2=pca.fit(df_normalized)\n",
        "data2=pca.transform(df_normalized[0:-210000])\n",
        "pca.components_\n",
        "\n",
        "plot.plot(pca.explained_variance_ratio_)\n",
        "plot.ylabel('Explained Variance')\n",
        "plot.xlabel('Components')\n",
        "plot.show()"
      ],
      "metadata": {
        "colab": {
          "base_uri": "https://localhost:8080/",
          "height": 279
        },
        "id": "9TshdjWqPS3P",
        "outputId": "c06c33e1-0fee-42b3-a4e7-f33c35253fc2"
      },
      "execution_count": 53,
      "outputs": [
        {
          "output_type": "display_data",
          "data": {
            "text/plain": [
              "<Figure size 432x288 with 1 Axes>"
            ],
            "image/png": "[encoded data removed]"
          },
          "metadata": {
            "needs_background": "light"
          }
        }
      ]
    },
    {
      "cell_type": "code",
      "source": [
        "plot.scatter(data2[:,0],data2[:,1],c=\"r\",marker=\".\")\n",
        "plot.ylabel('feature A')\n",
        "plot.xlabel('feature B')\n",
        "plot.show()"
      ],
      "metadata": {
        "colab": {
          "base_uri": "https://localhost:8080/",
          "height": 279
        },
        "id": "ZdG366CMPXwE",
        "outputId": "040e4cdd-6a59-4350-86e7-276fbf99cf00"
      },
      "execution_count": 54,
      "outputs": [
        {
          "output_type": "display_data",
          "data": {
            "text/plain": [
              "<Figure size 432x288 with 1 Axes>"
            ],
            "image/png": "[encoded data removed]"
          },
          "metadata": {
            "needs_background": "light"
          }
        }
      ]
    },
    {
      "cell_type": "code",
      "source": [
        "data2=pca.transform(df_normalized[-210000:])"
      ],
      "metadata": {
        "id": "Bz17_Z8mRgiO"
      },
      "execution_count": 57,
      "outputs": []
    },
    {
      "cell_type": "code",
      "source": [
        "plot.scatter(data2[:,0],data2[:,1],c=\"r\",marker=\".\")\n",
        "plot.ylabel('feature A')\n",
        "plot.xlabel('feature B')\n",
        "plot.show()"
      ],
      "metadata": {
        "colab": {
          "base_uri": "https://localhost:8080/",
          "height": 279
        },
        "id": "SOW0Fwq7RjAa",
        "outputId": "f0fca52e-c4e8-438a-8f6d-734bbf1df6f2"
      },
      "execution_count": 58,
      "outputs": [
        {
          "output_type": "display_data",
          "data": {
            "text/plain": [
              "<Figure size 432x288 with 1 Axes>"
            ],
            "image/png": "[encoded data removed]"
          },
          "metadata": {
            "needs_background": "light"
          }
        }
      ]
    }
  ]
}