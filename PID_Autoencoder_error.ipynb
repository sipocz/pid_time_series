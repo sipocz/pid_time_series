{
  "nbformat": 4,
  "nbformat_minor": 0,
  "metadata": {
    "colab": {
      "provenance": [],
      "authorship_tag": "ABX9TyOP93EFlLS5Z/l0rTLsnnRG",
      "include_colab_link": true
    },
    "kernelspec": {
      "name": "python3",
      "display_name": "Python 3"
    },
    "language_info": {
      "name": "python"
    }
  },
  "cells": [
    {
      "cell_type": "markdown",
      "metadata": {
        "id": "view-in-github",
        "colab_type": "text"
      },
      "source": [
        "<a href=\"https://colab.research.google.com/github/sipocz/pid_time_series/blob/main/PID_Autoencoder_error.ipynb\" target=\"_parent\"><img src=\"https://colab.research.google.com/assets/colab-badge.svg\" alt=\"Open In Colab\"/></a>"
      ]
    },
    {
      "cell_type": "code",
      "execution_count": 1,
      "metadata": {
        "id": "083kWd9v8vB1"
      },
      "outputs": [],
      "source": [
        "import pandas as pd\n",
        "import os"
      ]
    },
    {
      "cell_type": "code",
      "source": [
        "from google.colab import drive"
      ],
      "metadata": {
        "id": "IPhZINwH83i_"
      },
      "execution_count": 2,
      "outputs": []
    },
    {
      "cell_type": "code",
      "source": [
        "drive.mount('/content/drive')"
      ],
      "metadata": {
        "colab": {
          "base_uri": "https://localhost:8080/"
        },
        "id": "AxDq3hAn85wF",
        "outputId": "f7c84a30-2a22-4ace-d8ac-3133ab632fff"
      },
      "execution_count": 3,
      "outputs": [
        {
          "output_type": "stream",
          "name": "stdout",
          "text": [
            "Drive already mounted at /content/drive; to attempt to forcibly remount, call drive.mount(\"/content/drive\", force_remount=True).\n"
          ]
        }
      ]
    },
    {
      "cell_type": "code",
      "source": [
        "user = \"SL\"\n",
        "uzem = \"Szint1\"\n",
        "data_source=\"5\"\n",
        "fname=\"72C03_TC_error_toNN.csv\""
      ],
      "metadata": {
        "id": "PTZryimZ9FCp"
      },
      "execution_count": 11,
      "outputs": []
    },
    {
      "cell_type": "code",
      "source": [
        "if user==\"Anna\":\n",
        "    path = \"/content/drive/MyDrive/Egyetem_MSc/Diplomamunka/2022Anna/Data/Abb/Szint1/\"\n",
        "else:\n",
        "    #path = \"/content/drive/MyDrive/2022Anna/Data/Abb/Szteroid2/április/\"\n",
        "\n",
        "    #Üzemenkénti futtatáshoz:\n",
        "\n",
        "    #path = \"/content/drive/MyDrive/2022Anna/Data/Abb/Nor/\"\n",
        "    #path = \"/content/drive/MyDrive/2022Anna/Data/Abb/Sp/\"            #Külön kód van rá, legalul\n",
        "    path = \"/content/drive/MyDrive/2022Anna/Datapipeline/\"+data_source+\"/\"+fname\n",
        "    #path = \"/content/drive/MyDrive/2022Anna/Data/Abb/Szint3/\"\n",
        "    #path = \"/content/drive/MyDrive/2022Anna/Data/Abb/Szteroid2/\"      #KÉSZ"
      ],
      "metadata": {
        "id": "0E42xIPk9Nal"
      },
      "execution_count": 12,
      "outputs": []
    },
    {
      "cell_type": "code",
      "source": [
        "path"
      ],
      "metadata": {
        "colab": {
          "base_uri": "https://localhost:8080/",
          "height": 36
        },
        "id": "7w5acF899nZp",
        "outputId": "ca6cf441-0e74-4f4d-a503-cd4d72787db1"
      },
      "execution_count": 13,
      "outputs": [
        {
          "output_type": "execute_result",
          "data": {
            "text/plain": [
              "'/content/drive/MyDrive/2022Anna/Datapipeline/5/72C03_TC_error_toNN.csv'"
            ],
            "application/vnd.google.colaboratory.intrinsic+json": {
              "type": "string"
            }
          },
          "metadata": {},
          "execution_count": 13
        }
      ]
    },
    {
      "cell_type": "code",
      "source": [
        "df=pd.read_csv(path,usecols=None)"
      ],
      "metadata": {
        "id": "cWfi29er9zka"
      },
      "execution_count": 14,
      "outputs": []
    },
    {
      "cell_type": "code",
      "source": [
        "df.isnull().values.any()"
      ],
      "metadata": {
        "id": "64is9M4EDWSM",
        "outputId": "8c459e88-41d1-4c09-abe2-4e77e804593f",
        "colab": {
          "base_uri": "https://localhost:8080/"
        }
      },
      "execution_count": 15,
      "outputs": [
        {
          "output_type": "execute_result",
          "data": {
            "text/plain": [
              "False"
            ]
          },
          "metadata": {},
          "execution_count": 15
        }
      ]
    },
    {
      "cell_type": "code",
      "source": [
        "df.head()"
      ],
      "metadata": {
        "colab": {
          "base_uri": "https://localhost:8080/",
          "height": 206
        },
        "id": "L75Eb-f7-FTo",
        "outputId": "3169b51b-d0de-4dc8-f22d-446b320a496c"
      },
      "execution_count": 16,
      "outputs": [
        {
          "output_type": "execute_result",
          "data": {
            "text/plain": [
              "          0         1         2         3         4         5         6  \\\n",
              "0  6.264137  6.015415  5.446251  4.799267  4.083618  3.041428  2.685894   \n",
              "1  6.015415  5.446251  4.799267  4.083618  3.041428  2.685894  2.011444   \n",
              "2  5.446251  4.799267  4.083618  3.041428  2.685894  2.011444  1.330891   \n",
              "3  4.799267  4.083618  3.041428  2.685894  2.011444  1.330891  0.615246   \n",
              "4  4.083618  3.041428  2.685894  2.011444  1.330891  0.615246 -0.024109   \n",
              "\n",
              "          7         8         9        10        11        12        13  \\\n",
              "0  2.011444  1.330891  0.615246 -0.024109 -0.628368 -1.383690 -1.562218   \n",
              "1  1.330891  0.615246 -0.024109 -0.628368 -1.383690 -1.562218 -2.171051   \n",
              "2  0.615246 -0.024109 -0.628368 -1.383690 -1.562218 -2.171051 -2.241245   \n",
              "3 -0.024109 -0.628368 -1.383690 -1.562218 -2.171051 -2.241245 -2.416725   \n",
              "4 -0.628368 -1.383690 -1.562218 -2.171051 -2.241245 -2.416725 -2.595253   \n",
              "\n",
              "         14        15        16        17        18        19  \n",
              "0 -2.171051 -2.241245 -2.416725 -2.595253 -2.703590 -2.738686  \n",
              "1 -2.241245 -2.416725 -2.595253 -2.703590 -2.738686 -2.668495  \n",
              "2 -2.416725 -2.595253 -2.703590 -2.738686 -2.668495 -2.522011  \n",
              "3 -2.595253 -2.703590 -2.738686 -2.668495 -2.522011 -2.522011  \n",
              "4 -2.703590 -2.738686 -2.668495 -2.522011 -2.522011 -2.311440  "
            ],
            "text/html": [
              "\n",
              "  <div id=\"df-10046c37-7061-49bd-9f97-f032bacbc079\">\n",
              "    <div class=\"colab-df-container\">\n",
              "      <div>\n",
              "<style scoped>\n",
              "    .dataframe tbody tr th:only-of-type {\n",
              "        vertical-align: middle;\n",
              "    }\n",
              "\n",
              "    .dataframe tbody tr th {\n",
              "        vertical-align: top;\n",
              "    }\n",
              "\n",
              "    .dataframe thead th {\n",
              "        text-align: right;\n",
              "    }\n",
              "</style>\n",
              "<table border=\"1\" class=\"dataframe\">\n",
              "  <thead>\n",
              "    <tr style=\"text-align: right;\">\n",
              "      <th></th>\n",
              "      <th>0</th>\n",
              "      <th>1</th>\n",
              "      <th>2</th>\n",
              "      <th>3</th>\n",
              "      <th>4</th>\n",
              "      <th>5</th>\n",
              "      <th>6</th>\n",
              "      <th>7</th>\n",
              "      <th>8</th>\n",
              "      <th>9</th>\n",
              "      <th>10</th>\n",
              "      <th>11</th>\n",
              "      <th>12</th>\n",
              "      <th>13</th>\n",
              "      <th>14</th>\n",
              "      <th>15</th>\n",
              "      <th>16</th>\n",
              "      <th>17</th>\n",
              "      <th>18</th>\n",
              "      <th>19</th>\n",
              "    </tr>\n",
              "  </thead>\n",
              "  <tbody>\n",
              "    <tr>\n",
              "      <th>0</th>\n",
              "      <td>6.264137</td>\n",
              "      <td>6.015415</td>\n",
              "      <td>5.446251</td>\n",
              "      <td>4.799267</td>\n",
              "      <td>4.083618</td>\n",
              "      <td>3.041428</td>\n",
              "      <td>2.685894</td>\n",
              "      <td>2.011444</td>\n",
              "      <td>1.330891</td>\n",
              "      <td>0.615246</td>\n",
              "      <td>-0.024109</td>\n",
              "      <td>-0.628368</td>\n",
              "      <td>-1.383690</td>\n",
              "      <td>-1.562218</td>\n",
              "      <td>-2.171051</td>\n",
              "      <td>-2.241245</td>\n",
              "      <td>-2.416725</td>\n",
              "      <td>-2.595253</td>\n",
              "      <td>-2.703590</td>\n",
              "      <td>-2.738686</td>\n",
              "    </tr>\n",
              "    <tr>\n",
              "      <th>1</th>\n",
              "      <td>6.015415</td>\n",
              "      <td>5.446251</td>\n",
              "      <td>4.799267</td>\n",
              "      <td>4.083618</td>\n",
              "      <td>3.041428</td>\n",
              "      <td>2.685894</td>\n",
              "      <td>2.011444</td>\n",
              "      <td>1.330891</td>\n",
              "      <td>0.615246</td>\n",
              "      <td>-0.024109</td>\n",
              "      <td>-0.628368</td>\n",
              "      <td>-1.383690</td>\n",
              "      <td>-1.562218</td>\n",
              "      <td>-2.171051</td>\n",
              "      <td>-2.241245</td>\n",
              "      <td>-2.416725</td>\n",
              "      <td>-2.595253</td>\n",
              "      <td>-2.703590</td>\n",
              "      <td>-2.738686</td>\n",
              "      <td>-2.668495</td>\n",
              "    </tr>\n",
              "    <tr>\n",
              "      <th>2</th>\n",
              "      <td>5.446251</td>\n",
              "      <td>4.799267</td>\n",
              "      <td>4.083618</td>\n",
              "      <td>3.041428</td>\n",
              "      <td>2.685894</td>\n",
              "      <td>2.011444</td>\n",
              "      <td>1.330891</td>\n",
              "      <td>0.615246</td>\n",
              "      <td>-0.024109</td>\n",
              "      <td>-0.628368</td>\n",
              "      <td>-1.383690</td>\n",
              "      <td>-1.562218</td>\n",
              "      <td>-2.171051</td>\n",
              "      <td>-2.241245</td>\n",
              "      <td>-2.416725</td>\n",
              "      <td>-2.595253</td>\n",
              "      <td>-2.703590</td>\n",
              "      <td>-2.738686</td>\n",
              "      <td>-2.668495</td>\n",
              "      <td>-2.522011</td>\n",
              "    </tr>\n",
              "    <tr>\n",
              "      <th>3</th>\n",
              "      <td>4.799267</td>\n",
              "      <td>4.083618</td>\n",
              "      <td>3.041428</td>\n",
              "      <td>2.685894</td>\n",
              "      <td>2.011444</td>\n",
              "      <td>1.330891</td>\n",
              "      <td>0.615246</td>\n",
              "      <td>-0.024109</td>\n",
              "      <td>-0.628368</td>\n",
              "      <td>-1.383690</td>\n",
              "      <td>-1.562218</td>\n",
              "      <td>-2.171051</td>\n",
              "      <td>-2.241245</td>\n",
              "      <td>-2.416725</td>\n",
              "      <td>-2.595253</td>\n",
              "      <td>-2.703590</td>\n",
              "      <td>-2.738686</td>\n",
              "      <td>-2.668495</td>\n",
              "      <td>-2.522011</td>\n",
              "      <td>-2.522011</td>\n",
              "    </tr>\n",
              "    <tr>\n",
              "      <th>4</th>\n",
              "      <td>4.083618</td>\n",
              "      <td>3.041428</td>\n",
              "      <td>2.685894</td>\n",
              "      <td>2.011444</td>\n",
              "      <td>1.330891</td>\n",
              "      <td>0.615246</td>\n",
              "      <td>-0.024109</td>\n",
              "      <td>-0.628368</td>\n",
              "      <td>-1.383690</td>\n",
              "      <td>-1.562218</td>\n",
              "      <td>-2.171051</td>\n",
              "      <td>-2.241245</td>\n",
              "      <td>-2.416725</td>\n",
              "      <td>-2.595253</td>\n",
              "      <td>-2.703590</td>\n",
              "      <td>-2.738686</td>\n",
              "      <td>-2.668495</td>\n",
              "      <td>-2.522011</td>\n",
              "      <td>-2.522011</td>\n",
              "      <td>-2.311440</td>\n",
              "    </tr>\n",
              "  </tbody>\n",
              "</table>\n",
              "</div>\n",
              "      <button class=\"colab-df-convert\" onclick=\"convertToInteractive('df-10046c37-7061-49bd-9f97-f032bacbc079')\"\n",
              "              title=\"Convert this dataframe to an interactive table.\"\n",
              "              style=\"display:none;\">\n",
              "        \n",
              "  <svg xmlns=\"http://www.w3.org/2000/svg\" height=\"24px\"viewBox=\"0 0 24 24\"\n",
              "       width=\"24px\">\n",
              "    <path d=\"M0 0h24v24H0V0z\" fill=\"none\"/>\n",
              "    <path d=\"M18.56 5.44l.94 2.06.94-2.06 2.06-.94-2.06-.94-.94-2.06-.94 2.06-2.06.94zm-11 1L8.5 8.5l.94-2.06 2.06-.94-2.06-.94L8.5 2.5l-.94 2.06-2.06.94zm10 10l.94 2.06.94-2.06 2.06-.94-2.06-.94-.94-2.06-.94 2.06-2.06.94z\"/><path d=\"M17.41 7.96l-1.37-1.37c-.4-.4-.92-.59-1.43-.59-.52 0-1.04.2-1.43.59L10.3 9.45l-7.72 7.72c-.78.78-.78 2.05 0 2.83L4 21.41c.39.39.9.59 1.41.59.51 0 1.02-.2 1.41-.59l7.78-7.78 2.81-2.81c.8-.78.8-2.07 0-2.86zM5.41 20L4 18.59l7.72-7.72 1.47 1.35L5.41 20z\"/>\n",
              "  </svg>\n",
              "      </button>\n",
              "      \n",
              "  <style>\n",
              "    .colab-df-container {\n",
              "      display:flex;\n",
              "      flex-wrap:wrap;\n",
              "      gap: 12px;\n",
              "    }\n",
              "\n",
              "    .colab-df-convert {\n",
              "      background-color: #E8F0FE;\n",
              "      border: none;\n",
              "      border-radius: 50%;\n",
              "      cursor: pointer;\n",
              "      display: none;\n",
              "      fill: #1967D2;\n",
              "      height: 32px;\n",
              "      padding: 0 0 0 0;\n",
              "      width: 32px;\n",
              "    }\n",
              "\n",
              "    .colab-df-convert:hover {\n",
              "      background-color: #E2EBFA;\n",
              "      box-shadow: 0px 1px 2px rgba(60, 64, 67, 0.3), 0px 1px 3px 1px rgba(60, 64, 67, 0.15);\n",
              "      fill: #174EA6;\n",
              "    }\n",
              "\n",
              "    [theme=dark] .colab-df-convert {\n",
              "      background-color: #3B4455;\n",
              "      fill: #D2E3FC;\n",
              "    }\n",
              "\n",
              "    [theme=dark] .colab-df-convert:hover {\n",
              "      background-color: #434B5C;\n",
              "      box-shadow: 0px 1px 3px 1px rgba(0, 0, 0, 0.15);\n",
              "      filter: drop-shadow(0px 1px 2px rgba(0, 0, 0, 0.3));\n",
              "      fill: #FFFFFF;\n",
              "    }\n",
              "  </style>\n",
              "\n",
              "      <script>\n",
              "        const buttonEl =\n",
              "          document.querySelector('#df-10046c37-7061-49bd-9f97-f032bacbc079 button.colab-df-convert');\n",
              "        buttonEl.style.display =\n",
              "          google.colab.kernel.accessAllowed ? 'block' : 'none';\n",
              "\n",
              "        async function convertToInteractive(key) {\n",
              "          const element = document.querySelector('#df-10046c37-7061-49bd-9f97-f032bacbc079');\n",
              "          const dataTable =\n",
              "            await google.colab.kernel.invokeFunction('convertToInteractive',\n",
              "                                                     [key], {});\n",
              "          if (!dataTable) return;\n",
              "\n",
              "          const docLinkHtml = 'Like what you see? Visit the ' +\n",
              "            '<a target=\"_blank\" href=https://colab.research.google.com/notebooks/data_table.ipynb>data table notebook</a>'\n",
              "            + ' to learn more about interactive tables.';\n",
              "          element.innerHTML = '';\n",
              "          dataTable['output_type'] = 'display_data';\n",
              "          await google.colab.output.renderOutput(dataTable, element);\n",
              "          const docLink = document.createElement('div');\n",
              "          docLink.innerHTML = docLinkHtml;\n",
              "          element.appendChild(docLink);\n",
              "        }\n",
              "      </script>\n",
              "    </div>\n",
              "  </div>\n",
              "  "
            ]
          },
          "metadata": {},
          "execution_count": 16
        }
      ]
    },
    {
      "cell_type": "code",
      "source": [
        "df.mean()"
      ],
      "metadata": {
        "colab": {
          "base_uri": "https://localhost:8080/"
        },
        "id": "j1VwLEKFBz6z",
        "outputId": "824b323e-fb3f-498a-b30f-d56805c2e3ed"
      },
      "execution_count": 17,
      "outputs": [
        {
          "output_type": "execute_result",
          "data": {
            "text/plain": [
              "0     0.275099\n",
              "1     0.268105\n",
              "2     0.261123\n",
              "3     0.254181\n",
              "4     0.247304\n",
              "5     0.240595\n",
              "6     0.234082\n",
              "7     0.227797\n",
              "8     0.221772\n",
              "9     0.216064\n",
              "10    0.210661\n",
              "11    0.205565\n",
              "12    0.200786\n",
              "13    0.196338\n",
              "14    0.192123\n",
              "15    0.188180\n",
              "16    0.184483\n",
              "17    0.181023\n",
              "18    0.177781\n",
              "19    0.174736\n",
              "dtype: float64"
            ]
          },
          "metadata": {},
          "execution_count": 17
        }
      ]
    },
    {
      "cell_type": "code",
      "source": [
        "from sklearn.decomposition import PCA\n",
        "\n",
        "import matplotlib.pyplot as plot\n",
        "\n",
        "df_ = df\n",
        "\n",
        "# You must normalize the data before applying the fit method\n",
        "df_normalized=(df_ - df_.mean()) / df_.std()"
      ],
      "metadata": {
        "id": "PUjriR-sCBDE"
      },
      "execution_count": 18,
      "outputs": []
    },
    {
      "cell_type": "code",
      "source": [
        "df_normalized.describe()"
      ],
      "metadata": {
        "colab": {
          "base_uri": "https://localhost:8080/",
          "height": 364
        },
        "id": "_GrdWNfzCDvg",
        "outputId": "461722e1-40b7-4be5-b352-08e88432204b"
      },
      "execution_count": 19,
      "outputs": [
        {
          "output_type": "execute_result",
          "data": {
            "text/plain": [
              "                  0             1             2             3             4  \\\n",
              "count  1.277040e+05  1.277040e+05  1.277040e+05  1.277040e+05  1.277040e+05   \n",
              "mean  -1.869498e-17 -2.181081e-17 -2.225593e-18 -4.451185e-19 -6.231660e-18   \n",
              "std    1.000000e+00  1.000000e+00  1.000000e+00  1.000000e+00  1.000000e+00   \n",
              "min   -7.895906e+00 -8.055271e+00 -7.668737e+00 -5.317320e+00 -5.163039e+00   \n",
              "25%   -1.581445e-01 -1.577610e-01 -1.573519e-01 -1.568200e-01 -1.561031e-01   \n",
              "50%   -1.377125e-01 -1.369072e-01 -1.360606e-01 -1.350902e-01 -1.339444e-01   \n",
              "75%   -1.171636e-01 -1.159340e-01 -1.146474e-01 -1.132360e-01 -1.116588e-01   \n",
              "max    1.559852e+01  1.584859e+01  1.597510e+01  1.596124e+01  1.576417e+01   \n",
              "\n",
              "                  5             6             7             8             9  \\\n",
              "count  1.277040e+05  1.277040e+05  1.277040e+05  1.277040e+05  1.277040e+05   \n",
              "mean  -1.646939e-17 -2.759735e-17 -1.468891e-17  4.896304e-18  9.792608e-18   \n",
              "std    1.000000e+00  1.000000e+00  1.000000e+00  1.000000e+00  1.000000e+00   \n",
              "min   -5.256906e+00 -5.349243e+00 -5.439658e+00 -5.529113e+00 -5.617277e+00   \n",
              "25%   -1.552670e-01 -1.543595e-01 -1.533965e-01 -1.524343e-01 -1.515063e-01   \n",
              "50%   -1.326892e-01 -1.313690e-01 -1.300016e-01 -1.286392e-01 -1.275016e-01   \n",
              "75%   -1.099821e-01 -1.082468e-01 -1.064727e-01 -1.047080e-01 -1.029891e-01   \n",
              "max    1.588602e+01  1.579051e+01  1.569333e+01  1.564437e+01  1.588582e+01   \n",
              "\n",
              "                 10            11            12            13            14  \\\n",
              "count  1.277040e+05  1.277040e+05  1.277040e+05  1.277040e+05  1.277040e+05   \n",
              "mean   4.451185e-19 -4.896304e-18 -8.902371e-18 -2.626199e-17  8.902371e-19   \n",
              "std    1.000000e+00  1.000000e+00  1.000000e+00  1.000000e+00  1.000000e+00   \n",
              "min   -5.704422e+00 -5.791399e+00 -5.877411e+00 -5.963580e+00 -6.049740e+00   \n",
              "25%   -1.506247e-01 -1.498227e-01 -1.490957e-01 -1.484907e-01 -1.479510e-01   \n",
              "50%   -1.265617e-01 -1.253794e-01 -1.242766e-01 -1.232956e-01 -1.223803e-01   \n",
              "75%   -1.013261e-01 -9.974497e-02 -9.824799e-02 -9.687276e-02 -9.556350e-02   \n",
              "max    1.592920e+01  1.604883e+01  1.627636e+01  1.636763e+01  1.656657e+01   \n",
              "\n",
              "                 15            16            17            18            19  \n",
              "count  1.277040e+05  1.277040e+05  1.277040e+05  1.277040e+05  1.277040e+05  \n",
              "mean   1.468891e-17  2.181081e-17 -2.670711e-18 -1.602427e-17  3.115830e-18  \n",
              "std    1.000000e+00  1.000000e+00  1.000000e+00  1.000000e+00  1.000000e+00  \n",
              "min   -6.136279e+00 -6.223329e+00 -6.310412e+00 -6.398242e+00 -6.486374e+00  \n",
              "25%   -1.475170e-01 -1.471830e-01 -1.469375e-01 -1.467915e-01 -1.467252e-01  \n",
              "50%   -1.215694e-01 -1.208569e-01 -1.202330e-01 -1.197059e-01 -1.192574e-01  \n",
              "75%   -9.435743e-02 -9.324780e-02 -9.222708e-02 -9.130021e-02 -9.045101e-02  \n",
              "max    1.669496e+01  1.675664e+01  1.681729e+01  1.701101e+01  1.720388e+01  "
            ],
            "text/html": [
              "\n",
              "  <div id=\"df-dfe41397-c1cf-494a-82e4-eb5adfded81a\">\n",
              "    <div class=\"colab-df-container\">\n",
              "      <div>\n",
              "<style scoped>\n",
              "    .dataframe tbody tr th:only-of-type {\n",
              "        vertical-align: middle;\n",
              "    }\n",
              "\n",
              "    .dataframe tbody tr th {\n",
              "        vertical-align: top;\n",
              "    }\n",
              "\n",
              "    .dataframe thead th {\n",
              "        text-align: right;\n",
              "    }\n",
              "</style>\n",
              "<table border=\"1\" class=\"dataframe\">\n",
              "  <thead>\n",
              "    <tr style=\"text-align: right;\">\n",
              "      <th></th>\n",
              "      <th>0</th>\n",
              "      <th>1</th>\n",
              "      <th>2</th>\n",
              "      <th>3</th>\n",
              "      <th>4</th>\n",
              "      <th>5</th>\n",
              "      <th>6</th>\n",
              "      <th>7</th>\n",
              "      <th>8</th>\n",
              "      <th>9</th>\n",
              "      <th>10</th>\n",
              "      <th>11</th>\n",
              "      <th>12</th>\n",
              "      <th>13</th>\n",
              "      <th>14</th>\n",
              "      <th>15</th>\n",
              "      <th>16</th>\n",
              "      <th>17</th>\n",
              "      <th>18</th>\n",
              "      <th>19</th>\n",
              "    </tr>\n",
              "  </thead>\n",
              "  <tbody>\n",
              "    <tr>\n",
              "      <th>count</th>\n",
              "      <td>1.277040e+05</td>\n",
              "      <td>1.277040e+05</td>\n",
              "      <td>1.277040e+05</td>\n",
              "      <td>1.277040e+05</td>\n",
              "      <td>1.277040e+05</td>\n",
              "      <td>1.277040e+05</td>\n",
              "      <td>1.277040e+05</td>\n",
              "      <td>1.277040e+05</td>\n",
              "      <td>1.277040e+05</td>\n",
              "      <td>1.277040e+05</td>\n",
              "      <td>1.277040e+05</td>\n",
              "      <td>1.277040e+05</td>\n",
              "      <td>1.277040e+05</td>\n",
              "      <td>1.277040e+05</td>\n",
              "      <td>1.277040e+05</td>\n",
              "      <td>1.277040e+05</td>\n",
              "      <td>1.277040e+05</td>\n",
              "      <td>1.277040e+05</td>\n",
              "      <td>1.277040e+05</td>\n",
              "      <td>1.277040e+05</td>\n",
              "    </tr>\n",
              "    <tr>\n",
              "      <th>mean</th>\n",
              "      <td>-1.869498e-17</td>\n",
              "      <td>-2.181081e-17</td>\n",
              "      <td>-2.225593e-18</td>\n",
              "      <td>-4.451185e-19</td>\n",
              "      <td>-6.231660e-18</td>\n",
              "      <td>-1.646939e-17</td>\n",
              "      <td>-2.759735e-17</td>\n",
              "      <td>-1.468891e-17</td>\n",
              "      <td>4.896304e-18</td>\n",
              "      <td>9.792608e-18</td>\n",
              "      <td>4.451185e-19</td>\n",
              "      <td>-4.896304e-18</td>\n",
              "      <td>-8.902371e-18</td>\n",
              "      <td>-2.626199e-17</td>\n",
              "      <td>8.902371e-19</td>\n",
              "      <td>1.468891e-17</td>\n",
              "      <td>2.181081e-17</td>\n",
              "      <td>-2.670711e-18</td>\n",
              "      <td>-1.602427e-17</td>\n",
              "      <td>3.115830e-18</td>\n",
              "    </tr>\n",
              "    <tr>\n",
              "      <th>std</th>\n",
              "      <td>1.000000e+00</td>\n",
              "      <td>1.000000e+00</td>\n",
              "      <td>1.000000e+00</td>\n",
              "      <td>1.000000e+00</td>\n",
              "      <td>1.000000e+00</td>\n",
              "      <td>1.000000e+00</td>\n",
              "      <td>1.000000e+00</td>\n",
              "      <td>1.000000e+00</td>\n",
              "      <td>1.000000e+00</td>\n",
              "      <td>1.000000e+00</td>\n",
              "      <td>1.000000e+00</td>\n",
              "      <td>1.000000e+00</td>\n",
              "      <td>1.000000e+00</td>\n",
              "      <td>1.000000e+00</td>\n",
              "      <td>1.000000e+00</td>\n",
              "      <td>1.000000e+00</td>\n",
              "      <td>1.000000e+00</td>\n",
              "      <td>1.000000e+00</td>\n",
              "      <td>1.000000e+00</td>\n",
              "      <td>1.000000e+00</td>\n",
              "    </tr>\n",
              "    <tr>\n",
              "      <th>min</th>\n",
              "      <td>-7.895906e+00</td>\n",
              "      <td>-8.055271e+00</td>\n",
              "      <td>-7.668737e+00</td>\n",
              "      <td>-5.317320e+00</td>\n",
              "      <td>-5.163039e+00</td>\n",
              "      <td>-5.256906e+00</td>\n",
              "      <td>-5.349243e+00</td>\n",
              "      <td>-5.439658e+00</td>\n",
              "      <td>-5.529113e+00</td>\n",
              "      <td>-5.617277e+00</td>\n",
              "      <td>-5.704422e+00</td>\n",
              "      <td>-5.791399e+00</td>\n",
              "      <td>-5.877411e+00</td>\n",
              "      <td>-5.963580e+00</td>\n",
              "      <td>-6.049740e+00</td>\n",
              "      <td>-6.136279e+00</td>\n",
              "      <td>-6.223329e+00</td>\n",
              "      <td>-6.310412e+00</td>\n",
              "      <td>-6.398242e+00</td>\n",
              "      <td>-6.486374e+00</td>\n",
              "    </tr>\n",
              "    <tr>\n",
              "      <th>25%</th>\n",
              "      <td>-1.581445e-01</td>\n",
              "      <td>-1.577610e-01</td>\n",
              "      <td>-1.573519e-01</td>\n",
              "      <td>-1.568200e-01</td>\n",
              "      <td>-1.561031e-01</td>\n",
              "      <td>-1.552670e-01</td>\n",
              "      <td>-1.543595e-01</td>\n",
              "      <td>-1.533965e-01</td>\n",
              "      <td>-1.524343e-01</td>\n",
              "      <td>-1.515063e-01</td>\n",
              "      <td>-1.506247e-01</td>\n",
              "      <td>-1.498227e-01</td>\n",
              "      <td>-1.490957e-01</td>\n",
              "      <td>-1.484907e-01</td>\n",
              "      <td>-1.479510e-01</td>\n",
              "      <td>-1.475170e-01</td>\n",
              "      <td>-1.471830e-01</td>\n",
              "      <td>-1.469375e-01</td>\n",
              "      <td>-1.467915e-01</td>\n",
              "      <td>-1.467252e-01</td>\n",
              "    </tr>\n",
              "    <tr>\n",
              "      <th>50%</th>\n",
              "      <td>-1.377125e-01</td>\n",
              "      <td>-1.369072e-01</td>\n",
              "      <td>-1.360606e-01</td>\n",
              "      <td>-1.350902e-01</td>\n",
              "      <td>-1.339444e-01</td>\n",
              "      <td>-1.326892e-01</td>\n",
              "      <td>-1.313690e-01</td>\n",
              "      <td>-1.300016e-01</td>\n",
              "      <td>-1.286392e-01</td>\n",
              "      <td>-1.275016e-01</td>\n",
              "      <td>-1.265617e-01</td>\n",
              "      <td>-1.253794e-01</td>\n",
              "      <td>-1.242766e-01</td>\n",
              "      <td>-1.232956e-01</td>\n",
              "      <td>-1.223803e-01</td>\n",
              "      <td>-1.215694e-01</td>\n",
              "      <td>-1.208569e-01</td>\n",
              "      <td>-1.202330e-01</td>\n",
              "      <td>-1.197059e-01</td>\n",
              "      <td>-1.192574e-01</td>\n",
              "    </tr>\n",
              "    <tr>\n",
              "      <th>75%</th>\n",
              "      <td>-1.171636e-01</td>\n",
              "      <td>-1.159340e-01</td>\n",
              "      <td>-1.146474e-01</td>\n",
              "      <td>-1.132360e-01</td>\n",
              "      <td>-1.116588e-01</td>\n",
              "      <td>-1.099821e-01</td>\n",
              "      <td>-1.082468e-01</td>\n",
              "      <td>-1.064727e-01</td>\n",
              "      <td>-1.047080e-01</td>\n",
              "      <td>-1.029891e-01</td>\n",
              "      <td>-1.013261e-01</td>\n",
              "      <td>-9.974497e-02</td>\n",
              "      <td>-9.824799e-02</td>\n",
              "      <td>-9.687276e-02</td>\n",
              "      <td>-9.556350e-02</td>\n",
              "      <td>-9.435743e-02</td>\n",
              "      <td>-9.324780e-02</td>\n",
              "      <td>-9.222708e-02</td>\n",
              "      <td>-9.130021e-02</td>\n",
              "      <td>-9.045101e-02</td>\n",
              "    </tr>\n",
              "    <tr>\n",
              "      <th>max</th>\n",
              "      <td>1.559852e+01</td>\n",
              "      <td>1.584859e+01</td>\n",
              "      <td>1.597510e+01</td>\n",
              "      <td>1.596124e+01</td>\n",
              "      <td>1.576417e+01</td>\n",
              "      <td>1.588602e+01</td>\n",
              "      <td>1.579051e+01</td>\n",
              "      <td>1.569333e+01</td>\n",
              "      <td>1.564437e+01</td>\n",
              "      <td>1.588582e+01</td>\n",
              "      <td>1.592920e+01</td>\n",
              "      <td>1.604883e+01</td>\n",
              "      <td>1.627636e+01</td>\n",
              "      <td>1.636763e+01</td>\n",
              "      <td>1.656657e+01</td>\n",
              "      <td>1.669496e+01</td>\n",
              "      <td>1.675664e+01</td>\n",
              "      <td>1.681729e+01</td>\n",
              "      <td>1.701101e+01</td>\n",
              "      <td>1.720388e+01</td>\n",
              "    </tr>\n",
              "  </tbody>\n",
              "</table>\n",
              "</div>\n",
              "      <button class=\"colab-df-convert\" onclick=\"convertToInteractive('df-dfe41397-c1cf-494a-82e4-eb5adfded81a')\"\n",
              "              title=\"Convert this dataframe to an interactive table.\"\n",
              "              style=\"display:none;\">\n",
              "        \n",
              "  <svg xmlns=\"http://www.w3.org/2000/svg\" height=\"24px\"viewBox=\"0 0 24 24\"\n",
              "       width=\"24px\">\n",
              "    <path d=\"M0 0h24v24H0V0z\" fill=\"none\"/>\n",
              "    <path d=\"M18.56 5.44l.94 2.06.94-2.06 2.06-.94-2.06-.94-.94-2.06-.94 2.06-2.06.94zm-11 1L8.5 8.5l.94-2.06 2.06-.94-2.06-.94L8.5 2.5l-.94 2.06-2.06.94zm10 10l.94 2.06.94-2.06 2.06-.94-2.06-.94-.94-2.06-.94 2.06-2.06.94z\"/><path d=\"M17.41 7.96l-1.37-1.37c-.4-.4-.92-.59-1.43-.59-.52 0-1.04.2-1.43.59L10.3 9.45l-7.72 7.72c-.78.78-.78 2.05 0 2.83L4 21.41c.39.39.9.59 1.41.59.51 0 1.02-.2 1.41-.59l7.78-7.78 2.81-2.81c.8-.78.8-2.07 0-2.86zM5.41 20L4 18.59l7.72-7.72 1.47 1.35L5.41 20z\"/>\n",
              "  </svg>\n",
              "      </button>\n",
              "      \n",
              "  <style>\n",
              "    .colab-df-container {\n",
              "      display:flex;\n",
              "      flex-wrap:wrap;\n",
              "      gap: 12px;\n",
              "    }\n",
              "\n",
              "    .colab-df-convert {\n",
              "      background-color: #E8F0FE;\n",
              "      border: none;\n",
              "      border-radius: 50%;\n",
              "      cursor: pointer;\n",
              "      display: none;\n",
              "      fill: #1967D2;\n",
              "      height: 32px;\n",
              "      padding: 0 0 0 0;\n",
              "      width: 32px;\n",
              "    }\n",
              "\n",
              "    .colab-df-convert:hover {\n",
              "      background-color: #E2EBFA;\n",
              "      box-shadow: 0px 1px 2px rgba(60, 64, 67, 0.3), 0px 1px 3px 1px rgba(60, 64, 67, 0.15);\n",
              "      fill: #174EA6;\n",
              "    }\n",
              "\n",
              "    [theme=dark] .colab-df-convert {\n",
              "      background-color: #3B4455;\n",
              "      fill: #D2E3FC;\n",
              "    }\n",
              "\n",
              "    [theme=dark] .colab-df-convert:hover {\n",
              "      background-color: #434B5C;\n",
              "      box-shadow: 0px 1px 3px 1px rgba(0, 0, 0, 0.15);\n",
              "      filter: drop-shadow(0px 1px 2px rgba(0, 0, 0, 0.3));\n",
              "      fill: #FFFFFF;\n",
              "    }\n",
              "  </style>\n",
              "\n",
              "      <script>\n",
              "        const buttonEl =\n",
              "          document.querySelector('#df-dfe41397-c1cf-494a-82e4-eb5adfded81a button.colab-df-convert');\n",
              "        buttonEl.style.display =\n",
              "          google.colab.kernel.accessAllowed ? 'block' : 'none';\n",
              "\n",
              "        async function convertToInteractive(key) {\n",
              "          const element = document.querySelector('#df-dfe41397-c1cf-494a-82e4-eb5adfded81a');\n",
              "          const dataTable =\n",
              "            await google.colab.kernel.invokeFunction('convertToInteractive',\n",
              "                                                     [key], {});\n",
              "          if (!dataTable) return;\n",
              "\n",
              "          const docLinkHtml = 'Like what you see? Visit the ' +\n",
              "            '<a target=\"_blank\" href=https://colab.research.google.com/notebooks/data_table.ipynb>data table notebook</a>'\n",
              "            + ' to learn more about interactive tables.';\n",
              "          element.innerHTML = '';\n",
              "          dataTable['output_type'] = 'display_data';\n",
              "          await google.colab.output.renderOutput(dataTable, element);\n",
              "          const docLink = document.createElement('div');\n",
              "          docLink.innerHTML = docLinkHtml;\n",
              "          element.appendChild(docLink);\n",
              "        }\n",
              "      </script>\n",
              "    </div>\n",
              "  </div>\n",
              "  "
            ]
          },
          "metadata": {},
          "execution_count": 19
        }
      ]
    },
    {
      "cell_type": "code",
      "source": [
        "\n",
        "\n",
        "pca = PCA(n_components=3)\n",
        "data=pca.fit_transform(df_normalized)\n",
        "\n",
        "pca.components_\n",
        "\n",
        "plot.plot(pca.explained_variance_ratio_)\n",
        "plot.ylabel('Explained Variance')\n",
        "plot.xlabel('Components')\n",
        "plot.show()"
      ],
      "metadata": {
        "colab": {
          "base_uri": "https://localhost:8080/",
          "height": 283
        },
        "id": "i4Y5N4c8BSPr",
        "outputId": "37fb5f8c-58aa-4a8b-a960-81e237300161"
      },
      "execution_count": 20,
      "outputs": [
        {
          "output_type": "display_data",
          "data": {
            "text/plain": [
              "<Figure size 432x288 with 1 Axes>"
            ],
            "image/png": "[encoded data removed]"
          },
          "metadata": {
            "needs_background": "light"
          }
        }
      ]
    },
    {
      "cell_type": "code",
      "source": [
        "plot.scatter(data[:,0],data[:,1],c=\"r\",marker=\".\")\n",
        "plot.ylabel('feature A')\n",
        "plot.xlabel('feature B')\n",
        "plot.show()"
      ],
      "metadata": {
        "colab": {
          "base_uri": "https://localhost:8080/",
          "height": 279
        },
        "id": "uzjP_YHiGRnW",
        "outputId": "c4e758d5-8ac4-49e2-d760-80399184fde4"
      },
      "execution_count": 21,
      "outputs": [
        {
          "output_type": "display_data",
          "data": {
            "text/plain": [
              "<Figure size 432x288 with 1 Axes>"
            ],
            "image/png": "[encoded data removed]"
          },
          "metadata": {
            "needs_background": "light"
          }
        }
      ]
    },
    {
      "cell_type": "code",
      "source": [
        "pca = PCA(n_components=3)\n",
        "\n",
        "data2=pca.fit_transform(df_normalized[:-133000])\n",
        "\n",
        "\n",
        "pca.components_\n",
        "\n",
        "plot.plot(pca.explained_variance_ratio_)\n",
        "plot.ylabel('Explained Variance')\n",
        "plot.xlabel('Components')\n",
        "plot.show()"
      ],
      "metadata": {
        "colab": {
          "base_uri": "https://localhost:8080/",
          "height": 396
        },
        "id": "QqO-08fLM_Gu",
        "outputId": "5024d0ca-d5f1-4c07-b229-10fb0db5d56f"
      },
      "execution_count": 22,
      "outputs": [
        {
          "output_type": "error",
          "ename": "ValueError",
          "evalue": "ignored",
          "traceback": [
            "\u001b[0;31m---------------------------------------------------------------------------\u001b[0m",
            "\u001b[0;31mValueError\u001b[0m                                Traceback (most recent call last)",
            "\u001b[0;32m<ipython-input-22-3fedcab0ba3d>\u001b[0m in \u001b[0;36m<module>\u001b[0;34m\u001b[0m\n\u001b[1;32m      1\u001b[0m \u001b[0mpca\u001b[0m \u001b[0;34m=\u001b[0m \u001b[0mPCA\u001b[0m\u001b[0;34m(\u001b[0m\u001b[0mn_components\u001b[0m\u001b[0;34m=\u001b[0m\u001b[0;36m3\u001b[0m\u001b[0;34m)\u001b[0m\u001b[0;34m\u001b[0m\u001b[0;34m\u001b[0m\u001b[0m\n\u001b[1;32m      2\u001b[0m \u001b[0;34m\u001b[0m\u001b[0m\n\u001b[0;32m----> 3\u001b[0;31m \u001b[0mdata2\u001b[0m\u001b[0;34m=\u001b[0m\u001b[0mpca\u001b[0m\u001b[0;34m.\u001b[0m\u001b[0mfit_transform\u001b[0m\u001b[0;34m(\u001b[0m\u001b[0mdf_normalized\u001b[0m\u001b[0;34m[\u001b[0m\u001b[0;34m:\u001b[0m\u001b[0;34m-\u001b[0m\u001b[0;36m133000\u001b[0m\u001b[0;34m]\u001b[0m\u001b[0;34m)\u001b[0m\u001b[0;34m\u001b[0m\u001b[0;34m\u001b[0m\u001b[0m\n\u001b[0m\u001b[1;32m      4\u001b[0m \u001b[0;34m\u001b[0m\u001b[0m\n\u001b[1;32m      5\u001b[0m \u001b[0;34m\u001b[0m\u001b[0m\n",
            "\u001b[0;32m/usr/local/lib/python3.8/dist-packages/sklearn/decomposition/_pca.py\u001b[0m in \u001b[0;36mfit_transform\u001b[0;34m(self, X, y)\u001b[0m\n\u001b[1;32m    405\u001b[0m         \u001b[0mC\u001b[0m\u001b[0;34m-\u001b[0m\u001b[0mordered\u001b[0m \u001b[0marray\u001b[0m\u001b[0;34m,\u001b[0m \u001b[0muse\u001b[0m \u001b[0;34m'np.ascontiguousarray'\u001b[0m\u001b[0;34m.\u001b[0m\u001b[0;34m\u001b[0m\u001b[0;34m\u001b[0m\u001b[0m\n\u001b[1;32m    406\u001b[0m         \"\"\"\n\u001b[0;32m--> 407\u001b[0;31m         \u001b[0mU\u001b[0m\u001b[0;34m,\u001b[0m \u001b[0mS\u001b[0m\u001b[0;34m,\u001b[0m \u001b[0mVt\u001b[0m \u001b[0;34m=\u001b[0m \u001b[0mself\u001b[0m\u001b[0;34m.\u001b[0m\u001b[0m_fit\u001b[0m\u001b[0;34m(\u001b[0m\u001b[0mX\u001b[0m\u001b[0;34m)\u001b[0m\u001b[0;34m\u001b[0m\u001b[0;34m\u001b[0m\u001b[0m\n\u001b[0m\u001b[1;32m    408\u001b[0m         \u001b[0mU\u001b[0m \u001b[0;34m=\u001b[0m \u001b[0mU\u001b[0m\u001b[0;34m[\u001b[0m\u001b[0;34m:\u001b[0m\u001b[0;34m,\u001b[0m \u001b[0;34m:\u001b[0m \u001b[0mself\u001b[0m\u001b[0;34m.\u001b[0m\u001b[0mn_components_\u001b[0m\u001b[0;34m]\u001b[0m\u001b[0;34m\u001b[0m\u001b[0;34m\u001b[0m\u001b[0m\n\u001b[1;32m    409\u001b[0m \u001b[0;34m\u001b[0m\u001b[0m\n",
            "\u001b[0;32m/usr/local/lib/python3.8/dist-packages/sklearn/decomposition/_pca.py\u001b[0m in \u001b[0;36m_fit\u001b[0;34m(self, X)\u001b[0m\n\u001b[1;32m    428\u001b[0m             )\n\u001b[1;32m    429\u001b[0m \u001b[0;34m\u001b[0m\u001b[0m\n\u001b[0;32m--> 430\u001b[0;31m         X = self._validate_data(\n\u001b[0m\u001b[1;32m    431\u001b[0m             \u001b[0mX\u001b[0m\u001b[0;34m,\u001b[0m \u001b[0mdtype\u001b[0m\u001b[0;34m=\u001b[0m\u001b[0;34m[\u001b[0m\u001b[0mnp\u001b[0m\u001b[0;34m.\u001b[0m\u001b[0mfloat64\u001b[0m\u001b[0;34m,\u001b[0m \u001b[0mnp\u001b[0m\u001b[0;34m.\u001b[0m\u001b[0mfloat32\u001b[0m\u001b[0;34m]\u001b[0m\u001b[0;34m,\u001b[0m \u001b[0mensure_2d\u001b[0m\u001b[0;34m=\u001b[0m\u001b[0;32mTrue\u001b[0m\u001b[0;34m,\u001b[0m \u001b[0mcopy\u001b[0m\u001b[0;34m=\u001b[0m\u001b[0mself\u001b[0m\u001b[0;34m.\u001b[0m\u001b[0mcopy\u001b[0m\u001b[0;34m\u001b[0m\u001b[0;34m\u001b[0m\u001b[0m\n\u001b[1;32m    432\u001b[0m         )\n",
            "\u001b[0;32m/usr/local/lib/python3.8/dist-packages/sklearn/base.py\u001b[0m in \u001b[0;36m_validate_data\u001b[0;34m(self, X, y, reset, validate_separately, **check_params)\u001b[0m\n\u001b[1;32m    564\u001b[0m             \u001b[0;32mraise\u001b[0m \u001b[0mValueError\u001b[0m\u001b[0;34m(\u001b[0m\u001b[0;34m\"Validation should be done on X, y or both.\"\u001b[0m\u001b[0;34m)\u001b[0m\u001b[0;34m\u001b[0m\u001b[0;34m\u001b[0m\u001b[0m\n\u001b[1;32m    565\u001b[0m         \u001b[0;32melif\u001b[0m \u001b[0;32mnot\u001b[0m \u001b[0mno_val_X\u001b[0m \u001b[0;32mand\u001b[0m \u001b[0mno_val_y\u001b[0m\u001b[0;34m:\u001b[0m\u001b[0;34m\u001b[0m\u001b[0;34m\u001b[0m\u001b[0m\n\u001b[0;32m--> 566\u001b[0;31m             \u001b[0mX\u001b[0m \u001b[0;34m=\u001b[0m \u001b[0mcheck_array\u001b[0m\u001b[0;34m(\u001b[0m\u001b[0mX\u001b[0m\u001b[0;34m,\u001b[0m \u001b[0;34m**\u001b[0m\u001b[0mcheck_params\u001b[0m\u001b[0;34m)\u001b[0m\u001b[0;34m\u001b[0m\u001b[0;34m\u001b[0m\u001b[0m\n\u001b[0m\u001b[1;32m    567\u001b[0m             \u001b[0mout\u001b[0m \u001b[0;34m=\u001b[0m \u001b[0mX\u001b[0m\u001b[0;34m\u001b[0m\u001b[0;34m\u001b[0m\u001b[0m\n\u001b[1;32m    568\u001b[0m         \u001b[0;32melif\u001b[0m \u001b[0mno_val_X\u001b[0m \u001b[0;32mand\u001b[0m \u001b[0;32mnot\u001b[0m \u001b[0mno_val_y\u001b[0m\u001b[0;34m:\u001b[0m\u001b[0;34m\u001b[0m\u001b[0;34m\u001b[0m\u001b[0m\n",
            "\u001b[0;32m/usr/local/lib/python3.8/dist-packages/sklearn/utils/validation.py\u001b[0m in \u001b[0;36mcheck_array\u001b[0;34m(array, accept_sparse, accept_large_sparse, dtype, order, copy, force_all_finite, ensure_2d, allow_nd, ensure_min_samples, ensure_min_features, estimator)\u001b[0m\n\u001b[1;32m    803\u001b[0m         \u001b[0mn_samples\u001b[0m \u001b[0;34m=\u001b[0m \u001b[0m_num_samples\u001b[0m\u001b[0;34m(\u001b[0m\u001b[0marray\u001b[0m\u001b[0;34m)\u001b[0m\u001b[0;34m\u001b[0m\u001b[0;34m\u001b[0m\u001b[0m\n\u001b[1;32m    804\u001b[0m         \u001b[0;32mif\u001b[0m \u001b[0mn_samples\u001b[0m \u001b[0;34m<\u001b[0m \u001b[0mensure_min_samples\u001b[0m\u001b[0;34m:\u001b[0m\u001b[0;34m\u001b[0m\u001b[0;34m\u001b[0m\u001b[0m\n\u001b[0;32m--> 805\u001b[0;31m             raise ValueError(\n\u001b[0m\u001b[1;32m    806\u001b[0m                 \u001b[0;34m\"Found array with %d sample(s) (shape=%s) while a\"\u001b[0m\u001b[0;34m\u001b[0m\u001b[0;34m\u001b[0m\u001b[0m\n\u001b[1;32m    807\u001b[0m                 \u001b[0;34m\" minimum of %d is required%s.\"\u001b[0m\u001b[0;34m\u001b[0m\u001b[0;34m\u001b[0m\u001b[0m\n",
            "\u001b[0;31mValueError\u001b[0m: Found array with 0 sample(s) (shape=(0, 20)) while a minimum of 1 is required."
          ]
        }
      ]
    },
    {
      "cell_type": "code",
      "source": [
        "plot.scatter(data2[:,0],data2[:,1],c=\"r\",marker=\".\")\n",
        "plot.ylabel('feature A')\n",
        "plot.xlabel('feature B')\n",
        "plot.show()"
      ],
      "metadata": {
        "colab": {
          "base_uri": "https://localhost:8080/",
          "height": 279
        },
        "id": "Tl3cwbo4NOkl",
        "outputId": "0225c87d-4bf9-40c0-c6db-0f760c2f7b5b"
      },
      "execution_count": null,
      "outputs": [
        {
          "output_type": "display_data",
          "data": {
            "text/plain": [
              "<Figure size 432x288 with 1 Axes>"
            ],
            "image/png": "[encoded data removed]"
          },
          "metadata": {
            "needs_background": "light"
          }
        }
      ]
    },
    {
      "cell_type": "code",
      "source": [
        "pca = PCA(n_components=3)\n",
        "data2=pca.fit(df_normalized)\n",
        "data2=pca.transform(df_normalized[0:-210000])\n",
        "pca.components_\n",
        "\n",
        "plot.plot(pca.explained_variance_ratio_)\n",
        "plot.ylabel('Explained Variance')\n",
        "plot.xlabel('Components')\n",
        "plot.show()"
      ],
      "metadata": {
        "colab": {
          "base_uri": "https://localhost:8080/",
          "height": 279
        },
        "id": "9TshdjWqPS3P",
        "outputId": "c06c33e1-0fee-42b3-a4e7-f33c35253fc2"
      },
      "execution_count": null,
      "outputs": [
        {
          "output_type": "display_data",
          "data": {
            "text/plain": [
              "<Figure size 432x288 with 1 Axes>"
            ],
            "image/png": "[encoded data removed]"
          },
          "metadata": {
            "needs_background": "light"
          }
        }
      ]
    },
    {
      "cell_type": "code",
      "source": [
        "plot.scatter(data2[:,0],data2[:,1],c=\"r\",marker=\".\")\n",
        "plot.ylabel('feature A')\n",
        "plot.xlabel('feature B')\n",
        "plot.show()"
      ],
      "metadata": {
        "colab": {
          "base_uri": "https://localhost:8080/",
          "height": 279
        },
        "id": "ZdG366CMPXwE",
        "outputId": "040e4cdd-6a59-4350-86e7-276fbf99cf00"
      },
      "execution_count": null,
      "outputs": [
        {
          "output_type": "display_data",
          "data": {
            "text/plain": [
              "<Figure size 432x288 with 1 Axes>"
            ],
            "image/png": "[encoded data removed]"
          },
          "metadata": {
            "needs_background": "light"
          }
        }
      ]
    },
    {
      "cell_type": "code",
      "source": [
        "data2=pca.transform(df_normalized[-210000:])"
      ],
      "metadata": {
        "id": "Bz17_Z8mRgiO"
      },
      "execution_count": null,
      "outputs": []
    },
    {
      "cell_type": "code",
      "source": [
        "plot.scatter(data2[:,0],data2[:,1],c=\"r\",marker=\".\")\n",
        "plot.ylabel('feature A')\n",
        "plot.xlabel('feature B')\n",
        "plot.show()"
      ],
      "metadata": {
        "id": "SOW0Fwq7RjAa",
        "outputId": "f0fca52e-c4e8-438a-8f6d-734bbf1df6f2",
        "colab": {
          "base_uri": "https://localhost:8080/",
          "height": 279
        }
      },
      "execution_count": null,
      "outputs": [
        {
          "output_type": "display_data",
          "data": {
            "text/plain": [
              "<Figure size 432x288 with 1 Axes>"
            ],
            "image/png": "[encoded data removed]"
          },
          "metadata": {
            "needs_background": "light"
          }
        }
      ]
    }
  ]
}