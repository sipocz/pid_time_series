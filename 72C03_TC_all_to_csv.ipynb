{
  "nbformat": 4,
  "nbformat_minor": 0,
  "metadata": {
    "colab": {
      "provenance": [],
      "include_colab_link": true
    },
    "kernelspec": {
      "name": "python3",
      "display_name": "Python 3"
    },
    "language_info": {
      "name": "python"
    }
  },
  "cells": [
    {
      "cell_type": "markdown",
      "metadata": {
        "id": "view-in-github",
        "colab_type": "text"
      },
      "source": [
        "<a href=\"https://colab.research.google.com/github/sipocz/pid_time_series/blob/main/72C03_TC_all_to_csv.ipynb\" target=\"_parent\"><img src=\"https://colab.research.google.com/assets/colab-badge.svg\" alt=\"Open In Colab\"/></a>"
      ]
    },
    {
      "cell_type": "code",
      "execution_count": 1,
      "metadata": {
        "id": "jYu8EGOIuCTM"
      },
      "outputs": [],
      "source": [
        "import pandas as pd\n",
        "import os\n",
        "from google.colab import files\n",
        "from google.colab import drive"
      ]
    },
    {
      "cell_type": "code",
      "source": [
        "drive.mount('/content/drive')"
      ],
      "metadata": {
        "id": "ikXwRmr6uXpK",
        "colab": {
          "base_uri": "https://localhost:8080/"
        },
        "outputId": "9340c799-9707-4333-b719-b645e4765553"
      },
      "execution_count": 2,
      "outputs": [
        {
          "output_type": "stream",
          "name": "stdout",
          "text": [
            "Mounted at /content/drive\n"
          ]
        }
      ]
    },
    {
      "cell_type": "code",
      "source": [
        "user = \"SL\""
      ],
      "metadata": {
        "id": "P8NF5qKNuZYR"
      },
      "execution_count": 3,
      "outputs": []
    },
    {
      "cell_type": "code",
      "source": [
        "if user==\"Anna\":\n",
        "    path = \"/content/drive/MyDrive/Egyetem_MSc/Diplomamunka/2022Anna/Datapipeline/4/\"\n",
        "else:\n",
        "    path = \"/content/drive/MyDrive/2022Anna/Datapipeline/4/\""
      ],
      "metadata": {
        "id": "3tkqhfdDub4B"
      },
      "execution_count": 4,
      "outputs": []
    },
    {
      "cell_type": "code",
      "source": [
        "#Listát készít a driveon lévő mappa exceleinek elérési útvonaláról (debug módban kiirja az elérési utakat)\n",
        "def create_file_list(path_name, extension=\".csv\",debug=False):\n",
        " \n",
        "  dir_path = os.path.dirname(path_name)\n",
        "  eleresi_utak = []\n",
        "\n",
        "  for root, dirs, files in os.walk(dir_path):\n",
        "    for file in files:\n",
        "      if file.endswith(extension):\n",
        "        if debug:\n",
        "          print(root+'/'+str(file))\n",
        "        eleresi_utak.append(root+'/'+str(file))\n",
        "  return (eleresi_utak)"
      ],
      "metadata": {
        "id": "jtYYz9amueBx"
      },
      "execution_count": 5,
      "outputs": []
    },
    {
      "cell_type": "code",
      "source": [
        "#File lista meghívás\n",
        "file_list=create_file_list(path, \".csv\")"
      ],
      "metadata": {
        "id": "k2z-TOpKufsR"
      },
      "execution_count": 6,
      "outputs": []
    },
    {
      "cell_type": "code",
      "source": [
        "TC_list = []\n",
        "for i,file_name in enumerate(file_list):\n",
        "  if \"72C03_TC\" in file_name:\n",
        "    TC_list.append(file_name)"
      ],
      "metadata": {
        "id": "nUeZ_7rbuhSJ"
      },
      "execution_count": 7,
      "outputs": []
    },
    {
      "cell_type": "code",
      "source": [
        "TC_list.sort()"
      ],
      "metadata": {
        "id": "la67W-FXujUJ"
      },
      "execution_count": 8,
      "outputs": []
    },
    {
      "cell_type": "code",
      "source": [
        "full_df = pd.concat([pd.read_csv(f, usecols=[1, 5, 2, 4]) for f in TC_list])"
      ],
      "metadata": {
        "id": "uCKrt64mukgJ"
      },
      "execution_count": 9,
      "outputs": []
    },
    {
      "cell_type": "code",
      "source": [
        "full_df.dropna(inplace=True)"
      ],
      "metadata": {
        "id": "ThbzBatCup6j"
      },
      "execution_count": 10,
      "outputs": []
    },
    {
      "cell_type": "code",
      "source": [
        "auto_list = list(full_df['A'])\n",
        "out_list = list(full_df['Out'])\n",
        "sp_list = list(full_df['ISp'])\n",
        "pv_list = list(full_df['Pv'])\n",
        "error_list = []\n",
        "for i in range(len(auto_list)):\n",
        "  error_list.append(sp_list[i] - pv_list[i])"
      ],
      "metadata": {
        "id": "Lvfi2munuqY5"
      },
      "execution_count": 11,
      "outputs": []
    },
    {
      "cell_type": "code",
      "source": [
        "all_vertical = []\n",
        "error_vertical = []\n",
        "for i in range(len(auto_list)-19):\n",
        "  osszeg = sum(auto_list[i:i+20])\n",
        "  if osszeg == 20:\n",
        "    all_vertical.append(sp_list[i:i+20] + out_list[i:i+20] + pv_list[i:i+20])\n",
        "    error_vertical.append(error_list[i:i+20])\n",
        "  elif osszeg == 19.5:\n",
        "    all_vertical.append(0)\n",
        "    error_vertical.append(0)"
      ],
      "metadata": {
        "id": "Ytn81vLyusQp"
      },
      "execution_count": 12,
      "outputs": []
    },
    {
      "cell_type": "code",
      "source": [
        "cols1=[str(i) for i in range(60) ]\n",
        "cols2=[str(i) for i in range(20) ]\n"
      ],
      "metadata": {
        "id": "Picodk7pr2m-"
      },
      "execution_count": 36,
      "outputs": []
    },
    {
      "cell_type": "code",
      "source": [
        "def clear_bug(list_in):\n",
        "    outlist=[]\n",
        "    c=0\n",
        "    for i in range(len(list_in)):\n",
        "        if type (list_in[i])!=list:\n",
        "            print(f\"{c} bug\")\n",
        "            c+=1\n",
        "        else:\n",
        "            outlist.append(list_in[i])\n",
        "    return(outlist)\n",
        "\n"
      ],
      "metadata": {
        "id": "89RXwfPksYGN"
      },
      "execution_count": 37,
      "outputs": []
    },
    {
      "cell_type": "code",
      "source": [
        "cleared_list=clear_bug(all_vertical)\n",
        "cleared_error=clear_bug(error_vertical)"
      ],
      "metadata": {
        "id": "X4pW1RvssETO"
      },
      "execution_count": null,
      "outputs": []
    },
    {
      "cell_type": "code",
      "source": [
        "df_done = pd.DataFrame(cleared_list[1:], columns=cols1)\n",
        "df_error_done = pd.DataFrame(cleared_error,columns=cols2)"
      ],
      "metadata": {
        "id": "YeOXCO6kvjUC"
      },
      "execution_count": 40,
      "outputs": []
    },
    {
      "cell_type": "code",
      "source": [
        "df_done.head()"
      ],
      "metadata": {
        "colab": {
          "base_uri": "https://localhost:8080/",
          "height": 235
        },
        "id": "nkmjHGxRrLpP",
        "outputId": "1593090e-62b0-467f-b65a-56fb3d39974a"
      },
      "execution_count": 41,
      "outputs": [
        {
          "output_type": "execute_result",
          "data": {
            "text/plain": [
              "      0     1     2     3     4     5     6     7     8     9  ...         50  \\\n",
              "0  22.0  22.0  22.0  22.0  22.0  22.0  22.0  22.0  22.0  22.0  ...  22.628368   \n",
              "1  22.0  22.0  22.0  22.0  22.0  22.0  22.0  22.0  22.0  22.0  ...  23.383690   \n",
              "2  22.0  22.0  22.0  22.0  22.0  22.0  22.0  22.0  22.0  22.0  ...  23.562218   \n",
              "3  22.0  22.0  22.0  22.0  22.0  22.0  22.0  22.0  22.0  22.0  ...  24.171051   \n",
              "4  22.0  22.0  22.0  22.0  22.0  22.0  22.0  22.0  22.0  22.0  ...  24.241245   \n",
              "\n",
              "          51         52         53         54         55         56  \\\n",
              "0  23.383690  23.562218  24.171051  24.241245  24.416725  24.595253   \n",
              "1  23.562218  24.171051  24.241245  24.416725  24.595253  24.703590   \n",
              "2  24.171051  24.241245  24.416725  24.595253  24.703590  24.738686   \n",
              "3  24.241245  24.416725  24.595253  24.703590  24.738686  24.668495   \n",
              "4  24.416725  24.595253  24.703590  24.738686  24.668495  24.522011   \n",
              "\n",
              "          57         58         59  \n",
              "0  24.703590  24.738686  24.668495  \n",
              "1  24.738686  24.668495  24.522011  \n",
              "2  24.668495  24.522011  24.522011  \n",
              "3  24.522011  24.522011  24.311440  \n",
              "4  24.522011  24.311440  24.206150  \n",
              "\n",
              "[5 rows x 60 columns]"
            ],
            "text/html": [
              "\n",
              "  <div id=\"df-765ab730-75e7-4f23-a759-782de92b03b2\">\n",
              "    <div class=\"colab-df-container\">\n",
              "      <div>\n",
              "<style scoped>\n",
              "    .dataframe tbody tr th:only-of-type {\n",
              "        vertical-align: middle;\n",
              "    }\n",
              "\n",
              "    .dataframe tbody tr th {\n",
              "        vertical-align: top;\n",
              "    }\n",
              "\n",
              "    .dataframe thead th {\n",
              "        text-align: right;\n",
              "    }\n",
              "</style>\n",
              "<table border=\"1\" class=\"dataframe\">\n",
              "  <thead>\n",
              "    <tr style=\"text-align: right;\">\n",
              "      <th></th>\n",
              "      <th>0</th>\n",
              "      <th>1</th>\n",
              "      <th>2</th>\n",
              "      <th>3</th>\n",
              "      <th>4</th>\n",
              "      <th>5</th>\n",
              "      <th>6</th>\n",
              "      <th>7</th>\n",
              "      <th>8</th>\n",
              "      <th>9</th>\n",
              "      <th>...</th>\n",
              "      <th>50</th>\n",
              "      <th>51</th>\n",
              "      <th>52</th>\n",
              "      <th>53</th>\n",
              "      <th>54</th>\n",
              "      <th>55</th>\n",
              "      <th>56</th>\n",
              "      <th>57</th>\n",
              "      <th>58</th>\n",
              "      <th>59</th>\n",
              "    </tr>\n",
              "  </thead>\n",
              "  <tbody>\n",
              "    <tr>\n",
              "      <th>0</th>\n",
              "      <td>22.0</td>\n",
              "      <td>22.0</td>\n",
              "      <td>22.0</td>\n",
              "      <td>22.0</td>\n",
              "      <td>22.0</td>\n",
              "      <td>22.0</td>\n",
              "      <td>22.0</td>\n",
              "      <td>22.0</td>\n",
              "      <td>22.0</td>\n",
              "      <td>22.0</td>\n",
              "      <td>...</td>\n",
              "      <td>22.628368</td>\n",
              "      <td>23.383690</td>\n",
              "      <td>23.562218</td>\n",
              "      <td>24.171051</td>\n",
              "      <td>24.241245</td>\n",
              "      <td>24.416725</td>\n",
              "      <td>24.595253</td>\n",
              "      <td>24.703590</td>\n",
              "      <td>24.738686</td>\n",
              "      <td>24.668495</td>\n",
              "    </tr>\n",
              "    <tr>\n",
              "      <th>1</th>\n",
              "      <td>22.0</td>\n",
              "      <td>22.0</td>\n",
              "      <td>22.0</td>\n",
              "      <td>22.0</td>\n",
              "      <td>22.0</td>\n",
              "      <td>22.0</td>\n",
              "      <td>22.0</td>\n",
              "      <td>22.0</td>\n",
              "      <td>22.0</td>\n",
              "      <td>22.0</td>\n",
              "      <td>...</td>\n",
              "      <td>23.383690</td>\n",
              "      <td>23.562218</td>\n",
              "      <td>24.171051</td>\n",
              "      <td>24.241245</td>\n",
              "      <td>24.416725</td>\n",
              "      <td>24.595253</td>\n",
              "      <td>24.703590</td>\n",
              "      <td>24.738686</td>\n",
              "      <td>24.668495</td>\n",
              "      <td>24.522011</td>\n",
              "    </tr>\n",
              "    <tr>\n",
              "      <th>2</th>\n",
              "      <td>22.0</td>\n",
              "      <td>22.0</td>\n",
              "      <td>22.0</td>\n",
              "      <td>22.0</td>\n",
              "      <td>22.0</td>\n",
              "      <td>22.0</td>\n",
              "      <td>22.0</td>\n",
              "      <td>22.0</td>\n",
              "      <td>22.0</td>\n",
              "      <td>22.0</td>\n",
              "      <td>...</td>\n",
              "      <td>23.562218</td>\n",
              "      <td>24.171051</td>\n",
              "      <td>24.241245</td>\n",
              "      <td>24.416725</td>\n",
              "      <td>24.595253</td>\n",
              "      <td>24.703590</td>\n",
              "      <td>24.738686</td>\n",
              "      <td>24.668495</td>\n",
              "      <td>24.522011</td>\n",
              "      <td>24.522011</td>\n",
              "    </tr>\n",
              "    <tr>\n",
              "      <th>3</th>\n",
              "      <td>22.0</td>\n",
              "      <td>22.0</td>\n",
              "      <td>22.0</td>\n",
              "      <td>22.0</td>\n",
              "      <td>22.0</td>\n",
              "      <td>22.0</td>\n",
              "      <td>22.0</td>\n",
              "      <td>22.0</td>\n",
              "      <td>22.0</td>\n",
              "      <td>22.0</td>\n",
              "      <td>...</td>\n",
              "      <td>24.171051</td>\n",
              "      <td>24.241245</td>\n",
              "      <td>24.416725</td>\n",
              "      <td>24.595253</td>\n",
              "      <td>24.703590</td>\n",
              "      <td>24.738686</td>\n",
              "      <td>24.668495</td>\n",
              "      <td>24.522011</td>\n",
              "      <td>24.522011</td>\n",
              "      <td>24.311440</td>\n",
              "    </tr>\n",
              "    <tr>\n",
              "      <th>4</th>\n",
              "      <td>22.0</td>\n",
              "      <td>22.0</td>\n",
              "      <td>22.0</td>\n",
              "      <td>22.0</td>\n",
              "      <td>22.0</td>\n",
              "      <td>22.0</td>\n",
              "      <td>22.0</td>\n",
              "      <td>22.0</td>\n",
              "      <td>22.0</td>\n",
              "      <td>22.0</td>\n",
              "      <td>...</td>\n",
              "      <td>24.241245</td>\n",
              "      <td>24.416725</td>\n",
              "      <td>24.595253</td>\n",
              "      <td>24.703590</td>\n",
              "      <td>24.738686</td>\n",
              "      <td>24.668495</td>\n",
              "      <td>24.522011</td>\n",
              "      <td>24.522011</td>\n",
              "      <td>24.311440</td>\n",
              "      <td>24.206150</td>\n",
              "    </tr>\n",
              "  </tbody>\n",
              "</table>\n",
              "<p>5 rows × 60 columns</p>\n",
              "</div>\n",
              "      <button class=\"colab-df-convert\" onclick=\"convertToInteractive('df-765ab730-75e7-4f23-a759-782de92b03b2')\"\n",
              "              title=\"Convert this dataframe to an interactive table.\"\n",
              "              style=\"display:none;\">\n",
              "        \n",
              "  <svg xmlns=\"http://www.w3.org/2000/svg\" height=\"24px\"viewBox=\"0 0 24 24\"\n",
              "       width=\"24px\">\n",
              "    <path d=\"M0 0h24v24H0V0z\" fill=\"none\"/>\n",
              "    <path d=\"M18.56 5.44l.94 2.06.94-2.06 2.06-.94-2.06-.94-.94-2.06-.94 2.06-2.06.94zm-11 1L8.5 8.5l.94-2.06 2.06-.94-2.06-.94L8.5 2.5l-.94 2.06-2.06.94zm10 10l.94 2.06.94-2.06 2.06-.94-2.06-.94-.94-2.06-.94 2.06-2.06.94z\"/><path d=\"M17.41 7.96l-1.37-1.37c-.4-.4-.92-.59-1.43-.59-.52 0-1.04.2-1.43.59L10.3 9.45l-7.72 7.72c-.78.78-.78 2.05 0 2.83L4 21.41c.39.39.9.59 1.41.59.51 0 1.02-.2 1.41-.59l7.78-7.78 2.81-2.81c.8-.78.8-2.07 0-2.86zM5.41 20L4 18.59l7.72-7.72 1.47 1.35L5.41 20z\"/>\n",
              "  </svg>\n",
              "      </button>\n",
              "      \n",
              "  <style>\n",
              "    .colab-df-container {\n",
              "      display:flex;\n",
              "      flex-wrap:wrap;\n",
              "      gap: 12px;\n",
              "    }\n",
              "\n",
              "    .colab-df-convert {\n",
              "      background-color: #E8F0FE;\n",
              "      border: none;\n",
              "      border-radius: 50%;\n",
              "      cursor: pointer;\n",
              "      display: none;\n",
              "      fill: #1967D2;\n",
              "      height: 32px;\n",
              "      padding: 0 0 0 0;\n",
              "      width: 32px;\n",
              "    }\n",
              "\n",
              "    .colab-df-convert:hover {\n",
              "      background-color: #E2EBFA;\n",
              "      box-shadow: 0px 1px 2px rgba(60, 64, 67, 0.3), 0px 1px 3px 1px rgba(60, 64, 67, 0.15);\n",
              "      fill: #174EA6;\n",
              "    }\n",
              "\n",
              "    [theme=dark] .colab-df-convert {\n",
              "      background-color: #3B4455;\n",
              "      fill: #D2E3FC;\n",
              "    }\n",
              "\n",
              "    [theme=dark] .colab-df-convert:hover {\n",
              "      background-color: #434B5C;\n",
              "      box-shadow: 0px 1px 3px 1px rgba(0, 0, 0, 0.15);\n",
              "      filter: drop-shadow(0px 1px 2px rgba(0, 0, 0, 0.3));\n",
              "      fill: #FFFFFF;\n",
              "    }\n",
              "  </style>\n",
              "\n",
              "      <script>\n",
              "        const buttonEl =\n",
              "          document.querySelector('#df-765ab730-75e7-4f23-a759-782de92b03b2 button.colab-df-convert');\n",
              "        buttonEl.style.display =\n",
              "          google.colab.kernel.accessAllowed ? 'block' : 'none';\n",
              "\n",
              "        async function convertToInteractive(key) {\n",
              "          const element = document.querySelector('#df-765ab730-75e7-4f23-a759-782de92b03b2');\n",
              "          const dataTable =\n",
              "            await google.colab.kernel.invokeFunction('convertToInteractive',\n",
              "                                                     [key], {});\n",
              "          if (!dataTable) return;\n",
              "\n",
              "          const docLinkHtml = 'Like what you see? Visit the ' +\n",
              "            '<a target=\"_blank\" href=https://colab.research.google.com/notebooks/data_table.ipynb>data table notebook</a>'\n",
              "            + ' to learn more about interactive tables.';\n",
              "          element.innerHTML = '';\n",
              "          dataTable['output_type'] = 'display_data';\n",
              "          await google.colab.output.renderOutput(dataTable, element);\n",
              "          const docLink = document.createElement('div');\n",
              "          docLink.innerHTML = docLinkHtml;\n",
              "          element.appendChild(docLink);\n",
              "        }\n",
              "      </script>\n",
              "    </div>\n",
              "  </div>\n",
              "  "
            ]
          },
          "metadata": {},
          "execution_count": 41
        }
      ]
    },
    {
      "cell_type": "code",
      "source": [
        "#export to csv to google drive\n",
        "if user==\"Anna\":\n",
        "  df_done.to_csv('72C03_TC_transzponalt.csv', header=None, index=False, encoding='utf-8-sig') \n",
        "  files.download('72C03_TC_transzponalt.csv')\n",
        "  df_error_done.to_csv('72C03_TC_error_transzponalt.csv', header=None, index=False, encoding='utf-8-sig') \n",
        "  files.download('72C03_TC_error_transzponalt.csv')\n",
        "else:\n",
        "  df_done.to_csv(\"/content/drive/MyDrive/2022Anna/Datapipeline/5/72C03_TC_toNN.csv\", header=True, index=False, encoding='utf-8-sig')\n",
        "  df_error_done.to_csv(\"/content/drive/MyDrive/2022Anna/Datapipeline/5/72C03_TC_error_toNN.csv\", header=True, index=False, encoding='utf-8-sig')"
      ],
      "metadata": {
        "id": "YX7LyiZ-u6yy"
      },
      "execution_count": 42,
      "outputs": []
    }
  ]
}