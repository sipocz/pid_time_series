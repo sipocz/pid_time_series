{
  "nbformat": 4,
  "nbformat_minor": 0,
  "metadata": {
    "colab": {
      "name": "Pid_time_Series_DataPipeline.ipynb",
      "provenance": [],
      "authorship_tag": "ABX9TyNhuV10E/2/hfQyBUtGwgtz",
      "include_colab_link": true
    },
    "kernelspec": {
      "name": "python3",
      "display_name": "Python 3"
    },
    "language_info": {
      "name": "python"
    }
  },
  "cells": [
    {
      "cell_type": "markdown",
      "metadata": {
        "id": "view-in-github",
        "colab_type": "text"
      },
      "source": [
        "<a href=\"https://colab.research.google.com/github/sipocz/pid_time_series/blob/main/Pid_time_Series_DataPipeline.ipynb\" target=\"_parent\"><img src=\"https://colab.research.google.com/assets/colab-badge.svg\" alt=\"Open In Colab\"/></a>"
      ]
    },
    {
      "cell_type": "code",
      "source": [
        "import json"
      ],
      "metadata": {
        "id": "Rpb_V8OChysO"
      },
      "execution_count": 73,
      "outputs": []
    },
    {
      "cell_type": "code",
      "execution_count": 74,
      "metadata": {
        "id": "ZdSExw0DfHu6"
      },
      "outputs": [],
      "source": [
        "url=\"https://github.com/sipocz/pid_time_series/raw/2e7d263d051c58e9ba9f879472a02ed6fe0d79f5/HW_PID.csv\"\n"
      ]
    },
    {
      "cell_type": "code",
      "source": [
        "!wget $url"
      ],
      "metadata": {
        "colab": {
          "base_uri": "https://localhost:8080/"
        },
        "id": "Fc-DyqvTgT4_",
        "outputId": "7b65d1e1-2626-4ded-bda2-f6ace83c70f8"
      },
      "execution_count": 75,
      "outputs": [
        {
          "output_type": "stream",
          "name": "stdout",
          "text": [
            "--2022-07-08 11:43:05--  https://github.com/sipocz/pid_time_series/raw/2e7d263d051c58e9ba9f879472a02ed6fe0d79f5/HW_PID.csv\n",
            "Resolving github.com (github.com)... 140.82.113.3\n",
            "Connecting to github.com (github.com)|140.82.113.3|:443... connected.\n",
            "HTTP request sent, awaiting response... 302 Found\n",
            "Location: https://raw.githubusercontent.com/sipocz/pid_time_series/2e7d263d051c58e9ba9f879472a02ed6fe0d79f5/HW_PID.csv [following]\n",
            "--2022-07-08 11:43:05--  https://raw.githubusercontent.com/sipocz/pid_time_series/2e7d263d051c58e9ba9f879472a02ed6fe0d79f5/HW_PID.csv\n",
            "Resolving raw.githubusercontent.com (raw.githubusercontent.com)... 185.199.108.133, 185.199.111.133, 185.199.110.133, ...\n",
            "Connecting to raw.githubusercontent.com (raw.githubusercontent.com)|185.199.108.133|:443... connected.\n",
            "HTTP request sent, awaiting response... 200 OK\n",
            "Length: 4260 (4.2K) [text/plain]\n",
            "Saving to: ‘HW_PID.csv.2’\n",
            "\n",
            "HW_PID.csv.2        100%[===================>]   4.16K  --.-KB/s    in 0s      \n",
            "\n",
            "2022-07-08 11:43:05 (32.2 MB/s) - ‘HW_PID.csv.2’ saved [4260/4260]\n",
            "\n"
          ]
        }
      ]
    },
    {
      "cell_type": "code",
      "source": [
        "fname=url.split(\"/\")[-1]"
      ],
      "metadata": {
        "id": "V18FOWUwgrdM"
      },
      "execution_count": 76,
      "outputs": []
    },
    {
      "cell_type": "code",
      "source": [
        ""
      ],
      "metadata": {
        "id": "_4kiR0zVjx2r"
      },
      "execution_count": 76,
      "outputs": []
    },
    {
      "cell_type": "code",
      "source": [
        "def get_controller_name(fname):\n",
        "    f=open(fname)\n",
        "    o=f.readlines()\n",
        "    f.close()\n",
        "    py_json=json.loads(o[0])\n",
        "    out=py_json[0][\"itemID\"].split(\".\")[0]\n",
        "    return(out)\n"
      ],
      "metadata": {
        "id": "WGn5iCqPjhIr"
      },
      "execution_count": 77,
      "outputs": []
    },
    {
      "cell_type": "code",
      "source": [
        "\n",
        "__DEBUG__=True\n",
        "def extract_values(fname,cname):\n",
        "    o=[]\n",
        "    pid_tag=get_controller_name(fname)\n",
        "    f=open(fname)\n",
        "    o=f.readlines()\n",
        "    f.close()\n",
        "    for py_json_str in o:\n",
        "        py_json=json.loads(py_json_str)\n",
        "        for rec in py_json:\n",
        "            if rec[\"itemID\"]==pid_tag+cname:\n",
        "                if __DEBUG__:    \n",
        "                    print(f'{rec[\"timestamp\"]},{rec[\"value\"]}')\n",
        "                o.append([{rec[\"timestamp\"],])    "
      ],
      "metadata": {
        "id": "KCR4rA1nkyCM"
      },
      "execution_count": 78,
      "outputs": []
    },
    {
      "cell_type": "code",
      "source": [
        "extract_values(fname,\".OP\")"
      ],
      "metadata": {
        "colab": {
          "base_uri": "https://localhost:8080/"
        },
        "id": "j1lttxjlmHTu",
        "outputId": "5dd6f6c3-c971-43bf-ab08-0b5796dc00fb"
      },
      "execution_count": 80,
      "outputs": [
        {
          "output_type": "stream",
          "name": "stdout",
          "text": [
            "2022-06-23T09:34:59.101Z,34.381290435791016\n",
            "2022-06-23T09:35:04.101Z,34.46389389038086\n",
            "2022-06-23T09:35:09.101Z,34.015689849853516\n",
            "2022-06-23T09:35:14.101Z,34.14960861206055\n",
            "2022-06-23T09:35:19.101Z,34.75034713745117\n",
            "2022-06-23T09:35:24.101Z,34.53281021118164\n",
            "2022-06-23T09:35:29.101Z,34.395538330078125\n",
            "2022-06-23T09:35:34.101Z,35.04296875\n",
            "2022-06-23T09:35:39.101Z,34.8258056640625\n"
          ]
        }
      ]
    }
  ]
}