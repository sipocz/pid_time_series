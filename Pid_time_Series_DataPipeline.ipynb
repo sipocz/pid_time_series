{
  "nbformat": 4,
  "nbformat_minor": 0,
  "metadata": {
    "colab": {
      "name": "Pid_time_Series_DataPipeline.ipynb",
      "provenance": [],
      "authorship_tag": "ABX9TyMUAjhm9KIOB0PuVBINojuI",
      "include_colab_link": true
    },
    "kernelspec": {
      "name": "python3",
      "display_name": "Python 3"
    },
    "language_info": {
      "name": "python"
    }
  },
  "cells": [
    {
      "cell_type": "markdown",
      "metadata": {
        "id": "view-in-github",
        "colab_type": "text"
      },
      "source": [
        "<a href=\"https://colab.research.google.com/github/sipocz/pid_time_series/blob/main/Pid_time_Series_DataPipeline.ipynb\" target=\"_parent\"><img src=\"https://colab.research.google.com/assets/colab-badge.svg\" alt=\"Open In Colab\"/></a>"
      ]
    },
    {
      "cell_type": "code",
      "execution_count": 10,
      "metadata": {
        "colab": {
          "base_uri": "https://localhost:8080/"
        },
        "id": "ZdSExw0DfHu6",
        "outputId": "34a15105-b0c4-43f2-eba4-7f814b025c2b"
      },
      "outputs": [
        {
          "output_type": "stream",
          "name": "stdout",
          "text": [
            "[2, 4, 5, 6]\n"
          ]
        }
      ],
      "source": [
        "def updation(list1,K):\n",
        "    \n",
        "    del(list1[K])\n",
        "    o=list1[1:-1]\n",
        "    print(o)\n",
        "    return\n",
        "\n",
        "list1 = [1,2,3,4,5,6,7]\n",
        "\n",
        "K = 2\n",
        "\n",
        "updation(list1,K)\n"
      ]
    }
  ]
}