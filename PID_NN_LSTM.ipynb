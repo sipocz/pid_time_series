{
  "nbformat": 4,
  "nbformat_minor": 0,
  "metadata": {
    "colab": {
      "provenance": [],
      "authorship_tag": "ABX9TyMG4mXbqf6PGegUqGJdnApJ",
      "include_colab_link": true
    },
    "kernelspec": {
      "name": "python3",
      "display_name": "Python 3"
    },
    "language_info": {
      "name": "python"
    }
  },
  "cells": [
    {
      "cell_type": "markdown",
      "metadata": {
        "id": "view-in-github",
        "colab_type": "text"
      },
      "source": [
        "<a href=\"https://colab.research.google.com/github/sipocz/pid_time_series/blob/main/PID_NN_LSTM.ipynb\" target=\"_parent\"><img src=\"https://colab.research.google.com/assets/colab-badge.svg\" alt=\"Open In Colab\"/></a>"
      ]
    },
    {
      "cell_type": "code",
      "execution_count": 111,
      "metadata": {
        "colab": {
          "base_uri": "https://localhost:8080/"
        },
        "id": "CMPiP2etfa77",
        "outputId": "94c68a18-4f0f-46ca-d554-e1637d8ff80d"
      },
      "outputs": [
        {
          "output_type": "stream",
          "name": "stdout",
          "text": [
            "Looking in indexes: https://pypi.org/simple, https://us-python.pkg.dev/colab-wheels/public/simple/\n",
            "Requirement already satisfied: wandb in /usr/local/lib/python3.9/dist-packages (0.15.0)\n",
            "Requirement already satisfied: sentry-sdk>=1.0.0 in /usr/local/lib/python3.9/dist-packages (from wandb) (1.20.0)\n",
            "Requirement already satisfied: PyYAML in /usr/local/lib/python3.9/dist-packages (from wandb) (6.0)\n",
            "Requirement already satisfied: setuptools in /usr/local/lib/python3.9/dist-packages (from wandb) (67.6.1)\n",
            "Requirement already satisfied: typing-extensions in /usr/local/lib/python3.9/dist-packages (from wandb) (4.5.0)\n",
            "Requirement already satisfied: protobuf!=4.21.0,<5,>=3.15.0 in /usr/local/lib/python3.9/dist-packages (from wandb) (3.20.3)\n",
            "Requirement already satisfied: setproctitle in /usr/local/lib/python3.9/dist-packages (from wandb) (1.3.2)\n",
            "Requirement already satisfied: Click!=8.0.0,>=7.0 in /usr/local/lib/python3.9/dist-packages (from wandb) (8.1.3)\n",
            "Requirement already satisfied: psutil>=5.0.0 in /usr/local/lib/python3.9/dist-packages (from wandb) (5.9.5)\n",
            "Requirement already satisfied: pathtools in /usr/local/lib/python3.9/dist-packages (from wandb) (0.1.2)\n",
            "Requirement already satisfied: appdirs>=1.4.3 in /usr/local/lib/python3.9/dist-packages (from wandb) (1.4.4)\n",
            "Requirement already satisfied: requests<3,>=2.0.0 in /usr/local/lib/python3.9/dist-packages (from wandb) (2.27.1)\n",
            "Requirement already satisfied: GitPython!=3.1.29,>=1.0.0 in /usr/local/lib/python3.9/dist-packages (from wandb) (3.1.31)\n",
            "Requirement already satisfied: docker-pycreds>=0.4.0 in /usr/local/lib/python3.9/dist-packages (from wandb) (0.4.0)\n",
            "Requirement already satisfied: six>=1.4.0 in /usr/local/lib/python3.9/dist-packages (from docker-pycreds>=0.4.0->wandb) (1.16.0)\n",
            "Requirement already satisfied: gitdb<5,>=4.0.1 in /usr/local/lib/python3.9/dist-packages (from GitPython!=3.1.29,>=1.0.0->wandb) (4.0.10)\n",
            "Requirement already satisfied: idna<4,>=2.5 in /usr/local/lib/python3.9/dist-packages (from requests<3,>=2.0.0->wandb) (3.4)\n",
            "Requirement already satisfied: urllib3<1.27,>=1.21.1 in /usr/local/lib/python3.9/dist-packages (from requests<3,>=2.0.0->wandb) (1.26.15)\n",
            "Requirement already satisfied: charset-normalizer~=2.0.0 in /usr/local/lib/python3.9/dist-packages (from requests<3,>=2.0.0->wandb) (2.0.12)\n",
            "Requirement already satisfied: certifi>=2017.4.17 in /usr/local/lib/python3.9/dist-packages (from requests<3,>=2.0.0->wandb) (2022.12.7)\n",
            "Requirement already satisfied: smmap<6,>=3.0.1 in /usr/local/lib/python3.9/dist-packages (from gitdb<5,>=4.0.1->GitPython!=3.1.29,>=1.0.0->wandb) (5.0.0)\n"
          ]
        }
      ],
      "source": [
        "!pip install wandb"
      ]
    },
    {
      "cell_type": "code",
      "source": [
        "import pandas as pd\n",
        "import os\n",
        "import seaborn as sns\n",
        "import wandb\n",
        "import numpy as np"
      ],
      "metadata": {
        "id": "FP9sb6xxfnhP"
      },
      "execution_count": 112,
      "outputs": []
    },
    {
      "cell_type": "code",
      "source": [
        "from google.colab import drive"
      ],
      "metadata": {
        "id": "AAzWEuYEfso1"
      },
      "execution_count": 113,
      "outputs": []
    },
    {
      "cell_type": "code",
      "source": [
        "drive.mount('/content/drive')"
      ],
      "metadata": {
        "colab": {
          "base_uri": "https://localhost:8080/"
        },
        "id": "pPAb2abxfwhA",
        "outputId": "ed32da5e-bba6-4b34-fd2e-f5c72cc4c425"
      },
      "execution_count": 114,
      "outputs": [
        {
          "output_type": "stream",
          "name": "stdout",
          "text": [
            "Drive already mounted at /content/drive; to attempt to forcibly remount, call drive.mount(\"/content/drive\", force_remount=True).\n"
          ]
        }
      ]
    },
    {
      "cell_type": "code",
      "source": [
        "#user = \"Anna\"\n",
        "user = \"SL\""
      ],
      "metadata": {
        "id": "LYnMtpnl5lze"
      },
      "execution_count": 115,
      "outputs": []
    },
    {
      "cell_type": "code",
      "source": [
        "if user==\"Anna\":\n",
        "    path = \"/content/drive/MyDrive/Egyetem_MSc/Diplomamunka/2022Anna/Datapipeline/SINT3_415/3D_transposed/\"\n",
        "else:\n",
        "    path = \"/content/drive/MyDrive/2022Anna/Datapipeline/SINT3_415/3D_transposed/\""
      ],
      "metadata": {
        "id": "njB0FzAaf79J"
      },
      "execution_count": 116,
      "outputs": []
    },
    {
      "cell_type": "code",
      "source": [
        "#user = \"Anna\"\n",
        "user = \"SL\"\n",
        "uzem = \"Szint3\"\n",
        "data_source=\"SINT3_415/3D_transposed\"\n",
        "#fname=\"72C03_TC_error_toNN.csv\"\n",
        "fname_good = \"415_SC_3D_part\"\n",
        "fname_bad = \"415_SC_3D_part\"\n",
        "fname_good_ext=[\"1.csv\",\"3.csv\",\"5.csv\",\"7.csv\"]\n",
        "fname_bad_ext=[\"2.csv\",\"4.csv\",\"6.csv\",\"8.csv\"]"
      ],
      "metadata": {
        "id": "tjqOyeAz9QoN"
      },
      "execution_count": 117,
      "outputs": []
    },
    {
      "cell_type": "code",
      "source": [
        "# Elérési út a 415_SC_error-hoz\n",
        "if user==\"Anna\":\n",
        "    path_good = \"/content/drive/MyDrive/Egyetem_MSc/Diplomamunka/2022Anna/Datapipeline/\" + data_source + \"/\" + fname_good\n",
        "    path_bad = \"/content/drive/MyDrive/Egyetem_MSc/Diplomamunka/2022Anna/Datapipeline/\" + data_source + \"/\" + fname_bad\n",
        "    path_fig = \"/content/drive/MyDrive/Egyetem_MSc/Diplomamunka/2022Anna/Datapipeline/plots/\"\n",
        "else:\n",
        "    path_good = \"/content/drive/MyDrive/2022Anna/Datapipeline/\" + data_source + \"/\" + fname_good \n",
        "    path_bad = \"/content/drive/MyDrive/2022Anna/Datapipeline/\" + data_source + \"/\" + fname_bad\n",
        "    path_fig = \"/content/drive/MyDrive/2022Anna/Datapipeline/plots/\"\n"
      ],
      "metadata": {
        "id": "EkIAUHJy9gw4"
      },
      "execution_count": 118,
      "outputs": []
    },
    {
      "cell_type": "code",
      "source": [],
      "metadata": {
        "id": "zB7VbGle9ZAJ"
      },
      "execution_count": 118,
      "outputs": []
    },
    {
      "cell_type": "code",
      "source": [
        "print(path_good)\n",
        "print(path_bad)"
      ],
      "metadata": {
        "colab": {
          "base_uri": "https://localhost:8080/"
        },
        "id": "jU0rRbAK9oan",
        "outputId": "8f994f12-bffe-42e5-bcf0-3f44c9d46a0c"
      },
      "execution_count": 119,
      "outputs": [
        {
          "output_type": "stream",
          "name": "stdout",
          "text": [
            "/content/drive/MyDrive/2022Anna/Datapipeline/SINT3_415/3D_transposed/415_SC_3D_part\n",
            "/content/drive/MyDrive/2022Anna/Datapipeline/SINT3_415/3D_transposed/415_SC_3D_part\n"
          ]
        }
      ]
    },
    {
      "cell_type": "code",
      "source": [
        "cols=[str(i) for i in range(60)]"
      ],
      "metadata": {
        "id": "uofXC0TJ9uVh"
      },
      "execution_count": 120,
      "outputs": []
    },
    {
      "cell_type": "code",
      "source": [
        "#Listát készít a driveon lévő mappa exceleinek elérési útvonaláról (debug módban kiirja az elérési utakat)\n",
        "def create_file_list(path_name, extension=\".csv\",debug=False):\n",
        " \n",
        "  dir_path = os.path.dirname(path_name)\n",
        "  eleresi_utak = []\n",
        "\n",
        "  for root, dirs, files in os.walk(dir_path):\n",
        "    for file in files:\n",
        "      if file.endswith(extension):\n",
        "        if debug:\n",
        "          print(root+'/'+str(file))\n",
        "        eleresi_utak.append(root+'/'+str(file))\n",
        "  return (eleresi_utak)"
      ],
      "metadata": {
        "id": "LJxGRjhN5bz5"
      },
      "execution_count": 121,
      "outputs": []
    },
    {
      "cell_type": "code",
      "source": [
        "#File lista meghívás\n",
        "file_list=create_file_list(path, \".csv\")"
      ],
      "metadata": {
        "id": "sK1mbzPx5u-F"
      },
      "execution_count": 122,
      "outputs": []
    },
    {
      "cell_type": "code",
      "source": [
        "df_good=pd.DataFrame(columns=cols)\n",
        "df_bad=pd.DataFrame(columns=cols)\n",
        "print(df_good.head())\n",
        "for i,goods in enumerate(fname_good_ext):\n",
        "    df_good_tmp = pd.read_csv(path_good+goods,usecols=None )\n",
        "    df_good_tmp.columns=cols\n",
        "    df_good=pd.concat([df_good,df_good_tmp],axis=0,)\n",
        "    df_bad_tmp = pd.read_csv(path_bad+fname_bad_ext[i],usecols=None)\n",
        "    df_bad_tmp.columns=cols\n",
        "    df_bad=pd.concat([df_bad,df_bad_tmp],axis=0)"
      ],
      "metadata": {
        "colab": {
          "base_uri": "https://localhost:8080/"
        },
        "id": "Wcgwq79u-jh-",
        "outputId": "c0065514-51b7-4d5b-ae59-cab76cd969e9"
      },
      "execution_count": 123,
      "outputs": [
        {
          "output_type": "stream",
          "name": "stdout",
          "text": [
            "Empty DataFrame\n",
            "Columns: [0, 1, 2, 3, 4, 5, 6, 7, 8, 9, 10, 11, 12, 13, 14, 15, 16, 17, 18, 19, 20, 21, 22, 23, 24, 25, 26, 27, 28, 29, 30, 31, 32, 33, 34, 35, 36, 37, 38, 39, 40, 41, 42, 43, 44, 45, 46, 47, 48, 49, 50, 51, 52, 53, 54, 55, 56, 57, 58, 59]\n",
            "Index: []\n",
            "\n",
            "[0 rows x 60 columns]\n"
          ]
        }
      ]
    },
    {
      "cell_type": "code",
      "source": [],
      "metadata": {
        "id": "IXyTV5qM_x66"
      },
      "execution_count": 123,
      "outputs": []
    },
    {
      "cell_type": "code",
      "source": [
        "len(df_good)"
      ],
      "metadata": {
        "colab": {
          "base_uri": "https://localhost:8080/"
        },
        "id": "MpcoLVYpgG4b",
        "outputId": "86c75ac2-8cd5-4000-dc5b-5987b565fe36"
      },
      "execution_count": 124,
      "outputs": [
        {
          "output_type": "execute_result",
          "data": {
            "text/plain": [
              "2646"
            ]
          },
          "metadata": {},
          "execution_count": 124
        }
      ]
    },
    {
      "cell_type": "code",
      "source": [
        "print(df_good.isnull().values.any())\n",
        "print(df_bad.isnull().values.any())"
      ],
      "metadata": {
        "colab": {
          "base_uri": "https://localhost:8080/"
        },
        "id": "poQhs4yz5_lm",
        "outputId": "26ae679c-8e08-4af1-a8ee-7528687e4fc3"
      },
      "execution_count": 125,
      "outputs": [
        {
          "output_type": "stream",
          "name": "stdout",
          "text": [
            "False\n",
            "False\n"
          ]
        }
      ]
    },
    {
      "cell_type": "code",
      "source": [
        "\n",
        "import matplotlib.pyplot as plot\n",
        "\n",
        "df_ = df_good\n",
        "\n",
        "# You must normalize the data before applying the fit method\n",
        "df_good_normalized=(df_ - df_.mean()) / df_.std()\n",
        "\n",
        "# Normalize bad data with the good data parameters\n",
        "df_bad_normalized=(df_bad - df_.mean()) / df_.std()"
      ],
      "metadata": {
        "id": "YtuGPiWs_lUU"
      },
      "execution_count": 126,
      "outputs": []
    },
    {
      "cell_type": "code",
      "source": [
        "df_.std()"
      ],
      "metadata": {
        "colab": {
          "base_uri": "https://localhost:8080/"
        },
        "id": "gjEin2TFCPX5",
        "outputId": "e3de0de0-2287-49fe-e4f4-7d56f212ceaa"
      },
      "execution_count": 127,
      "outputs": [
        {
          "output_type": "execute_result",
          "data": {
            "text/plain": [
              "0     26.253038\n",
              "1     26.245471\n",
              "2     26.237871\n",
              "3     26.230238\n",
              "4     26.222572\n",
              "5     26.214873\n",
              "6     26.207142\n",
              "7     26.199377\n",
              "8     26.191580\n",
              "9     26.183749\n",
              "10    26.175886\n",
              "11    26.167989\n",
              "12    26.160060\n",
              "13    26.152097\n",
              "14    26.144101\n",
              "15    26.136072\n",
              "16    26.128009\n",
              "17    26.119913\n",
              "18    26.111784\n",
              "19    26.103622\n",
              "20    26.027930\n",
              "21    26.028361\n",
              "22    26.031677\n",
              "23    26.032146\n",
              "24    26.024675\n",
              "25    26.017621\n",
              "26    26.010087\n",
              "27    26.002321\n",
              "28    25.994570\n",
              "29    25.986785\n",
              "30    25.978969\n",
              "31    25.971119\n",
              "32    25.963237\n",
              "33    25.955321\n",
              "34    25.947374\n",
              "35    25.939393\n",
              "36    25.931379\n",
              "37    25.923332\n",
              "38    25.915253\n",
              "39    25.907889\n",
              "40     3.694510\n",
              "41     3.498658\n",
              "42     3.404934\n",
              "43     3.377770\n",
              "44     3.376818\n",
              "45     3.376750\n",
              "46     3.376750\n",
              "47     3.376750\n",
              "48     3.376750\n",
              "49     3.376750\n",
              "50     3.376750\n",
              "51     3.376751\n",
              "52     3.376751\n",
              "53     3.376751\n",
              "54     3.376751\n",
              "55     3.376751\n",
              "56     3.376752\n",
              "57     3.376752\n",
              "58     3.376753\n",
              "59     3.376794\n",
              "dtype: float64"
            ]
          },
          "metadata": {},
          "execution_count": 127
        }
      ]
    },
    {
      "cell_type": "code",
      "source": [
        "df_good_normalized[\"state\"]=0\n",
        "df_bad_normalized[\"state\"]=1"
      ],
      "metadata": {
        "id": "WOKT3DeXBDxN"
      },
      "execution_count": 128,
      "outputs": []
    },
    {
      "cell_type": "code",
      "source": [
        "df_all_normalized=pd.concat([df_good_normalized,df_bad_normalized],axis=0)"
      ],
      "metadata": {
        "id": "R_PMaw5IC8f5"
      },
      "execution_count": 129,
      "outputs": []
    },
    {
      "cell_type": "code",
      "source": [
        "# Ez jó, kiinduló csv sora 60 széles, egymás után Sp Out Error\n",
        "X_good = np.ndarray(shape=(len(df_good),20,3))\n",
        "X_good[:,:,0] = df_good_normalized.iloc[:, 0:20]\n",
        "X_good[:,:,1] = df_good_normalized.iloc[:, 20:40]\n",
        "X_good[:,:,2] = df_good_normalized.iloc[:, 40:60]\n"
      ],
      "metadata": {
        "id": "AKTnKKRU6GTe"
      },
      "execution_count": 130,
      "outputs": []
    },
    {
      "cell_type": "code",
      "source": [
        "y_all=df_all_normalized[\"state\"]\n"
      ],
      "metadata": {
        "id": "KaDzZoklBWCT"
      },
      "execution_count": 131,
      "outputs": []
    },
    {
      "cell_type": "code",
      "source": [
        "X_all = np.ndarray(shape=(len(df_all_normalized),20,3))\n",
        "X_all[:,:,0] = df_all_normalized.iloc[:, 0:20]\n",
        "X_all[:,:,1] = df_all_normalized.iloc[:, 20:40]\n",
        "X_all[:,:,2] = df_all_normalized.iloc[:, 40:60]"
      ],
      "metadata": {
        "id": "YP58dTomBw_M"
      },
      "execution_count": 132,
      "outputs": []
    },
    {
      "cell_type": "code",
      "source": [
        "_N1_=1100 #70  #700\n",
        "_N2_=118 #12  #120\n",
        "_lr_=0.001\n",
        "_batch_size_=32\n",
        "_drop1_=0.5\n",
        "_drop2_=0.7\n",
        "_epochs_=9500"
      ],
      "metadata": {
        "id": "cT7WvAtogY72"
      },
      "execution_count": 133,
      "outputs": []
    },
    {
      "cell_type": "code",
      "source": [],
      "metadata": {
        "id": "mwQI93vq7EoO"
      },
      "execution_count": 133,
      "outputs": []
    },
    {
      "cell_type": "code",
      "source": [
        "import wandb"
      ],
      "metadata": {
        "id": "Flg4-1sMJMDs"
      },
      "execution_count": 134,
      "outputs": []
    },
    {
      "cell_type": "code",
      "source": [
        "config = {\"lr\": _lr_, \"batch_size\": _batch_size_,\"architecture\": \"LSTM\", \n",
        "          \"depth\": 2,\n",
        "          \"layer1\":_N1_,  \"layer2\":_N2_, \n",
        "          \"drop1\":_drop1_,\"drop2\":_drop2_,\n",
        "          \"epochs\":_epochs_\n",
        "          \n",
        "          \n",
        "          }"
      ],
      "metadata": {
        "id": "vuVykQzJgcET"
      },
      "execution_count": 135,
      "outputs": []
    },
    {
      "cell_type": "code",
      "source": [],
      "metadata": {
        "id": "hrDCKu0_JLbV"
      },
      "execution_count": 135,
      "outputs": []
    },
    {
      "cell_type": "code",
      "source": [
        "wandb.init(project=\"pid_3d_lstm\", entity=\"sipoczlaszlo\",config=config)"
      ],
      "metadata": {
        "colab": {
          "base_uri": "https://localhost:8080/",
          "height": 212
        },
        "id": "nT-d05kxI5cL",
        "outputId": "af11272a-ea3a-424c-9dca-a0bc72be2ca7"
      },
      "execution_count": 136,
      "outputs": [
        {
          "output_type": "display_data",
          "data": {
            "text/plain": [
              "<IPython.core.display.Javascript object>"
            ],
            "application/javascript": [
              "\n",
              "        window._wandbApiKey = new Promise((resolve, reject) => {\n",
              "            function loadScript(url) {\n",
              "            return new Promise(function(resolve, reject) {\n",
              "                let newScript = document.createElement(\"script\");\n",
              "                newScript.onerror = reject;\n",
              "                newScript.onload = resolve;\n",
              "                document.body.appendChild(newScript);\n",
              "                newScript.src = url;\n",
              "            });\n",
              "            }\n",
              "            loadScript(\"https://cdn.jsdelivr.net/npm/postmate/build/postmate.min.js\").then(() => {\n",
              "            const iframe = document.createElement('iframe')\n",
              "            iframe.style.cssText = \"width:0;height:0;border:none\"\n",
              "            document.body.appendChild(iframe)\n",
              "            const handshake = new Postmate({\n",
              "                container: iframe,\n",
              "                url: 'https://wandb.ai/authorize'\n",
              "            });\n",
              "            const timeout = setTimeout(() => reject(\"Couldn't auto authenticate\"), 5000)\n",
              "            handshake.then(function(child) {\n",
              "                child.on('authorize', data => {\n",
              "                    clearTimeout(timeout)\n",
              "                    resolve(data)\n",
              "                });\n",
              "            });\n",
              "            })\n",
              "        });\n",
              "    "
            ]
          },
          "metadata": {}
        },
        {
          "output_type": "stream",
          "name": "stderr",
          "text": [
            "\u001b[34m\u001b[1mwandb\u001b[0m: Logging into wandb.ai. (Learn how to deploy a W&B server locally: https://wandb.me/wandb-server)\n",
            "\u001b[34m\u001b[1mwandb\u001b[0m: You can find your API key in your browser here: https://wandb.ai/authorize\n",
            "wandb: Paste an API key from your profile and hit enter, or press ctrl+c to quit:"
          ]
        },
        {
          "name": "stdout",
          "output_type": "stream",
          "text": [
            " ··········\n"
          ]
        },
        {
          "output_type": "stream",
          "name": "stderr",
          "text": [
            "\u001b[34m\u001b[1mwandb\u001b[0m: Appending key for api.wandb.ai to your netrc file: /root/.netrc\n"
          ]
        },
        {
          "output_type": "display_data",
          "data": {
            "text/plain": [
              "<IPython.core.display.HTML object>"
            ],
            "text/html": [
              "Tracking run with wandb version 0.15.0"
            ]
          },
          "metadata": {}
        },
        {
          "output_type": "display_data",
          "data": {
            "text/plain": [
              "<IPython.core.display.HTML object>"
            ],
            "text/html": [
              "Run data is saved locally in <code>/content/wandb/run-20230420_145102-qveqss7u</code>"
            ]
          },
          "metadata": {}
        },
        {
          "output_type": "display_data",
          "data": {
            "text/plain": [
              "<IPython.core.display.HTML object>"
            ],
            "text/html": [
              "Syncing run <strong><a href='https://wandb.ai/sipoczlaszlo/pid_3d_lstm/runs/qveqss7u' target=\"_blank\">clear-dragon-1</a></strong> to <a href='https://wandb.ai/sipoczlaszlo/pid_3d_lstm' target=\"_blank\">Weights & Biases</a> (<a href='https://wandb.me/run' target=\"_blank\">docs</a>)<br/>"
            ]
          },
          "metadata": {}
        },
        {
          "output_type": "display_data",
          "data": {
            "text/plain": [
              "<IPython.core.display.HTML object>"
            ],
            "text/html": [
              " View project at <a href='https://wandb.ai/sipoczlaszlo/pid_3d_lstm' target=\"_blank\">https://wandb.ai/sipoczlaszlo/pid_3d_lstm</a>"
            ]
          },
          "metadata": {}
        },
        {
          "output_type": "display_data",
          "data": {
            "text/plain": [
              "<IPython.core.display.HTML object>"
            ],
            "text/html": [
              " View run at <a href='https://wandb.ai/sipoczlaszlo/pid_3d_lstm/runs/qveqss7u' target=\"_blank\">https://wandb.ai/sipoczlaszlo/pid_3d_lstm/runs/qveqss7u</a>"
            ]
          },
          "metadata": {}
        },
        {
          "output_type": "execute_result",
          "data": {
            "text/html": [
              "<button onClick=\"this.nextSibling.style.display='block';this.style.display='none';\">Display W&B run</button><iframe src='https://wandb.ai/sipoczlaszlo/pid_3d_lstm/runs/qveqss7u?jupyter=true' style='border:none;width:100%;height:420px;display:none;'></iframe>"
            ],
            "text/plain": [
              "<wandb.sdk.wandb_run.Run at 0x7f7ee8ba2fd0>"
            ]
          },
          "metadata": {},
          "execution_count": 136
        }
      ]
    },
    {
      "cell_type": "code",
      "source": [
        "from wandb.keras import WandbMetricsLogger\n",
        "fname=\"./model_PID_NN_LSTM_\"\n",
        "callbacks = [#callback_LR,\n",
        "        WandbMetricsLogger(),\n",
        "        ModelCheckpoint(filepath=fname+\"_{epoch}\"+\"_{loss:.4f}_{val_loss:.4f}_.hdf5\", monitor='val_loss',\n",
        "                        verbose=2, save_best_only=True, mode='min')]"
      ],
      "metadata": {
        "id": "kgsnDV5t72pc"
      },
      "execution_count": 142,
      "outputs": []
    },
    {
      "cell_type": "code",
      "source": [
        "from keras.engine.base_layer import regularizers\n",
        "from keras.layers import InputLayer, Dense, LSTM, Input, Dropout\n",
        "from keras.models import Sequential, Model\n",
        "from keras.optimizers import SGD,Adam,Adamax,Nadam,Ftrl,Adadelta\n",
        "import tensorflow as tf\n",
        "from tensorflow.keras.callbacks import ModelCheckpoint\n",
        "from keras.backend import clear_session\n",
        "from tensorflow.keras.losses import mean_absolute_percentage_error, huber,kld\n",
        "from sklearn.model_selection import train_test_split\n",
        "from keras.callbacks import LearningRateScheduler\n",
        "\n",
        "clear_session()\n",
        "\n",
        "kernel_reg_1=tf.keras.regularizers.L2(0.1)\n",
        "\n",
        "input_size=20\n",
        "\n",
        "\n",
        "input1=Input(shape=(input_size,3))\n",
        "l1_out=LSTM(input_size*2,)(input1) \n",
        "l2_out=Dropout(_drop1_)(l1_out)\n",
        "\n",
        "\n",
        "l3_out=Dense(_N2_,activation=\"swish\",kernel_initializer='glorot_uniform',)(l2_out) #kernel_initializer='lecun_normal',\n",
        "l4_out=Dropout(_drop2_)(l3_out)\n",
        "\n",
        "pred=Dense(1, activation=\"sigmoid\",)(l4_out)\n",
        "\n",
        "model = Model(inputs=input1, outputs=pred)\n",
        "optimizer=Adamax(learning_rate=_lr_,) #\n",
        "\n",
        "model.compile(loss='binary_crossentropy',\n",
        "    optimizer=optimizer,\n",
        "        metrics=[\"accuracy\"])"
      ],
      "metadata": {
        "id": "sWO5OPs5glXH"
      },
      "execution_count": 138,
      "outputs": []
    },
    {
      "cell_type": "code",
      "source": [
        "X_train,X_test,y_train,y_test=train_test_split(X_all,y_all,train_size=0.9,shuffle=True,random_state=33)"
      ],
      "metadata": {
        "id": "cZR4rXhIHsXe"
      },
      "execution_count": 139,
      "outputs": []
    },
    {
      "cell_type": "code",
      "source": [
        "history = model.fit(\n",
        "    x=X_train,\n",
        "    y=y_train,\n",
        "    validation_data=(X_test,y_test),\n",
        "    epochs=1500,\n",
        "    batch_size=10,\n",
        "    callbacks=callbacks\n",
        "   )"
      ],
      "metadata": {
        "colab": {
          "base_uri": "https://localhost:8080/"
        },
        "id": "J3VKWzRq8CDC",
        "outputId": "ad8a9882-0257-4786-d30d-4ddc0a3e40cf"
      },
      "execution_count": null,
      "outputs": [
        {
          "output_type": "stream",
          "name": "stdout",
          "text": [
            "Epoch 1/1500\n",
            "509/510 [============================>.] - ETA: 0s - loss: 0.2629 - accuracy: 0.8864\n",
            "Epoch 1: val_loss improved from inf to 0.23139, saving model to ./model_PID_NN_LSTM__1_0.2628_0.2314_.hdf5\n",
            "510/510 [==============================] - 6s 12ms/step - loss: 0.2628 - accuracy: 0.8865 - val_loss: 0.2314 - val_accuracy: 0.8905\n",
            "Epoch 2/1500\n",
            "509/510 [============================>.] - ETA: 0s - loss: 0.2604 - accuracy: 0.8886\n",
            "Epoch 2: val_loss improved from 0.23139 to 0.22770, saving model to ./model_PID_NN_LSTM__2_0.2604_0.2277_.hdf5\n",
            "510/510 [==============================] - 7s 15ms/step - loss: 0.2604 - accuracy: 0.8886 - val_loss: 0.2277 - val_accuracy: 0.8975\n",
            "Epoch 3/1500\n",
            "508/510 [============================>.] - ETA: 0s - loss: 0.2602 - accuracy: 0.8852\n",
            "Epoch 3: val_loss improved from 0.22770 to 0.22687, saving model to ./model_PID_NN_LSTM__3_0.2600_0.2269_.hdf5\n",
            "510/510 [==============================] - 6s 11ms/step - loss: 0.2600 - accuracy: 0.8853 - val_loss: 0.2269 - val_accuracy: 0.8958\n",
            "Epoch 4/1500\n",
            "508/510 [============================>.] - ETA: 0s - loss: 0.2560 - accuracy: 0.8876\n",
            "Epoch 4: val_loss did not improve from 0.22687\n",
            "510/510 [==============================] - 8s 15ms/step - loss: 0.2558 - accuracy: 0.8879 - val_loss: 0.2349 - val_accuracy: 0.8958\n",
            "Epoch 5/1500\n",
            "507/510 [============================>.] - ETA: 0s - loss: 0.2548 - accuracy: 0.8884\n",
            "Epoch 5: val_loss improved from 0.22687 to 0.22457, saving model to ./model_PID_NN_LSTM__5_0.2554_0.2246_.hdf5\n",
            "510/510 [==============================] - 6s 11ms/step - loss: 0.2554 - accuracy: 0.8879 - val_loss: 0.2246 - val_accuracy: 0.8958\n",
            "Epoch 6/1500\n",
            "507/510 [============================>.] - ETA: 0s - loss: 0.2486 - accuracy: 0.8921\n",
            "Epoch 6: val_loss improved from 0.22457 to 0.22118, saving model to ./model_PID_NN_LSTM__6_0.2481_0.2212_.hdf5\n",
            "510/510 [==============================] - 7s 13ms/step - loss: 0.2481 - accuracy: 0.8924 - val_loss: 0.2212 - val_accuracy: 0.8993\n",
            "Epoch 7/1500\n",
            "509/510 [============================>.] - ETA: 0s - loss: 0.2466 - accuracy: 0.8933\n",
            "Epoch 7: val_loss improved from 0.22118 to 0.21864, saving model to ./model_PID_NN_LSTM__7_0.2465_0.2186_.hdf5\n",
            "510/510 [==============================] - 7s 13ms/step - loss: 0.2465 - accuracy: 0.8934 - val_loss: 0.2186 - val_accuracy: 0.9011\n",
            "Epoch 8/1500\n",
            "507/510 [============================>.] - ETA: 0s - loss: 0.2482 - accuracy: 0.8939\n",
            "Epoch 8: val_loss did not improve from 0.21864\n",
            "510/510 [==============================] - 6s 11ms/step - loss: 0.2476 - accuracy: 0.8943 - val_loss: 0.2411 - val_accuracy: 0.8922\n",
            "Epoch 9/1500\n",
            "507/510 [============================>.] - ETA: 0s - loss: 0.2433 - accuracy: 0.8976\n",
            "Epoch 9: val_loss did not improve from 0.21864\n",
            "510/510 [==============================] - 8s 17ms/step - loss: 0.2435 - accuracy: 0.8975 - val_loss: 0.2220 - val_accuracy: 0.8993\n",
            "Epoch 10/1500\n",
            "510/510 [==============================] - ETA: 0s - loss: 0.2387 - accuracy: 0.9016\n",
            "Epoch 10: val_loss improved from 0.21864 to 0.21437, saving model to ./model_PID_NN_LSTM__10_0.2387_0.2144_.hdf5\n",
            "510/510 [==============================] - 6s 11ms/step - loss: 0.2387 - accuracy: 0.9016 - val_loss: 0.2144 - val_accuracy: 0.9028\n",
            "Epoch 11/1500\n",
            "509/510 [============================>.] - ETA: 0s - loss: 0.2410 - accuracy: 0.9045\n",
            "Epoch 11: val_loss improved from 0.21437 to 0.20973, saving model to ./model_PID_NN_LSTM__11_0.2411_0.2097_.hdf5\n",
            "510/510 [==============================] - 8s 15ms/step - loss: 0.2411 - accuracy: 0.9046 - val_loss: 0.2097 - val_accuracy: 0.9293\n",
            "Epoch 12/1500\n",
            "510/510 [==============================] - ETA: 0s - loss: 0.2352 - accuracy: 0.9095\n",
            "Epoch 12: val_loss improved from 0.20973 to 0.20832, saving model to ./model_PID_NN_LSTM__12_0.2352_0.2083_.hdf5\n",
            "510/510 [==============================] - 6s 12ms/step - loss: 0.2352 - accuracy: 0.9095 - val_loss: 0.2083 - val_accuracy: 0.9240\n",
            "Epoch 13/1500\n",
            "509/510 [============================>.] - ETA: 0s - loss: 0.2379 - accuracy: 0.9022\n",
            "Epoch 13: val_loss did not improve from 0.20832\n",
            "510/510 [==============================] - 7s 13ms/step - loss: 0.2378 - accuracy: 0.9022 - val_loss: 0.2084 - val_accuracy: 0.9276\n",
            "Epoch 14/1500\n",
            "506/510 [============================>.] - ETA: 0s - loss: 0.2375 - accuracy: 0.9042\n",
            "Epoch 14: val_loss did not improve from 0.20832\n",
            "510/510 [==============================] - 7s 14ms/step - loss: 0.2376 - accuracy: 0.9046 - val_loss: 0.2240 - val_accuracy: 0.8993\n",
            "Epoch 15/1500\n",
            "509/510 [============================>.] - ETA: 0s - loss: 0.2405 - accuracy: 0.8986\n",
            "Epoch 15: val_loss did not improve from 0.20832\n",
            "510/510 [==============================] - 6s 12ms/step - loss: 0.2404 - accuracy: 0.8987 - val_loss: 0.2112 - val_accuracy: 0.9011\n",
            "Epoch 16/1500\n",
            "508/510 [============================>.] - ETA: 0s - loss: 0.2377 - accuracy: 0.9024\n",
            "Epoch 16: val_loss improved from 0.20832 to 0.20737, saving model to ./model_PID_NN_LSTM__16_0.2373_0.2074_.hdf5\n",
            "510/510 [==============================] - 8s 17ms/step - loss: 0.2373 - accuracy: 0.9026 - val_loss: 0.2074 - val_accuracy: 0.9117\n",
            "Epoch 17/1500\n",
            "507/510 [============================>.] - ETA: 0s - loss: 0.2402 - accuracy: 0.9034\n",
            "Epoch 17: val_loss did not improve from 0.20737\n",
            "510/510 [==============================] - 6s 12ms/step - loss: 0.2407 - accuracy: 0.9030 - val_loss: 0.2133 - val_accuracy: 0.8958\n",
            "Epoch 18/1500\n",
            "510/510 [==============================] - ETA: 0s - loss: 0.2405 - accuracy: 0.8965\n",
            "Epoch 18: val_loss did not improve from 0.20737\n",
            "510/510 [==============================] - 8s 15ms/step - loss: 0.2405 - accuracy: 0.8965 - val_loss: 0.2079 - val_accuracy: 0.9081\n",
            "Epoch 19/1500\n",
            "506/510 [============================>.] - ETA: 0s - loss: 0.2341 - accuracy: 0.9040\n",
            "Epoch 19: val_loss improved from 0.20737 to 0.20650, saving model to ./model_PID_NN_LSTM__19_0.2340_0.2065_.hdf5\n",
            "510/510 [==============================] - 6s 12ms/step - loss: 0.2340 - accuracy: 0.9038 - val_loss: 0.2065 - val_accuracy: 0.9187\n",
            "Epoch 20/1500\n",
            "509/510 [============================>.] - ETA: 0s - loss: 0.2345 - accuracy: 0.9018\n",
            "Epoch 20: val_loss did not improve from 0.20650\n",
            "510/510 [==============================] - 7s 13ms/step - loss: 0.2345 - accuracy: 0.9018 - val_loss: 0.2076 - val_accuracy: 0.9134\n",
            "Epoch 21/1500\n",
            "509/510 [============================>.] - ETA: 0s - loss: 0.2370 - accuracy: 0.9014\n",
            "Epoch 21: val_loss improved from 0.20650 to 0.20382, saving model to ./model_PID_NN_LSTM__21_0.2370_0.2038_.hdf5\n",
            "510/510 [==============================] - 7s 14ms/step - loss: 0.2370 - accuracy: 0.9014 - val_loss: 0.2038 - val_accuracy: 0.9293\n",
            "Epoch 22/1500\n",
            "510/510 [==============================] - ETA: 0s - loss: 0.2365 - accuracy: 0.9053\n",
            "Epoch 22: val_loss did not improve from 0.20382\n",
            "510/510 [==============================] - 6s 12ms/step - loss: 0.2365 - accuracy: 0.9053 - val_loss: 0.2176 - val_accuracy: 0.8905\n",
            "Epoch 23/1500\n",
            "508/510 [============================>.] - ETA: 0s - loss: 0.2342 - accuracy: 0.9041\n",
            "Epoch 23: val_loss improved from 0.20382 to 0.19879, saving model to ./model_PID_NN_LSTM__23_0.2339_0.1988_.hdf5\n",
            "510/510 [==============================] - 8s 15ms/step - loss: 0.2339 - accuracy: 0.9044 - val_loss: 0.1988 - val_accuracy: 0.9417\n",
            "Epoch 24/1500\n",
            "507/510 [============================>.] - ETA: 0s - loss: 0.2426 - accuracy: 0.9004\n",
            "Epoch 24: val_loss did not improve from 0.19879\n",
            "510/510 [==============================] - 6s 11ms/step - loss: 0.2428 - accuracy: 0.9002 - val_loss: 0.2061 - val_accuracy: 0.9382\n",
            "Epoch 25/1500\n",
            "510/510 [==============================] - ETA: 0s - loss: 0.2309 - accuracy: 0.9101\n",
            "Epoch 25: val_loss did not improve from 0.19879\n",
            "510/510 [==============================] - 7s 14ms/step - loss: 0.2309 - accuracy: 0.9101 - val_loss: 0.2032 - val_accuracy: 0.9117\n",
            "Epoch 26/1500\n",
            "506/510 [============================>.] - ETA: 0s - loss: 0.2292 - accuracy: 0.9073\n",
            "Epoch 26: val_loss did not improve from 0.19879\n",
            "510/510 [==============================] - 6s 12ms/step - loss: 0.2284 - accuracy: 0.9077 - val_loss: 0.2004 - val_accuracy: 0.9435\n",
            "Epoch 27/1500\n",
            "509/510 [============================>.] - ETA: 0s - loss: 0.2337 - accuracy: 0.9031\n",
            "Epoch 27: val_loss did not improve from 0.19879\n",
            "510/510 [==============================] - 6s 12ms/step - loss: 0.2337 - accuracy: 0.9032 - val_loss: 0.2002 - val_accuracy: 0.9223\n",
            "Epoch 28/1500\n",
            "507/510 [============================>.] - ETA: 0s - loss: 0.2308 - accuracy: 0.9071\n",
            "Epoch 28: val_loss did not improve from 0.19879\n",
            "510/510 [==============================] - 7s 14ms/step - loss: 0.2308 - accuracy: 0.9071 - val_loss: 0.2117 - val_accuracy: 0.8975\n",
            "Epoch 29/1500\n",
            "507/510 [============================>.] - ETA: 0s - loss: 0.2337 - accuracy: 0.9071\n",
            "Epoch 29: val_loss improved from 0.19879 to 0.19786, saving model to ./model_PID_NN_LSTM__29_0.2340_0.1979_.hdf5\n",
            "510/510 [==============================] - 6s 12ms/step - loss: 0.2340 - accuracy: 0.9071 - val_loss: 0.1979 - val_accuracy: 0.9470\n",
            "Epoch 30/1500\n",
            "508/510 [============================>.] - ETA: 0s - loss: 0.2272 - accuracy: 0.9079\n",
            "Epoch 30: val_loss did not improve from 0.19786\n",
            "510/510 [==============================] - 8s 15ms/step - loss: 0.2274 - accuracy: 0.9079 - val_loss: 0.1993 - val_accuracy: 0.9223\n",
            "Epoch 31/1500\n",
            "509/510 [============================>.] - ETA: 0s - loss: 0.2311 - accuracy: 0.9047\n",
            "Epoch 31: val_loss did not improve from 0.19786\n",
            "510/510 [==============================] - 6s 12ms/step - loss: 0.2310 - accuracy: 0.9048 - val_loss: 0.2066 - val_accuracy: 0.9223\n",
            "Epoch 32/1500\n",
            "510/510 [==============================] - ETA: 0s - loss: 0.2282 - accuracy: 0.9110\n",
            "Epoch 32: val_loss did not improve from 0.19786\n",
            "510/510 [==============================] - 7s 14ms/step - loss: 0.2282 - accuracy: 0.9110 - val_loss: 0.2104 - val_accuracy: 0.9134\n",
            "Epoch 33/1500\n",
            "510/510 [==============================] - ETA: 0s - loss: 0.2330 - accuracy: 0.9055\n",
            "Epoch 33: val_loss did not improve from 0.19786\n",
            "510/510 [==============================] - 7s 13ms/step - loss: 0.2330 - accuracy: 0.9055 - val_loss: 0.2010 - val_accuracy: 0.9205\n",
            "Epoch 34/1500\n",
            "510/510 [==============================] - ETA: 0s - loss: 0.2333 - accuracy: 0.9049\n",
            "Epoch 34: val_loss did not improve from 0.19786\n",
            "510/510 [==============================] - 6s 12ms/step - loss: 0.2333 - accuracy: 0.9049 - val_loss: 0.1998 - val_accuracy: 0.9364\n",
            "Epoch 35/1500\n",
            "510/510 [==============================] - ETA: 0s - loss: 0.2266 - accuracy: 0.9051\n",
            "Epoch 35: val_loss did not improve from 0.19786\n",
            "510/510 [==============================] - 8s 15ms/step - loss: 0.2266 - accuracy: 0.9051 - val_loss: 0.2269 - val_accuracy: 0.9081\n",
            "Epoch 36/1500\n",
            "508/510 [============================>.] - ETA: 0s - loss: 0.2276 - accuracy: 0.9114\n",
            "Epoch 36: val_loss did not improve from 0.19786\n",
            "510/510 [==============================] - 6s 11ms/step - loss: 0.2277 - accuracy: 0.9112 - val_loss: 0.1996 - val_accuracy: 0.9117\n",
            "Epoch 37/1500\n",
            "507/510 [============================>.] - ETA: 0s - loss: 0.2229 - accuracy: 0.9181\n",
            "Epoch 37: val_loss did not improve from 0.19786\n",
            "510/510 [==============================] - 8s 15ms/step - loss: 0.2224 - accuracy: 0.9185 - val_loss: 0.2012 - val_accuracy: 0.9117\n",
            "Epoch 38/1500\n",
            "509/510 [============================>.] - ETA: 0s - loss: 0.2227 - accuracy: 0.9112\n",
            "Epoch 38: val_loss did not improve from 0.19786\n",
            "510/510 [==============================] - 6s 12ms/step - loss: 0.2227 - accuracy: 0.9112 - val_loss: 0.2079 - val_accuracy: 0.9011\n",
            "Epoch 39/1500\n",
            "509/510 [============================>.] - ETA: 0s - loss: 0.2261 - accuracy: 0.9134\n",
            "Epoch 39: val_loss improved from 0.19786 to 0.19704, saving model to ./model_PID_NN_LSTM__39_0.2262_0.1970_.hdf5\n",
            "510/510 [==============================] - 7s 13ms/step - loss: 0.2262 - accuracy: 0.9132 - val_loss: 0.1970 - val_accuracy: 0.9170\n",
            "Epoch 40/1500\n",
            "510/510 [==============================] - ETA: 0s - loss: 0.2272 - accuracy: 0.9059\n",
            "Epoch 40: val_loss improved from 0.19704 to 0.19250, saving model to ./model_PID_NN_LSTM__40_0.2272_0.1925_.hdf5\n",
            "510/510 [==============================] - 7s 14ms/step - loss: 0.2272 - accuracy: 0.9059 - val_loss: 0.1925 - val_accuracy: 0.9399\n",
            "Epoch 41/1500\n",
            "510/510 [==============================] - ETA: 0s - loss: 0.2235 - accuracy: 0.9152\n",
            "Epoch 41: val_loss did not improve from 0.19250\n",
            "510/510 [==============================] - 6s 12ms/step - loss: 0.2235 - accuracy: 0.9152 - val_loss: 0.2200 - val_accuracy: 0.8993\n",
            "Epoch 42/1500\n",
            "508/510 [============================>.] - ETA: 0s - loss: 0.2232 - accuracy: 0.9116\n",
            "Epoch 42: val_loss did not improve from 0.19250\n",
            "510/510 [==============================] - 8s 15ms/step - loss: 0.2232 - accuracy: 0.9116 - val_loss: 0.1936 - val_accuracy: 0.9452\n",
            "Epoch 43/1500\n",
            "507/510 [============================>.] - ETA: 0s - loss: 0.2193 - accuracy: 0.9095\n",
            "Epoch 43: val_loss did not improve from 0.19250\n",
            "510/510 [==============================] - 6s 12ms/step - loss: 0.2189 - accuracy: 0.9097 - val_loss: 0.1968 - val_accuracy: 0.9134\n",
            "Epoch 44/1500\n",
            "509/510 [============================>.] - ETA: 0s - loss: 0.2223 - accuracy: 0.9171\n",
            "Epoch 44: val_loss improved from 0.19250 to 0.18976, saving model to ./model_PID_NN_LSTM__44_0.2222_0.1898_.hdf5\n",
            "510/510 [==============================] - 7s 14ms/step - loss: 0.2222 - accuracy: 0.9171 - val_loss: 0.1898 - val_accuracy: 0.9187\n",
            "Epoch 45/1500\n",
            "510/510 [==============================] - ETA: 0s - loss: 0.2186 - accuracy: 0.9120\n",
            "Epoch 45: val_loss did not improve from 0.18976\n",
            "510/510 [==============================] - 7s 13ms/step - loss: 0.2186 - accuracy: 0.9120 - val_loss: 0.1917 - val_accuracy: 0.9223\n",
            "Epoch 46/1500\n",
            "509/510 [============================>.] - ETA: 0s - loss: 0.2174 - accuracy: 0.9181\n",
            "Epoch 46: val_loss improved from 0.18976 to 0.18305, saving model to ./model_PID_NN_LSTM__46_0.2174_0.1831_.hdf5\n",
            "510/510 [==============================] - 6s 13ms/step - loss: 0.2174 - accuracy: 0.9181 - val_loss: 0.1831 - val_accuracy: 0.9399\n",
            "Epoch 47/1500\n",
            "510/510 [==============================] - ETA: 0s - loss: 0.2147 - accuracy: 0.9175\n",
            "Epoch 47: val_loss did not improve from 0.18305\n",
            "510/510 [==============================] - 7s 14ms/step - loss: 0.2147 - accuracy: 0.9175 - val_loss: 0.1843 - val_accuracy: 0.9329\n",
            "Epoch 48/1500\n",
            "508/510 [============================>.] - ETA: 0s - loss: 0.2125 - accuracy: 0.9207\n",
            "Epoch 48: val_loss did not improve from 0.18305\n",
            "510/510 [==============================] - 6s 12ms/step - loss: 0.2130 - accuracy: 0.9205 - val_loss: 0.1875 - val_accuracy: 0.9223\n",
            "Epoch 49/1500\n",
            "510/510 [==============================] - ETA: 0s - loss: 0.2167 - accuracy: 0.9165\n",
            "Epoch 49: val_loss improved from 0.18305 to 0.18236, saving model to ./model_PID_NN_LSTM__49_0.2167_0.1824_.hdf5\n",
            "510/510 [==============================] - 8s 15ms/step - loss: 0.2167 - accuracy: 0.9165 - val_loss: 0.1824 - val_accuracy: 0.9346\n",
            "Epoch 50/1500\n",
            "506/510 [============================>.] - ETA: 0s - loss: 0.2176 - accuracy: 0.9198\n",
            "Epoch 50: val_loss improved from 0.18236 to 0.18226, saving model to ./model_PID_NN_LSTM__50_0.2177_0.1823_.hdf5\n",
            "510/510 [==============================] - 6s 12ms/step - loss: 0.2177 - accuracy: 0.9199 - val_loss: 0.1823 - val_accuracy: 0.9399\n",
            "Epoch 51/1500\n",
            "510/510 [==============================] - ETA: 0s - loss: 0.2107 - accuracy: 0.9248\n",
            "Epoch 51: val_loss did not improve from 0.18226\n",
            "510/510 [==============================] - 7s 14ms/step - loss: 0.2107 - accuracy: 0.9248 - val_loss: 0.1834 - val_accuracy: 0.9399\n",
            "Epoch 52/1500\n",
            "510/510 [==============================] - ETA: 0s - loss: 0.2134 - accuracy: 0.9193\n",
            "Epoch 52: val_loss improved from 0.18226 to 0.17502, saving model to ./model_PID_NN_LSTM__52_0.2134_0.1750_.hdf5\n",
            "510/510 [==============================] - 7s 13ms/step - loss: 0.2134 - accuracy: 0.9193 - val_loss: 0.1750 - val_accuracy: 0.9417\n",
            "Epoch 53/1500\n",
            "509/510 [============================>.] - ETA: 0s - loss: 0.2075 - accuracy: 0.9224\n",
            "Epoch 53: val_loss improved from 0.17502 to 0.17336, saving model to ./model_PID_NN_LSTM__53_0.2075_0.1734_.hdf5\n",
            "510/510 [==============================] - 6s 12ms/step - loss: 0.2075 - accuracy: 0.9224 - val_loss: 0.1734 - val_accuracy: 0.9399\n",
            "Epoch 54/1500\n",
            "507/510 [============================>.] - ETA: 0s - loss: 0.2096 - accuracy: 0.9195\n",
            "Epoch 54: val_loss did not improve from 0.17336\n",
            "510/510 [==============================] - 8s 15ms/step - loss: 0.2090 - accuracy: 0.9199 - val_loss: 0.2091 - val_accuracy: 0.8993\n",
            "Epoch 55/1500\n",
            "509/510 [============================>.] - ETA: 0s - loss: 0.2101 - accuracy: 0.9198\n",
            "Epoch 55: val_loss did not improve from 0.17336\n",
            "510/510 [==============================] - 6s 12ms/step - loss: 0.2100 - accuracy: 0.9199 - val_loss: 0.1798 - val_accuracy: 0.9382\n",
            "Epoch 56/1500\n",
            "509/510 [============================>.] - ETA: 0s - loss: 0.2037 - accuracy: 0.9257\n",
            "Epoch 56: val_loss improved from 0.17336 to 0.17152, saving model to ./model_PID_NN_LSTM__56_0.2037_0.1715_.hdf5\n",
            "510/510 [==============================] - 8s 15ms/step - loss: 0.2037 - accuracy: 0.9258 - val_loss: 0.1715 - val_accuracy: 0.9417\n",
            "Epoch 57/1500\n",
            "508/510 [============================>.] - ETA: 0s - loss: 0.2023 - accuracy: 0.9266\n",
            "Epoch 57: val_loss did not improve from 0.17152\n",
            "510/510 [==============================] - 6s 12ms/step - loss: 0.2020 - accuracy: 0.9267 - val_loss: 0.1757 - val_accuracy: 0.9382\n",
            "Epoch 58/1500\n",
            "507/510 [============================>.] - ETA: 0s - loss: 0.2030 - accuracy: 0.9280\n",
            "Epoch 58: val_loss did not improve from 0.17152\n",
            "510/510 [==============================] - 7s 14ms/step - loss: 0.2028 - accuracy: 0.9281 - val_loss: 0.1815 - val_accuracy: 0.9364\n",
            "Epoch 59/1500\n",
            "506/510 [============================>.] - ETA: 0s - loss: 0.2034 - accuracy: 0.9233\n",
            "Epoch 59: val_loss did not improve from 0.17152\n",
            "510/510 [==============================] - 7s 14ms/step - loss: 0.2027 - accuracy: 0.9236 - val_loss: 0.1774 - val_accuracy: 0.9417\n",
            "Epoch 60/1500\n",
            "506/510 [============================>.] - ETA: 0s - loss: 0.2017 - accuracy: 0.9241\n",
            "Epoch 60: val_loss improved from 0.17152 to 0.16700, saving model to ./model_PID_NN_LSTM__60_0.2013_0.1670_.hdf5\n",
            "510/510 [==============================] - 6s 12ms/step - loss: 0.2013 - accuracy: 0.9242 - val_loss: 0.1670 - val_accuracy: 0.9399\n",
            "Epoch 61/1500\n",
            "506/510 [============================>.] - ETA: 0s - loss: 0.1985 - accuracy: 0.9265\n",
            "Epoch 61: val_loss did not improve from 0.16700\n",
            "510/510 [==============================] - 8s 15ms/step - loss: 0.1994 - accuracy: 0.9260 - val_loss: 0.1780 - val_accuracy: 0.9382\n",
            "Epoch 62/1500\n",
            "510/510 [==============================] - ETA: 0s - loss: 0.1997 - accuracy: 0.9242\n",
            "Epoch 62: val_loss did not improve from 0.16700\n",
            "510/510 [==============================] - 6s 12ms/step - loss: 0.1997 - accuracy: 0.9242 - val_loss: 0.1701 - val_accuracy: 0.9364\n",
            "Epoch 63/1500\n",
            "510/510 [==============================] - ETA: 0s - loss: 0.1991 - accuracy: 0.9258\n",
            "Epoch 63: val_loss did not improve from 0.16700\n",
            "510/510 [==============================] - 8s 16ms/step - loss: 0.1991 - accuracy: 0.9258 - val_loss: 0.1814 - val_accuracy: 0.9346\n",
            "Epoch 64/1500\n",
            "506/510 [============================>.] - ETA: 0s - loss: 0.2010 - accuracy: 0.9277\n",
            "Epoch 64: val_loss improved from 0.16700 to 0.16651, saving model to ./model_PID_NN_LSTM__64_0.2008_0.1665_.hdf5\n",
            "510/510 [==============================] - 8s 16ms/step - loss: 0.2008 - accuracy: 0.9275 - val_loss: 0.1665 - val_accuracy: 0.9399\n",
            "Epoch 65/1500\n",
            "507/510 [============================>.] - ETA: 0s - loss: 0.1972 - accuracy: 0.9258\n",
            "Epoch 65: val_loss did not improve from 0.16651\n",
            "510/510 [==============================] - 6s 13ms/step - loss: 0.1969 - accuracy: 0.9260 - val_loss: 0.1666 - val_accuracy: 0.9364\n",
            "Epoch 66/1500\n",
            "509/510 [============================>.] - ETA: 0s - loss: 0.1982 - accuracy: 0.9242\n",
            "Epoch 66: val_loss did not improve from 0.16651\n",
            "510/510 [==============================] - 8s 15ms/step - loss: 0.1982 - accuracy: 0.9242 - val_loss: 0.1695 - val_accuracy: 0.9364\n",
            "Epoch 67/1500\n",
            "509/510 [============================>.] - ETA: 0s - loss: 0.1950 - accuracy: 0.9267\n",
            "Epoch 67: val_loss did not improve from 0.16651\n",
            "510/510 [==============================] - 6s 12ms/step - loss: 0.1949 - accuracy: 0.9267 - val_loss: 0.1900 - val_accuracy: 0.9399\n",
            "Epoch 68/1500\n",
            "510/510 [==============================] - ETA: 0s - loss: 0.1915 - accuracy: 0.9269\n",
            "Epoch 68: val_loss improved from 0.16651 to 0.16643, saving model to ./model_PID_NN_LSTM__68_0.1915_0.1664_.hdf5\n",
            "510/510 [==============================] - 8s 15ms/step - loss: 0.1915 - accuracy: 0.9269 - val_loss: 0.1664 - val_accuracy: 0.9399\n",
            "Epoch 69/1500\n",
            "507/510 [============================>.] - ETA: 0s - loss: 0.1914 - accuracy: 0.9288\n",
            "Epoch 69: val_loss improved from 0.16643 to 0.16387, saving model to ./model_PID_NN_LSTM__69_0.1914_0.1639_.hdf5\n",
            "510/510 [==============================] - 6s 12ms/step - loss: 0.1914 - accuracy: 0.9289 - val_loss: 0.1639 - val_accuracy: 0.9435\n",
            "Epoch 70/1500\n",
            "510/510 [==============================] - ETA: 0s - loss: 0.1910 - accuracy: 0.9283\n",
            "Epoch 70: val_loss did not improve from 0.16387\n",
            "510/510 [==============================] - 7s 14ms/step - loss: 0.1910 - accuracy: 0.9283 - val_loss: 0.1692 - val_accuracy: 0.9470\n",
            "Epoch 71/1500\n",
            "506/510 [============================>.] - ETA: 0s - loss: 0.1935 - accuracy: 0.9263\n",
            "Epoch 71: val_loss did not improve from 0.16387\n",
            "510/510 [==============================] - 7s 13ms/step - loss: 0.1930 - accuracy: 0.9266 - val_loss: 0.1681 - val_accuracy: 0.9382\n",
            "Epoch 72/1500\n",
            "510/510 [==============================] - ETA: 0s - loss: 0.1918 - accuracy: 0.9267\n",
            "Epoch 72: val_loss did not improve from 0.16387\n",
            "510/510 [==============================] - 6s 12ms/step - loss: 0.1918 - accuracy: 0.9267 - val_loss: 0.1681 - val_accuracy: 0.9452\n",
            "Epoch 73/1500\n",
            "506/510 [============================>.] - ETA: 0s - loss: 0.1907 - accuracy: 0.9253\n",
            "Epoch 73: val_loss did not improve from 0.16387\n",
            "510/510 [==============================] - 8s 15ms/step - loss: 0.1903 - accuracy: 0.9256 - val_loss: 0.1659 - val_accuracy: 0.9417\n",
            "Epoch 74/1500\n",
            "507/510 [============================>.] - ETA: 0s - loss: 0.1909 - accuracy: 0.9262\n",
            "Epoch 74: val_loss did not improve from 0.16387\n",
            "510/510 [==============================] - 6s 12ms/step - loss: 0.1905 - accuracy: 0.9264 - val_loss: 0.1668 - val_accuracy: 0.9382\n",
            "Epoch 75/1500\n",
            "507/510 [============================>.] - ETA: 0s - loss: 0.1931 - accuracy: 0.9264\n",
            "Epoch 75: val_loss did not improve from 0.16387\n",
            "510/510 [==============================] - 8s 15ms/step - loss: 0.1926 - accuracy: 0.9267 - val_loss: 0.1643 - val_accuracy: 0.9417\n",
            "Epoch 76/1500\n",
            "509/510 [============================>.] - ETA: 0s - loss: 0.1861 - accuracy: 0.9314\n",
            "Epoch 76: val_loss improved from 0.16387 to 0.16257, saving model to ./model_PID_NN_LSTM__76_0.1861_0.1626_.hdf5\n",
            "510/510 [==============================] - 6s 12ms/step - loss: 0.1861 - accuracy: 0.9315 - val_loss: 0.1626 - val_accuracy: 0.9435\n",
            "Epoch 77/1500\n",
            "508/510 [============================>.] - ETA: 0s - loss: 0.1865 - accuracy: 0.9276\n",
            "Epoch 77: val_loss did not improve from 0.16257\n",
            "510/510 [==============================] - 7s 13ms/step - loss: 0.1863 - accuracy: 0.9277 - val_loss: 0.1676 - val_accuracy: 0.9399\n",
            "Epoch 78/1500\n",
            "507/510 [============================>.] - ETA: 0s - loss: 0.1844 - accuracy: 0.9306\n",
            "Epoch 78: val_loss did not improve from 0.16257\n",
            "510/510 [==============================] - 7s 14ms/step - loss: 0.1845 - accuracy: 0.9307 - val_loss: 0.1627 - val_accuracy: 0.9417\n",
            "Epoch 79/1500\n",
            "510/510 [==============================] - ETA: 0s - loss: 0.1896 - accuracy: 0.9260\n",
            "Epoch 79: val_loss did not improve from 0.16257\n",
            "510/510 [==============================] - 6s 12ms/step - loss: 0.1896 - accuracy: 0.9260 - val_loss: 0.1703 - val_accuracy: 0.9329\n",
            "Epoch 80/1500\n",
            "510/510 [==============================] - ETA: 0s - loss: 0.1832 - accuracy: 0.9309\n",
            "Epoch 80: val_loss did not improve from 0.16257\n",
            "510/510 [==============================] - 8s 16ms/step - loss: 0.1832 - accuracy: 0.9309 - val_loss: 0.1786 - val_accuracy: 0.9382\n",
            "Epoch 81/1500\n",
            "507/510 [============================>.] - ETA: 0s - loss: 0.1820 - accuracy: 0.9296\n",
            "Epoch 81: val_loss did not improve from 0.16257\n",
            "510/510 [==============================] - 6s 12ms/step - loss: 0.1819 - accuracy: 0.9297 - val_loss: 0.1633 - val_accuracy: 0.9417\n",
            "Epoch 82/1500\n",
            "507/510 [============================>.] - ETA: 0s - loss: 0.1840 - accuracy: 0.9308\n",
            "Epoch 82: val_loss did not improve from 0.16257\n",
            "510/510 [==============================] - 8s 15ms/step - loss: 0.1837 - accuracy: 0.9309 - val_loss: 0.1717 - val_accuracy: 0.9382\n",
            "Epoch 83/1500\n",
            "507/510 [============================>.] - ETA: 0s - loss: 0.1869 - accuracy: 0.9260\n",
            "Epoch 83: val_loss did not improve from 0.16257\n",
            "510/510 [==============================] - 6s 12ms/step - loss: 0.1874 - accuracy: 0.9254 - val_loss: 0.1696 - val_accuracy: 0.9364\n",
            "Epoch 84/1500\n",
            "510/510 [==============================] - ETA: 0s - loss: 0.1781 - accuracy: 0.9277\n",
            "Epoch 84: val_loss improved from 0.16257 to 0.16150, saving model to ./model_PID_NN_LSTM__84_0.1781_0.1615_.hdf5\n",
            "510/510 [==============================] - 7s 13ms/step - loss: 0.1781 - accuracy: 0.9277 - val_loss: 0.1615 - val_accuracy: 0.9417\n",
            "Epoch 85/1500\n",
            "507/510 [============================>.] - ETA: 0s - loss: 0.1817 - accuracy: 0.9306\n",
            "Epoch 85: val_loss did not improve from 0.16150\n",
            "510/510 [==============================] - 7s 15ms/step - loss: 0.1816 - accuracy: 0.9307 - val_loss: 0.1719 - val_accuracy: 0.9435\n",
            "Epoch 86/1500\n",
            "508/510 [============================>.] - ETA: 0s - loss: 0.1788 - accuracy: 0.9301\n",
            "Epoch 86: val_loss did not improve from 0.16150\n",
            "510/510 [==============================] - 6s 11ms/step - loss: 0.1791 - accuracy: 0.9299 - val_loss: 0.1621 - val_accuracy: 0.9382\n",
            "Epoch 87/1500\n",
            "508/510 [============================>.] - ETA: 0s - loss: 0.1809 - accuracy: 0.9295\n",
            "Epoch 87: val_loss did not improve from 0.16150\n",
            "510/510 [==============================] - 8s 15ms/step - loss: 0.1807 - accuracy: 0.9297 - val_loss: 0.1652 - val_accuracy: 0.9399\n",
            "Epoch 88/1500\n",
            "510/510 [==============================] - ETA: 0s - loss: 0.1771 - accuracy: 0.9326\n",
            "Epoch 88: val_loss improved from 0.16150 to 0.16114, saving model to ./model_PID_NN_LSTM__88_0.1771_0.1611_.hdf5\n",
            "510/510 [==============================] - 6s 12ms/step - loss: 0.1771 - accuracy: 0.9326 - val_loss: 0.1611 - val_accuracy: 0.9382\n",
            "Epoch 89/1500\n",
            "509/510 [============================>.] - ETA: 0s - loss: 0.1773 - accuracy: 0.9305\n",
            "Epoch 89: val_loss did not improve from 0.16114\n",
            "510/510 [==============================] - 7s 14ms/step - loss: 0.1776 - accuracy: 0.9303 - val_loss: 0.1635 - val_accuracy: 0.9452\n",
            "Epoch 90/1500\n",
            "508/510 [============================>.] - ETA: 0s - loss: 0.1758 - accuracy: 0.9289\n",
            "Epoch 90: val_loss improved from 0.16114 to 0.15919, saving model to ./model_PID_NN_LSTM__90_0.1761_0.1592_.hdf5\n",
            "510/510 [==============================] - 7s 14ms/step - loss: 0.1761 - accuracy: 0.9289 - val_loss: 0.1592 - val_accuracy: 0.9417\n",
            "Epoch 91/1500\n",
            "508/510 [============================>.] - ETA: 0s - loss: 0.1761 - accuracy: 0.9329\n",
            "Epoch 91: val_loss did not improve from 0.15919\n",
            "510/510 [==============================] - 6s 12ms/step - loss: 0.1762 - accuracy: 0.9328 - val_loss: 0.1725 - val_accuracy: 0.9346\n",
            "Epoch 92/1500\n",
            "507/510 [============================>.] - ETA: 0s - loss: 0.1779 - accuracy: 0.9325\n",
            "Epoch 92: val_loss improved from 0.15919 to 0.15819, saving model to ./model_PID_NN_LSTM__92_0.1777_0.1582_.hdf5\n",
            "510/510 [==============================] - 8s 15ms/step - loss: 0.1777 - accuracy: 0.9326 - val_loss: 0.1582 - val_accuracy: 0.9417\n",
            "Epoch 93/1500\n",
            "506/510 [============================>.] - ETA: 0s - loss: 0.1749 - accuracy: 0.9306\n",
            "Epoch 93: val_loss did not improve from 0.15819\n",
            "510/510 [==============================] - 6s 12ms/step - loss: 0.1750 - accuracy: 0.9303 - val_loss: 0.1629 - val_accuracy: 0.9382\n",
            "Epoch 94/1500\n",
            "508/510 [============================>.] - ETA: 0s - loss: 0.1662 - accuracy: 0.9344\n",
            "Epoch 94: val_loss did not improve from 0.15819\n",
            "510/510 [==============================] - 8s 16ms/step - loss: 0.1669 - accuracy: 0.9342 - val_loss: 0.1658 - val_accuracy: 0.9399\n",
            "Epoch 95/1500\n",
            "508/510 [============================>.] - ETA: 0s - loss: 0.1706 - accuracy: 0.9331\n",
            "Epoch 95: val_loss improved from 0.15819 to 0.15582, saving model to ./model_PID_NN_LSTM__95_0.1703_0.1558_.hdf5\n",
            "510/510 [==============================] - 6s 12ms/step - loss: 0.1703 - accuracy: 0.9332 - val_loss: 0.1558 - val_accuracy: 0.9452\n",
            "Epoch 96/1500\n",
            "509/510 [============================>.] - ETA: 0s - loss: 0.1753 - accuracy: 0.9328\n",
            "Epoch 96: val_loss did not improve from 0.15582\n",
            "510/510 [==============================] - 7s 13ms/step - loss: 0.1752 - accuracy: 0.9328 - val_loss: 0.1593 - val_accuracy: 0.9452\n",
            "Epoch 97/1500\n",
            "507/510 [============================>.] - ETA: 0s - loss: 0.1722 - accuracy: 0.9292\n",
            "Epoch 97: val_loss did not improve from 0.15582\n",
            "510/510 [==============================] - 7s 14ms/step - loss: 0.1721 - accuracy: 0.9293 - val_loss: 0.1585 - val_accuracy: 0.9435\n",
            "Epoch 98/1500\n",
            "508/510 [============================>.] - ETA: 0s - loss: 0.1710 - accuracy: 0.9343\n",
            "Epoch 98: val_loss improved from 0.15582 to 0.15467, saving model to ./model_PID_NN_LSTM__98_0.1707_0.1547_.hdf5\n",
            "510/510 [==============================] - 6s 12ms/step - loss: 0.1707 - accuracy: 0.9344 - val_loss: 0.1547 - val_accuracy: 0.9417\n",
            "Epoch 99/1500\n",
            "506/510 [============================>.] - ETA: 0s - loss: 0.1713 - accuracy: 0.9336\n",
            "Epoch 99: val_loss did not improve from 0.15467\n",
            "510/510 [==============================] - 8s 15ms/step - loss: 0.1716 - accuracy: 0.9336 - val_loss: 0.1565 - val_accuracy: 0.9452\n",
            "Epoch 100/1500\n",
            "506/510 [============================>.] - ETA: 0s - loss: 0.1653 - accuracy: 0.9336\n",
            "Epoch 100: val_loss did not improve from 0.15467\n",
            "510/510 [==============================] - 6s 12ms/step - loss: 0.1645 - accuracy: 0.9340 - val_loss: 0.1636 - val_accuracy: 0.9364\n",
            "Epoch 101/1500\n",
            "508/510 [============================>.] - ETA: 0s - loss: 0.1660 - accuracy: 0.9352\n",
            "Epoch 101: val_loss did not improve from 0.15467\n",
            "510/510 [==============================] - 7s 15ms/step - loss: 0.1661 - accuracy: 0.9352 - val_loss: 0.1552 - val_accuracy: 0.9382\n",
            "Epoch 102/1500\n",
            "510/510 [==============================] - ETA: 0s - loss: 0.1672 - accuracy: 0.9350\n",
            "Epoch 102: val_loss did not improve from 0.15467\n",
            "510/510 [==============================] - 7s 13ms/step - loss: 0.1672 - accuracy: 0.9350 - val_loss: 0.1606 - val_accuracy: 0.9346\n",
            "Epoch 103/1500\n",
            "510/510 [==============================] - ETA: 0s - loss: 0.1675 - accuracy: 0.9340\n",
            "Epoch 103: val_loss improved from 0.15467 to 0.15106, saving model to ./model_PID_NN_LSTM__103_0.1675_0.1511_.hdf5\n",
            "510/510 [==============================] - 7s 13ms/step - loss: 0.1675 - accuracy: 0.9340 - val_loss: 0.1511 - val_accuracy: 0.9452\n",
            "Epoch 104/1500\n",
            "506/510 [============================>.] - ETA: 0s - loss: 0.1698 - accuracy: 0.9312\n",
            "Epoch 104: val_loss did not improve from 0.15106\n",
            "510/510 [==============================] - 8s 15ms/step - loss: 0.1699 - accuracy: 0.9311 - val_loss: 0.1806 - val_accuracy: 0.9346\n",
            "Epoch 105/1500\n",
            "509/510 [============================>.] - ETA: 0s - loss: 0.1631 - accuracy: 0.9354\n",
            "Epoch 105: val_loss improved from 0.15106 to 0.15053, saving model to ./model_PID_NN_LSTM__105_0.1630_0.1505_.hdf5\n",
            "510/510 [==============================] - 6s 12ms/step - loss: 0.1630 - accuracy: 0.9354 - val_loss: 0.1505 - val_accuracy: 0.9435\n",
            "Epoch 106/1500\n",
            "510/510 [==============================] - ETA: 0s - loss: 0.1684 - accuracy: 0.9342\n",
            "Epoch 106: val_loss did not improve from 0.15053\n",
            "510/510 [==============================] - 8s 16ms/step - loss: 0.1684 - accuracy: 0.9342 - val_loss: 0.1512 - val_accuracy: 0.9505\n",
            "Epoch 107/1500\n",
            "509/510 [============================>.] - ETA: 0s - loss: 0.1608 - accuracy: 0.9350\n",
            "Epoch 107: val_loss did not improve from 0.15053\n",
            "510/510 [==============================] - 6s 12ms/step - loss: 0.1607 - accuracy: 0.9350 - val_loss: 0.1512 - val_accuracy: 0.9399\n",
            "Epoch 108/1500\n",
            "507/510 [============================>.] - ETA: 0s - loss: 0.1655 - accuracy: 0.9359\n",
            "Epoch 108: val_loss did not improve from 0.15053\n",
            "510/510 [==============================] - 7s 15ms/step - loss: 0.1658 - accuracy: 0.9358 - val_loss: 0.1604 - val_accuracy: 0.9399\n",
            "Epoch 109/1500\n",
            "510/510 [==============================] - ETA: 0s - loss: 0.1638 - accuracy: 0.9317\n",
            "Epoch 109: val_loss did not improve from 0.15053\n",
            "510/510 [==============================] - 7s 13ms/step - loss: 0.1638 - accuracy: 0.9317 - val_loss: 0.1614 - val_accuracy: 0.9382\n",
            "Epoch 110/1500\n",
            "510/510 [==============================] - ETA: 0s - loss: 0.1623 - accuracy: 0.9354\n",
            "Epoch 110: val_loss did not improve from 0.15053\n",
            "510/510 [==============================] - 6s 12ms/step - loss: 0.1623 - accuracy: 0.9354 - val_loss: 0.1560 - val_accuracy: 0.9364\n",
            "Epoch 111/1500\n",
            "510/510 [==============================] - ETA: 0s - loss: 0.1646 - accuracy: 0.9364\n",
            "Epoch 111: val_loss did not improve from 0.15053\n",
            "510/510 [==============================] - 8s 15ms/step - loss: 0.1646 - accuracy: 0.9364 - val_loss: 0.1550 - val_accuracy: 0.9276\n",
            "Epoch 112/1500\n",
            "507/510 [============================>.] - ETA: 0s - loss: 0.1615 - accuracy: 0.9320\n",
            "Epoch 112: val_loss did not improve from 0.15053\n",
            "510/510 [==============================] - 6s 12ms/step - loss: 0.1620 - accuracy: 0.9317 - val_loss: 0.1539 - val_accuracy: 0.9417\n",
            "Epoch 113/1500\n",
            "508/510 [============================>.] - ETA: 0s - loss: 0.1626 - accuracy: 0.9341\n",
            "Epoch 113: val_loss did not improve from 0.15053\n",
            "510/510 [==============================] - 8s 15ms/step - loss: 0.1628 - accuracy: 0.9340 - val_loss: 0.1587 - val_accuracy: 0.9417\n",
            "Epoch 114/1500\n",
            "507/510 [============================>.] - ETA: 0s - loss: 0.1537 - accuracy: 0.9379\n",
            "Epoch 114: val_loss did not improve from 0.15053\n",
            "510/510 [==============================] - 6s 12ms/step - loss: 0.1536 - accuracy: 0.9379 - val_loss: 0.1574 - val_accuracy: 0.9417\n",
            "Epoch 115/1500\n",
            "508/510 [============================>.] - ETA: 0s - loss: 0.1561 - accuracy: 0.9364\n",
            "Epoch 115: val_loss improved from 0.15053 to 0.14679, saving model to ./model_PID_NN_LSTM__115_0.1558_0.1468_.hdf5\n",
            "510/510 [==============================] - 7s 13ms/step - loss: 0.1558 - accuracy: 0.9366 - val_loss: 0.1468 - val_accuracy: 0.9435\n",
            "Epoch 116/1500\n",
            "510/510 [==============================] - ETA: 0s - loss: 0.1562 - accuracy: 0.9362\n",
            "Epoch 116: val_loss did not improve from 0.14679\n",
            "510/510 [==============================] - 7s 14ms/step - loss: 0.1562 - accuracy: 0.9362 - val_loss: 0.1474 - val_accuracy: 0.9505\n",
            "Epoch 117/1500\n",
            "507/510 [============================>.] - ETA: 0s - loss: 0.1567 - accuracy: 0.9363\n",
            "Epoch 117: val_loss did not improve from 0.14679\n",
            "510/510 [==============================] - 6s 11ms/step - loss: 0.1567 - accuracy: 0.9364 - val_loss: 0.1687 - val_accuracy: 0.9364\n",
            "Epoch 118/1500\n",
            "510/510 [==============================] - ETA: 0s - loss: 0.1582 - accuracy: 0.9342\n",
            "Epoch 118: val_loss did not improve from 0.14679\n",
            "510/510 [==============================] - 8s 15ms/step - loss: 0.1582 - accuracy: 0.9342 - val_loss: 0.1524 - val_accuracy: 0.9435\n",
            "Epoch 119/1500\n",
            "506/510 [============================>.] - ETA: 0s - loss: 0.1611 - accuracy: 0.9368\n",
            "Epoch 119: val_loss did not improve from 0.14679\n",
            "510/510 [==============================] - 6s 12ms/step - loss: 0.1606 - accuracy: 0.9372 - val_loss: 0.1627 - val_accuracy: 0.9417\n",
            "Epoch 120/1500\n",
            "510/510 [==============================] - ETA: 0s - loss: 0.1578 - accuracy: 0.9362\n",
            "Epoch 120: val_loss did not improve from 0.14679\n",
            "510/510 [==============================] - 7s 13ms/step - loss: 0.1578 - accuracy: 0.9362 - val_loss: 0.1581 - val_accuracy: 0.9399\n",
            "Epoch 121/1500\n",
            "508/510 [============================>.] - ETA: 0s - loss: 0.1503 - accuracy: 0.9370\n",
            "Epoch 121: val_loss did not improve from 0.14679\n",
            "510/510 [==============================] - 7s 14ms/step - loss: 0.1505 - accuracy: 0.9370 - val_loss: 0.1550 - val_accuracy: 0.9452\n",
            "Epoch 122/1500\n",
            "507/510 [============================>.] - ETA: 0s - loss: 0.1483 - accuracy: 0.9414\n",
            "Epoch 122: val_loss did not improve from 0.14679\n",
            "510/510 [==============================] - 6s 12ms/step - loss: 0.1486 - accuracy: 0.9411 - val_loss: 0.2038 - val_accuracy: 0.9099\n",
            "Epoch 123/1500\n",
            "510/510 [==============================] - ETA: 0s - loss: 0.1514 - accuracy: 0.9370\n",
            "Epoch 123: val_loss did not improve from 0.14679\n",
            "510/510 [==============================] - 8s 16ms/step - loss: 0.1514 - accuracy: 0.9370 - val_loss: 0.1535 - val_accuracy: 0.9417\n",
            "Epoch 124/1500\n",
            "508/510 [============================>.] - ETA: 0s - loss: 0.1510 - accuracy: 0.9372\n",
            "Epoch 124: val_loss did not improve from 0.14679\n",
            "510/510 [==============================] - 6s 12ms/step - loss: 0.1509 - accuracy: 0.9372 - val_loss: 0.1553 - val_accuracy: 0.9382\n",
            "Epoch 125/1500\n",
            "510/510 [==============================] - ETA: 0s - loss: 0.1538 - accuracy: 0.9389\n",
            "Epoch 125: val_loss improved from 0.14679 to 0.14534, saving model to ./model_PID_NN_LSTM__125_0.1538_0.1453_.hdf5\n",
            "510/510 [==============================] - 7s 14ms/step - loss: 0.1538 - accuracy: 0.9389 - val_loss: 0.1453 - val_accuracy: 0.9417\n",
            "Epoch 126/1500\n",
            "509/510 [============================>.] - ETA: 0s - loss: 0.1526 - accuracy: 0.9354\n",
            "Epoch 126: val_loss did not improve from 0.14534\n",
            "510/510 [==============================] - 7s 13ms/step - loss: 0.1525 - accuracy: 0.9354 - val_loss: 0.1611 - val_accuracy: 0.9382\n",
            "Epoch 127/1500\n",
            "507/510 [============================>.] - ETA: 0s - loss: 0.1523 - accuracy: 0.9373\n",
            "Epoch 127: val_loss did not improve from 0.14534\n",
            "510/510 [==============================] - 6s 12ms/step - loss: 0.1520 - accuracy: 0.9374 - val_loss: 0.1506 - val_accuracy: 0.9452\n",
            "Epoch 128/1500\n",
            "509/510 [============================>.] - ETA: 0s - loss: 0.1453 - accuracy: 0.9393\n",
            "Epoch 128: val_loss did not improve from 0.14534\n",
            "510/510 [==============================] - 8s 15ms/step - loss: 0.1453 - accuracy: 0.9393 - val_loss: 0.1472 - val_accuracy: 0.9470\n",
            "Epoch 129/1500\n",
            "506/510 [============================>.] - ETA: 0s - loss: 0.1484 - accuracy: 0.9389\n",
            "Epoch 129: val_loss did not improve from 0.14534\n",
            "510/510 [==============================] - 6s 12ms/step - loss: 0.1486 - accuracy: 0.9391 - val_loss: 0.1539 - val_accuracy: 0.9417\n",
            "Epoch 130/1500\n",
            "509/510 [============================>.] - ETA: 0s - loss: 0.1522 - accuracy: 0.9348\n",
            "Epoch 130: val_loss did not improve from 0.14534\n",
            "510/510 [==============================] - 8s 16ms/step - loss: 0.1526 - accuracy: 0.9344 - val_loss: 0.1508 - val_accuracy: 0.9435\n",
            "Epoch 131/1500\n",
            "508/510 [============================>.] - ETA: 0s - loss: 0.1468 - accuracy: 0.9407\n",
            "Epoch 131: val_loss did not improve from 0.14534\n",
            "510/510 [==============================] - 6s 12ms/step - loss: 0.1477 - accuracy: 0.9399 - val_loss: 0.1623 - val_accuracy: 0.9346\n",
            "Epoch 132/1500\n",
            "510/510 [==============================] - ETA: 0s - loss: 0.1527 - accuracy: 0.9389\n",
            "Epoch 132: val_loss did not improve from 0.14534\n",
            "510/510 [==============================] - 7s 13ms/step - loss: 0.1527 - accuracy: 0.9389 - val_loss: 0.1492 - val_accuracy: 0.9470\n",
            "Epoch 133/1500\n",
            "507/510 [============================>.] - ETA: 0s - loss: 0.1489 - accuracy: 0.9371\n",
            "Epoch 133: val_loss did not improve from 0.14534\n",
            "510/510 [==============================] - 7s 14ms/step - loss: 0.1487 - accuracy: 0.9372 - val_loss: 0.1493 - val_accuracy: 0.9452\n",
            "Epoch 134/1500\n",
            "507/510 [============================>.] - ETA: 0s - loss: 0.1461 - accuracy: 0.9385\n",
            "Epoch 134: val_loss did not improve from 0.14534\n",
            "510/510 [==============================] - 6s 12ms/step - loss: 0.1464 - accuracy: 0.9383 - val_loss: 0.1507 - val_accuracy: 0.9452\n",
            "Epoch 135/1500\n",
            "507/510 [============================>.] - ETA: 0s - loss: 0.1457 - accuracy: 0.9387\n",
            "Epoch 135: val_loss did not improve from 0.14534\n",
            "510/510 [==============================] - 8s 16ms/step - loss: 0.1460 - accuracy: 0.9385 - val_loss: 0.1556 - val_accuracy: 0.9470\n",
            "Epoch 136/1500\n",
            "509/510 [============================>.] - ETA: 0s - loss: 0.1487 - accuracy: 0.9397\n",
            "Epoch 136: val_loss did not improve from 0.14534\n",
            "510/510 [==============================] - 6s 12ms/step - loss: 0.1486 - accuracy: 0.9397 - val_loss: 0.1623 - val_accuracy: 0.9364\n",
            "Epoch 137/1500\n",
            "507/510 [============================>.] - ETA: 0s - loss: 0.1546 - accuracy: 0.9367\n",
            "Epoch 137: val_loss improved from 0.14534 to 0.14045, saving model to ./model_PID_NN_LSTM__137_0.1547_0.1405_.hdf5\n",
            "510/510 [==============================] - 8s 15ms/step - loss: 0.1547 - accuracy: 0.9366 - val_loss: 0.1405 - val_accuracy: 0.9417\n",
            "Epoch 138/1500\n",
            "506/510 [============================>.] - ETA: 0s - loss: 0.1499 - accuracy: 0.9407\n",
            "Epoch 138: val_loss did not improve from 0.14045\n",
            "510/510 [==============================] - 7s 13ms/step - loss: 0.1491 - accuracy: 0.9411 - val_loss: 0.1492 - val_accuracy: 0.9435\n",
            "Epoch 139/1500\n",
            "507/510 [============================>.] - ETA: 0s - loss: 0.1439 - accuracy: 0.9410\n",
            "Epoch 139: val_loss did not improve from 0.14045\n",
            "510/510 [==============================] - 6s 13ms/step - loss: 0.1440 - accuracy: 0.9411 - val_loss: 0.1479 - val_accuracy: 0.9417\n",
            "Epoch 140/1500\n",
            "509/510 [============================>.] - ETA: 0s - loss: 0.1448 - accuracy: 0.9387\n",
            "Epoch 140: val_loss did not improve from 0.14045\n",
            "510/510 [==============================] - 8s 15ms/step - loss: 0.1448 - accuracy: 0.9387 - val_loss: 0.1565 - val_accuracy: 0.9399\n",
            "Epoch 141/1500\n",
            "508/510 [============================>.] - ETA: 0s - loss: 0.1497 - accuracy: 0.9372\n",
            "Epoch 141: val_loss did not improve from 0.14045\n",
            "510/510 [==============================] - 6s 12ms/step - loss: 0.1495 - accuracy: 0.9374 - val_loss: 0.1516 - val_accuracy: 0.9452\n",
            "Epoch 142/1500\n",
            "510/510 [==============================] - ETA: 0s - loss: 0.1444 - accuracy: 0.9393\n",
            "Epoch 142: val_loss did not improve from 0.14045\n",
            "510/510 [==============================] - 8s 16ms/step - loss: 0.1444 - accuracy: 0.9393 - val_loss: 0.1539 - val_accuracy: 0.9435\n",
            "Epoch 143/1500\n",
            "507/510 [============================>.] - ETA: 0s - loss: 0.1466 - accuracy: 0.9394\n",
            "Epoch 143: val_loss did not improve from 0.14045\n",
            "510/510 [==============================] - 6s 12ms/step - loss: 0.1466 - accuracy: 0.9393 - val_loss: 0.1457 - val_accuracy: 0.9435\n",
            "Epoch 144/1500\n",
            "508/510 [============================>.] - ETA: 0s - loss: 0.1485 - accuracy: 0.9406\n",
            "Epoch 144: val_loss did not improve from 0.14045\n",
            "510/510 [==============================] - 7s 14ms/step - loss: 0.1483 - accuracy: 0.9407 - val_loss: 0.1466 - val_accuracy: 0.9452\n",
            "Epoch 145/1500\n",
            "507/510 [============================>.] - ETA: 0s - loss: 0.1431 - accuracy: 0.9396\n",
            "Epoch 145: val_loss did not improve from 0.14045\n",
            "510/510 [==============================] - 7s 14ms/step - loss: 0.1425 - accuracy: 0.9399 - val_loss: 0.1477 - val_accuracy: 0.9452\n",
            "Epoch 146/1500\n",
            "509/510 [============================>.] - ETA: 0s - loss: 0.1499 - accuracy: 0.9401\n",
            "Epoch 146: val_loss did not improve from 0.14045\n",
            "510/510 [==============================] - 6s 12ms/step - loss: 0.1498 - accuracy: 0.9401 - val_loss: 0.1595 - val_accuracy: 0.9417\n",
            "Epoch 147/1500\n",
            "510/510 [==============================] - ETA: 0s - loss: 0.1412 - accuracy: 0.9409\n",
            "Epoch 147: val_loss did not improve from 0.14045\n",
            "510/510 [==============================] - 8s 16ms/step - loss: 0.1412 - accuracy: 0.9409 - val_loss: 0.1449 - val_accuracy: 0.9470\n",
            "Epoch 148/1500\n",
            "506/510 [============================>.] - ETA: 0s - loss: 0.1425 - accuracy: 0.9354\n",
            "Epoch 148: val_loss did not improve from 0.14045\n",
            "510/510 [==============================] - 6s 12ms/step - loss: 0.1425 - accuracy: 0.9354 - val_loss: 0.1472 - val_accuracy: 0.9470\n",
            "Epoch 149/1500\n",
            "509/510 [============================>.] - ETA: 0s - loss: 0.1409 - accuracy: 0.9407\n",
            "Epoch 149: val_loss did not improve from 0.14045\n",
            "510/510 [==============================] - 7s 14ms/step - loss: 0.1409 - accuracy: 0.9407 - val_loss: 0.1436 - val_accuracy: 0.9488\n",
            "Epoch 150/1500\n",
            "506/510 [============================>.] - ETA: 0s - loss: 0.1423 - accuracy: 0.9403\n",
            "Epoch 150: val_loss did not improve from 0.14045\n",
            "510/510 [==============================] - 7s 13ms/step - loss: 0.1418 - accuracy: 0.9407 - val_loss: 0.1440 - val_accuracy: 0.9417\n",
            "Epoch 151/1500\n",
            "507/510 [============================>.] - ETA: 0s - loss: 0.1476 - accuracy: 0.9387\n",
            "Epoch 151: val_loss did not improve from 0.14045\n",
            "510/510 [==============================] - 6s 12ms/step - loss: 0.1473 - accuracy: 0.9387 - val_loss: 0.1465 - val_accuracy: 0.9435\n",
            "Epoch 152/1500\n",
            "507/510 [============================>.] - ETA: 0s - loss: 0.1442 - accuracy: 0.9412\n",
            "Epoch 152: val_loss did not improve from 0.14045\n",
            "510/510 [==============================] - 8s 15ms/step - loss: 0.1438 - accuracy: 0.9415 - val_loss: 0.1563 - val_accuracy: 0.9399\n",
            "Epoch 153/1500\n",
            "507/510 [============================>.] - ETA: 0s - loss: 0.1370 - accuracy: 0.9402\n",
            "Epoch 153: val_loss did not improve from 0.14045\n",
            "510/510 [==============================] - 6s 12ms/step - loss: 0.1369 - accuracy: 0.9403 - val_loss: 0.1481 - val_accuracy: 0.9452\n",
            "Epoch 154/1500\n",
            "509/510 [============================>.] - ETA: 0s - loss: 0.1421 - accuracy: 0.9407\n",
            "Epoch 154: val_loss improved from 0.14045 to 0.13976, saving model to ./model_PID_NN_LSTM__154_0.1424_0.1398_.hdf5\n",
            "510/510 [==============================] - 8s 15ms/step - loss: 0.1424 - accuracy: 0.9405 - val_loss: 0.1398 - val_accuracy: 0.9452\n",
            "Epoch 155/1500\n",
            "510/510 [==============================] - ETA: 0s - loss: 0.1477 - accuracy: 0.9391\n",
            "Epoch 155: val_loss did not improve from 0.13976\n",
            "510/510 [==============================] - 6s 12ms/step - loss: 0.1477 - accuracy: 0.9391 - val_loss: 0.1452 - val_accuracy: 0.9435\n",
            "Epoch 156/1500\n",
            "510/510 [==============================] - ETA: 0s - loss: 0.1374 - accuracy: 0.9444\n",
            "Epoch 156: val_loss did not improve from 0.13976\n",
            "510/510 [==============================] - 7s 14ms/step - loss: 0.1374 - accuracy: 0.9444 - val_loss: 0.1452 - val_accuracy: 0.9488\n",
            "Epoch 157/1500\n",
            "509/510 [============================>.] - ETA: 0s - loss: 0.1359 - accuracy: 0.9434\n",
            "Epoch 157: val_loss did not improve from 0.13976\n",
            "510/510 [==============================] - 7s 14ms/step - loss: 0.1358 - accuracy: 0.9434 - val_loss: 0.1422 - val_accuracy: 0.9488\n",
            "Epoch 158/1500\n",
            "510/510 [==============================] - ETA: 0s - loss: 0.1387 - accuracy: 0.9419\n",
            "Epoch 158: val_loss did not improve from 0.13976\n",
            "510/510 [==============================] - 6s 12ms/step - loss: 0.1387 - accuracy: 0.9419 - val_loss: 0.1478 - val_accuracy: 0.9399\n",
            "Epoch 159/1500\n",
            "508/510 [============================>.] - ETA: 0s - loss: 0.1389 - accuracy: 0.9392\n",
            "Epoch 159: val_loss improved from 0.13976 to 0.13962, saving model to ./model_PID_NN_LSTM__159_0.1387_0.1396_.hdf5\n",
            "510/510 [==============================] - 8s 16ms/step - loss: 0.1387 - accuracy: 0.9393 - val_loss: 0.1396 - val_accuracy: 0.9488\n",
            "Epoch 160/1500\n",
            "506/510 [============================>.] - ETA: 0s - loss: 0.1431 - accuracy: 0.9425\n",
            "Epoch 160: val_loss did not improve from 0.13962\n",
            "510/510 [==============================] - 6s 12ms/step - loss: 0.1426 - accuracy: 0.9427 - val_loss: 0.1418 - val_accuracy: 0.9452\n",
            "Epoch 161/1500\n",
            "507/510 [============================>.] - ETA: 0s - loss: 0.1391 - accuracy: 0.9416\n",
            "Epoch 161: val_loss did not improve from 0.13962\n",
            "510/510 [==============================] - 7s 14ms/step - loss: 0.1395 - accuracy: 0.9413 - val_loss: 0.1413 - val_accuracy: 0.9523\n",
            "Epoch 162/1500\n",
            "509/510 [============================>.] - ETA: 0s - loss: 0.1388 - accuracy: 0.9460\n",
            "Epoch 162: val_loss did not improve from 0.13962\n",
            "510/510 [==============================] - 7s 14ms/step - loss: 0.1394 - accuracy: 0.9458 - val_loss: 0.1468 - val_accuracy: 0.9505\n",
            "Epoch 163/1500\n",
            "510/510 [==============================] - ETA: 0s - loss: 0.1395 - accuracy: 0.9423\n",
            "Epoch 163: val_loss did not improve from 0.13962\n",
            "510/510 [==============================] - 6s 12ms/step - loss: 0.1395 - accuracy: 0.9423 - val_loss: 0.1476 - val_accuracy: 0.9558\n",
            "Epoch 164/1500\n",
            "508/510 [============================>.] - ETA: 0s - loss: 0.1384 - accuracy: 0.9409\n",
            "Epoch 164: val_loss did not improve from 0.13962\n",
            "510/510 [==============================] - 8s 16ms/step - loss: 0.1384 - accuracy: 0.9411 - val_loss: 0.1415 - val_accuracy: 0.9452\n",
            "Epoch 165/1500\n",
            "508/510 [============================>.] - ETA: 0s - loss: 0.1403 - accuracy: 0.9421\n",
            "Epoch 165: val_loss did not improve from 0.13962\n",
            "510/510 [==============================] - 6s 12ms/step - loss: 0.1407 - accuracy: 0.9421 - val_loss: 0.1465 - val_accuracy: 0.9452\n",
            "Epoch 166/1500\n",
            "510/510 [==============================] - ETA: 0s - loss: 0.1413 - accuracy: 0.9405\n",
            "Epoch 166: val_loss improved from 0.13962 to 0.13773, saving model to ./model_PID_NN_LSTM__166_0.1413_0.1377_.hdf5\n",
            "510/510 [==============================] - 7s 15ms/step - loss: 0.1413 - accuracy: 0.9405 - val_loss: 0.1377 - val_accuracy: 0.9452\n",
            "Epoch 167/1500\n",
            "510/510 [==============================] - ETA: 0s - loss: 0.1378 - accuracy: 0.9442\n",
            "Epoch 167: val_loss did not improve from 0.13773\n",
            "510/510 [==============================] - 7s 13ms/step - loss: 0.1378 - accuracy: 0.9442 - val_loss: 0.1402 - val_accuracy: 0.9435\n",
            "Epoch 168/1500\n",
            "510/510 [==============================] - ETA: 0s - loss: 0.1355 - accuracy: 0.9438\n",
            "Epoch 168: val_loss did not improve from 0.13773\n",
            "510/510 [==============================] - 6s 13ms/step - loss: 0.1355 - accuracy: 0.9438 - val_loss: 0.1559 - val_accuracy: 0.9435\n",
            "Epoch 169/1500\n",
            "507/510 [============================>.] - ETA: 0s - loss: 0.1351 - accuracy: 0.9396\n",
            "Epoch 169: val_loss did not improve from 0.13773\n",
            "510/510 [==============================] - 8s 15ms/step - loss: 0.1354 - accuracy: 0.9397 - val_loss: 0.1388 - val_accuracy: 0.9488\n",
            "Epoch 170/1500\n",
            "507/510 [============================>.] - ETA: 0s - loss: 0.1362 - accuracy: 0.9428\n",
            "Epoch 170: val_loss did not improve from 0.13773\n",
            "510/510 [==============================] - 6s 12ms/step - loss: 0.1362 - accuracy: 0.9429 - val_loss: 0.1441 - val_accuracy: 0.9452\n",
            "Epoch 171/1500\n",
            "508/510 [============================>.] - ETA: 0s - loss: 0.1381 - accuracy: 0.9425\n",
            "Epoch 171: val_loss did not improve from 0.13773\n",
            "510/510 [==============================] - 8s 15ms/step - loss: 0.1380 - accuracy: 0.9427 - val_loss: 0.1505 - val_accuracy: 0.9417\n",
            "Epoch 172/1500\n",
            "509/510 [============================>.] - ETA: 0s - loss: 0.1330 - accuracy: 0.9442\n",
            "Epoch 172: val_loss did not improve from 0.13773\n",
            "510/510 [==============================] - 6s 12ms/step - loss: 0.1330 - accuracy: 0.9442 - val_loss: 0.1418 - val_accuracy: 0.9505\n",
            "Epoch 173/1500\n",
            "509/510 [============================>.] - ETA: 0s - loss: 0.1425 - accuracy: 0.9399\n",
            "Epoch 173: val_loss did not improve from 0.13773\n",
            "510/510 [==============================] - 7s 13ms/step - loss: 0.1424 - accuracy: 0.9399 - val_loss: 0.1479 - val_accuracy: 0.9452\n",
            "Epoch 174/1500\n",
            "506/510 [============================>.] - ETA: 0s - loss: 0.1320 - accuracy: 0.9423\n",
            "Epoch 174: val_loss did not improve from 0.13773\n",
            "510/510 [==============================] - 8s 15ms/step - loss: 0.1318 - accuracy: 0.9423 - val_loss: 0.1438 - val_accuracy: 0.9452\n",
            "Epoch 175/1500\n",
            "507/510 [============================>.] - ETA: 0s - loss: 0.1326 - accuracy: 0.9454\n",
            "Epoch 175: val_loss did not improve from 0.13773\n",
            "510/510 [==============================] - 6s 12ms/step - loss: 0.1330 - accuracy: 0.9450 - val_loss: 0.1473 - val_accuracy: 0.9452\n",
            "Epoch 176/1500\n",
            "507/510 [============================>.] - ETA: 0s - loss: 0.1367 - accuracy: 0.9438\n",
            "Epoch 176: val_loss did not improve from 0.13773\n",
            "510/510 [==============================] - 8s 16ms/step - loss: 0.1363 - accuracy: 0.9440 - val_loss: 0.1536 - val_accuracy: 0.9435\n",
            "Epoch 177/1500\n",
            "508/510 [============================>.] - ETA: 0s - loss: 0.1371 - accuracy: 0.9455\n",
            "Epoch 177: val_loss did not improve from 0.13773\n",
            "510/510 [==============================] - 6s 12ms/step - loss: 0.1372 - accuracy: 0.9454 - val_loss: 0.1544 - val_accuracy: 0.9470\n",
            "Epoch 178/1500\n",
            "508/510 [============================>.] - ETA: 0s - loss: 0.1370 - accuracy: 0.9431\n",
            "Epoch 178: val_loss did not improve from 0.13773\n",
            "510/510 [==============================] - 7s 14ms/step - loss: 0.1368 - accuracy: 0.9432 - val_loss: 0.1431 - val_accuracy: 0.9452\n",
            "Epoch 179/1500\n",
            "506/510 [============================>.] - ETA: 0s - loss: 0.1330 - accuracy: 0.9441\n",
            "Epoch 179: val_loss did not improve from 0.13773\n",
            "510/510 [==============================] - 7s 14ms/step - loss: 0.1332 - accuracy: 0.9438 - val_loss: 0.1611 - val_accuracy: 0.9258\n",
            "Epoch 180/1500\n",
            "508/510 [============================>.] - ETA: 0s - loss: 0.1343 - accuracy: 0.9441\n",
            "Epoch 180: val_loss did not improve from 0.13773\n",
            "510/510 [==============================] - 6s 12ms/step - loss: 0.1344 - accuracy: 0.9440 - val_loss: 0.1445 - val_accuracy: 0.9417\n",
            "Epoch 181/1500\n",
            "509/510 [============================>.] - ETA: 0s - loss: 0.1335 - accuracy: 0.9422\n",
            "Epoch 181: val_loss did not improve from 0.13773\n",
            "510/510 [==============================] - 8s 16ms/step - loss: 0.1335 - accuracy: 0.9423 - val_loss: 0.1456 - val_accuracy: 0.9488\n",
            "Epoch 182/1500\n",
            "510/510 [==============================] - ETA: 0s - loss: 0.1389 - accuracy: 0.9436\n",
            "Epoch 182: val_loss did not improve from 0.13773\n",
            "510/510 [==============================] - 6s 12ms/step - loss: 0.1389 - accuracy: 0.9436 - val_loss: 0.1434 - val_accuracy: 0.9452\n",
            "Epoch 183/1500\n",
            "510/510 [==============================] - ETA: 0s - loss: 0.1326 - accuracy: 0.9427\n",
            "Epoch 183: val_loss did not improve from 0.13773\n",
            "510/510 [==============================] - 7s 14ms/step - loss: 0.1326 - accuracy: 0.9427 - val_loss: 0.1453 - val_accuracy: 0.9488\n",
            "Epoch 184/1500\n",
            "509/510 [============================>.] - ETA: 0s - loss: 0.1285 - accuracy: 0.9470\n",
            "Epoch 184: val_loss did not improve from 0.13773\n",
            "510/510 [==============================] - 7s 14ms/step - loss: 0.1285 - accuracy: 0.9470 - val_loss: 0.1582 - val_accuracy: 0.9452\n",
            "Epoch 185/1500\n",
            "507/510 [============================>.] - ETA: 0s - loss: 0.1338 - accuracy: 0.9464\n",
            "Epoch 185: val_loss did not improve from 0.13773\n",
            "510/510 [==============================] - 6s 12ms/step - loss: 0.1340 - accuracy: 0.9462 - val_loss: 0.1496 - val_accuracy: 0.9505\n",
            "Epoch 186/1500\n",
            "510/510 [==============================] - ETA: 0s - loss: 0.1316 - accuracy: 0.9432\n",
            "Epoch 186: val_loss did not improve from 0.13773\n",
            "510/510 [==============================] - 8s 16ms/step - loss: 0.1316 - accuracy: 0.9432 - val_loss: 0.1500 - val_accuracy: 0.9488\n",
            "Epoch 187/1500\n",
            "507/510 [============================>.] - ETA: 0s - loss: 0.1332 - accuracy: 0.9428\n",
            "Epoch 187: val_loss did not improve from 0.13773\n",
            "510/510 [==============================] - 6s 12ms/step - loss: 0.1336 - accuracy: 0.9425 - val_loss: 0.1475 - val_accuracy: 0.9452\n",
            "Epoch 188/1500\n",
            "507/510 [============================>.] - ETA: 0s - loss: 0.1327 - accuracy: 0.9446\n",
            "Epoch 188: val_loss did not improve from 0.13773\n",
            "510/510 [==============================] - 7s 14ms/step - loss: 0.1323 - accuracy: 0.9448 - val_loss: 0.1490 - val_accuracy: 0.9488\n",
            "Epoch 189/1500\n",
            "507/510 [============================>.] - ETA: 0s - loss: 0.1322 - accuracy: 0.9436\n",
            "Epoch 189: val_loss did not improve from 0.13773\n",
            "510/510 [==============================] - 7s 13ms/step - loss: 0.1319 - accuracy: 0.9438 - val_loss: 0.1418 - val_accuracy: 0.9435\n",
            "Epoch 190/1500\n",
            "508/510 [============================>.] - ETA: 0s - loss: 0.1323 - accuracy: 0.9451\n",
            "Epoch 190: val_loss did not improve from 0.13773\n",
            "510/510 [==============================] - 6s 12ms/step - loss: 0.1321 - accuracy: 0.9452 - val_loss: 0.1512 - val_accuracy: 0.9452\n",
            "Epoch 191/1500\n",
            "510/510 [==============================] - ETA: 0s - loss: 0.1418 - accuracy: 0.9448\n",
            "Epoch 191: val_loss did not improve from 0.13773\n",
            "510/510 [==============================] - 8s 16ms/step - loss: 0.1418 - accuracy: 0.9448 - val_loss: 0.1466 - val_accuracy: 0.9452\n",
            "Epoch 192/1500\n",
            "509/510 [============================>.] - ETA: 0s - loss: 0.1294 - accuracy: 0.9460\n",
            "Epoch 192: val_loss did not improve from 0.13773\n",
            "510/510 [==============================] - 6s 12ms/step - loss: 0.1293 - accuracy: 0.9460 - val_loss: 0.1426 - val_accuracy: 0.9470\n",
            "Epoch 193/1500\n",
            "509/510 [============================>.] - ETA: 0s - loss: 0.1296 - accuracy: 0.9436\n",
            "Epoch 193: val_loss did not improve from 0.13773\n",
            "510/510 [==============================] - 7s 14ms/step - loss: 0.1296 - accuracy: 0.9436 - val_loss: 0.1391 - val_accuracy: 0.9435\n",
            "Epoch 194/1500\n",
            "509/510 [============================>.] - ETA: 0s - loss: 0.1325 - accuracy: 0.9446\n",
            "Epoch 194: val_loss did not improve from 0.13773\n",
            "510/510 [==============================] - 7s 13ms/step - loss: 0.1325 - accuracy: 0.9446 - val_loss: 0.1448 - val_accuracy: 0.9505\n",
            "Epoch 195/1500\n",
            "510/510 [==============================] - ETA: 0s - loss: 0.1341 - accuracy: 0.9407\n",
            "Epoch 195: val_loss did not improve from 0.13773\n",
            "510/510 [==============================] - 6s 13ms/step - loss: 0.1341 - accuracy: 0.9407 - val_loss: 0.1406 - val_accuracy: 0.9488\n",
            "Epoch 196/1500\n",
            "507/510 [============================>.] - ETA: 0s - loss: 0.1328 - accuracy: 0.9448\n",
            "Epoch 196: val_loss did not improve from 0.13773\n",
            "510/510 [==============================] - 8s 15ms/step - loss: 0.1329 - accuracy: 0.9446 - val_loss: 0.1516 - val_accuracy: 0.9417\n",
            "Epoch 197/1500\n",
            "509/510 [============================>.] - ETA: 0s - loss: 0.1294 - accuracy: 0.9468\n",
            "Epoch 197: val_loss did not improve from 0.13773\n",
            "510/510 [==============================] - 6s 12ms/step - loss: 0.1295 - accuracy: 0.9468 - val_loss: 0.1426 - val_accuracy: 0.9488\n",
            "Epoch 198/1500\n",
            "507/510 [============================>.] - ETA: 0s - loss: 0.1296 - accuracy: 0.9448\n",
            "Epoch 198: val_loss did not improve from 0.13773\n",
            "510/510 [==============================] - 8s 15ms/step - loss: 0.1292 - accuracy: 0.9450 - val_loss: 0.1417 - val_accuracy: 0.9488\n",
            "Epoch 199/1500\n",
            "510/510 [==============================] - ETA: 0s - loss: 0.1316 - accuracy: 0.9444\n",
            "Epoch 199: val_loss did not improve from 0.13773\n",
            "510/510 [==============================] - 7s 13ms/step - loss: 0.1316 - accuracy: 0.9444 - val_loss: 0.1478 - val_accuracy: 0.9470\n",
            "Epoch 200/1500\n",
            " 39/510 [=>............................] - ETA: 5s - loss: 0.1339 - accuracy: 0.9513"
          ]
        }
      ]
    }
  ]
}